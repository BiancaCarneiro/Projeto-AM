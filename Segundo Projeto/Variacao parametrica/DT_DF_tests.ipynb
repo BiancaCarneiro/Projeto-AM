{
  "cells": [
    {
      "cell_type": "markdown",
      "metadata": {
        "id": "qPejp4ZAs73O"
      },
      "source": [
        "# Datasets"
      ]
    },
    {
      "cell_type": "markdown",
      "metadata": {
        "id": "cVPUwyfkpp35"
      },
      "source": [
        "Teste planejados:\n",
        "  1. Teste com diferentes dataset (Somente normalizado, Nomalizado e oversampling e normalizado e under sampling)\n",
        "  2. Teste de hiperparametros\n",
        "\n",
        "Qual vai ser a metodologia? Primeiro vou testar os 3 datasets com a condições default para ter a baseline e depois vou testar os 3 com os melhores parametros achados pelo GridSearch 2 vezes (2 vezes buscando os melhores resultados)"
      ]
    },
    {
      "cell_type": "code",
      "execution_count": 9,
      "metadata": {
        "id": "oWOpQcYMqNgP"
      },
      "outputs": [
        {
          "name": "stderr",
          "output_type": "stream",
          "text": [
            "C:\\Users\\mathe\\AppData\\Local\\Temp\\ipykernel_5700\\4080736814.py:1: DeprecationWarning: \n",
            "Pyarrow will become a required dependency of pandas in the next major release of pandas (pandas 3.0),\n",
            "(to allow more performant data types, such as the Arrow string type, and better interoperability with other libraries)\n",
            "but was not found to be installed on your system.\n",
            "If this would cause problems for you,\n",
            "please provide us feedback at https://github.com/pandas-dev/pandas/issues/54466\n",
            "        \n",
            "  import pandas as pd\n"
          ]
        }
      ],
      "source": [
        "import pandas as pd"
      ]
    },
    {
      "cell_type": "code",
      "execution_count": 10,
      "metadata": {
        "colab": {
          "base_uri": "https://localhost:8080/"
        },
        "id": "gbruM13rpLCM",
        "outputId": "0552b006-845f-4fbf-aa2f-2666c22e91f0"
      },
      "outputs": [
        {
          "name": "stdout",
          "output_type": "stream",
          "text": [
            "<class 'pandas.core.frame.DataFrame'>\n",
            "RangeIndex: 6819 entries, 0 to 6818\n",
            "Data columns (total 94 columns):\n",
            " #   Column                                                   Non-Null Count  Dtype  \n",
            "---  ------                                                   --------------  -----  \n",
            " 0   Bankrupt?                                                6819 non-null   int64  \n",
            " 1   ROA(C) before interest and depreciation before interest  6819 non-null   float64\n",
            " 2   ROA(A) before interest and % after tax                   6819 non-null   float64\n",
            " 3   ROA(B) before interest and depreciation after tax        6819 non-null   float64\n",
            " 4   Operating Gross Margin                                   6819 non-null   float64\n",
            " 5   Realized Sales Gross Margin                              6819 non-null   float64\n",
            " 6   Operating Profit Rate                                    6819 non-null   float64\n",
            " 7   Pre-tax net Interest Rate                                6819 non-null   float64\n",
            " 8   After-tax net Interest Rate                              6819 non-null   float64\n",
            " 9   Non-industry income and expenditure/revenue              6819 non-null   float64\n",
            " 10  Continuous interest rate (after tax)                     6819 non-null   float64\n",
            " 11  Operating Expense Rate                                   6819 non-null   float64\n",
            " 12  Research and development expense rate                    6819 non-null   float64\n",
            " 13  Cash flow rate                                           6819 non-null   float64\n",
            " 14  Interest-bearing debt interest rate                      6819 non-null   float64\n",
            " 15  Tax rate (A)                                             6819 non-null   float64\n",
            " 16  Net Value Per Share (B)                                  6819 non-null   float64\n",
            " 17  Net Value Per Share (A)                                  6819 non-null   float64\n",
            " 18  Net Value Per Share (C)                                  6819 non-null   float64\n",
            " 19  Persistent EPS in the Last Four Seasons                  6819 non-null   float64\n",
            " 20  Cash Flow Per Share                                      6819 non-null   float64\n",
            " 21  Revenue Per Share (Yuan ¥)                               6819 non-null   float64\n",
            " 22  Operating Profit Per Share (Yuan ¥)                      6819 non-null   float64\n",
            " 23  Per Share Net profit before tax (Yuan ¥)                 6819 non-null   float64\n",
            " 24  Realized Sales Gross Profit Growth Rate                  6819 non-null   float64\n",
            " 25  Operating Profit Growth Rate                             6819 non-null   float64\n",
            " 26  After-tax Net Profit Growth Rate                         6819 non-null   float64\n",
            " 27  Regular Net Profit Growth Rate                           6819 non-null   float64\n",
            " 28  Continuous Net Profit Growth Rate                        6819 non-null   float64\n",
            " 29  Total Asset Growth Rate                                  6819 non-null   float64\n",
            " 30  Net Value Growth Rate                                    6819 non-null   float64\n",
            " 31  Total Asset Return Growth Rate Ratio                     6819 non-null   float64\n",
            " 32  Cash Reinvestment %                                      6819 non-null   float64\n",
            " 33  Current Ratio                                            6819 non-null   float64\n",
            " 34  Quick Ratio                                              6819 non-null   float64\n",
            " 35  Interest Expense Ratio                                   6819 non-null   float64\n",
            " 36  Total debt/Total net worth                               6819 non-null   float64\n",
            " 37  Debt ratio %                                             6819 non-null   float64\n",
            " 38  Net worth/Assets                                         6819 non-null   float64\n",
            " 39  Long-term fund suitability ratio (A)                     6819 non-null   float64\n",
            " 40  Borrowing dependency                                     6819 non-null   float64\n",
            " 41  Contingent liabilities/Net worth                         6819 non-null   float64\n",
            " 42  Operating profit/Paid-in capital                         6819 non-null   float64\n",
            " 43  Net profit before tax/Paid-in capital                    6819 non-null   float64\n",
            " 44  Inventory and accounts receivable/Net value              6819 non-null   float64\n",
            " 45  Total Asset Turnover                                     6819 non-null   float64\n",
            " 46  Accounts Receivable Turnover                             6819 non-null   float64\n",
            " 47  Average Collection Days                                  6819 non-null   float64\n",
            " 48  Inventory Turnover Rate (times)                          6819 non-null   float64\n",
            " 49  Fixed Assets Turnover Frequency                          6819 non-null   float64\n",
            " 50  Net Worth Turnover Rate (times)                          6819 non-null   float64\n",
            " 51  Revenue per person                                       6819 non-null   float64\n",
            " 52  Operating profit per person                              6819 non-null   float64\n",
            " 53  Allocation rate per person                               6819 non-null   float64\n",
            " 54  Working Capital to Total Assets                          6819 non-null   float64\n",
            " 55  Quick Assets/Total Assets                                6819 non-null   float64\n",
            " 56  Current Assets/Total Assets                              6819 non-null   float64\n",
            " 57  Cash/Total Assets                                        6819 non-null   float64\n",
            " 58  Quick Assets/Current Liability                           6819 non-null   float64\n",
            " 59  Cash/Current Liability                                   6819 non-null   float64\n",
            " 60  Current Liability to Assets                              6819 non-null   float64\n",
            " 61  Operating Funds to Liability                             6819 non-null   float64\n",
            " 62  Inventory/Working Capital                                6819 non-null   float64\n",
            " 63  Inventory/Current Liability                              6819 non-null   float64\n",
            " 64  Current Liabilities/Liability                            6819 non-null   float64\n",
            " 65  Working Capital/Equity                                   6819 non-null   float64\n",
            " 66  Current Liabilities/Equity                               6819 non-null   float64\n",
            " 67  Long-term Liability to Current Assets                    6819 non-null   float64\n",
            " 68  Retained Earnings to Total Assets                        6819 non-null   float64\n",
            " 69  Total income/Total expense                               6819 non-null   float64\n",
            " 70  Total expense/Assets                                     6819 non-null   float64\n",
            " 71  Current Asset Turnover Rate                              6819 non-null   float64\n",
            " 72  Quick Asset Turnover Rate                                6819 non-null   float64\n",
            " 73  Working capitcal Turnover Rate                           6819 non-null   float64\n",
            " 74  Cash Turnover Rate                                       6819 non-null   float64\n",
            " 75  Cash Flow to Sales                                       6819 non-null   float64\n",
            " 76  Fixed Assets to Assets                                   6819 non-null   float64\n",
            " 77  Current Liability to Liability                           6819 non-null   float64\n",
            " 78  Current Liability to Equity                              6819 non-null   float64\n",
            " 79  Equity to Long-term Liability                            6819 non-null   float64\n",
            " 80  Cash Flow to Total Assets                                6819 non-null   float64\n",
            " 81  Cash Flow to Liability                                   6819 non-null   float64\n",
            " 82  CFO to Assets                                            6819 non-null   float64\n",
            " 83  Cash Flow to Equity                                      6819 non-null   float64\n",
            " 84  Current Liability to Current Assets                      6819 non-null   float64\n",
            " 85  Net Income to Total Assets                               6819 non-null   float64\n",
            " 86  Total assets to GNP price                                6819 non-null   float64\n",
            " 87  No-credit Interval                                       6819 non-null   float64\n",
            " 88  Gross Profit to Sales                                    6819 non-null   float64\n",
            " 89  Net Income to Stockholder's Equity                       6819 non-null   float64\n",
            " 90  Liability to Equity                                      6819 non-null   float64\n",
            " 91  Degree of Financial Leverage (DFL)                       6819 non-null   float64\n",
            " 92  Interest Coverage Ratio (Interest expense to EBIT)       6819 non-null   float64\n",
            " 93  Equity to Liability                                      6819 non-null   float64\n",
            "dtypes: float64(93), int64(1)\n",
            "memory usage: 4.9 MB\n"
          ]
        }
      ],
      "source": [
        "df_norm = pd.read_csv('../datasets/data_normalizada.csv')\n",
        "df_norm.info()"
      ]
    },
    {
      "cell_type": "code",
      "execution_count": 11,
      "metadata": {
        "colab": {
          "base_uri": "https://localhost:8080/"
        },
        "id": "0hEqNpn7q41A",
        "outputId": "61027314-0805-45a0-a3d7-01d49c01ca8e"
      },
      "outputs": [
        {
          "name": "stdout",
          "output_type": "stream",
          "text": [
            "<class 'pandas.core.frame.DataFrame'>\n",
            "RangeIndex: 7924 entries, 0 to 7923\n",
            "Data columns (total 94 columns):\n",
            " #   Column                                                   Non-Null Count  Dtype  \n",
            "---  ------                                                   --------------  -----  \n",
            " 0   Bankrupt?                                                7924 non-null   int64  \n",
            " 1   ROA(C) before interest and depreciation before interest  7924 non-null   float64\n",
            " 2   ROA(A) before interest and % after tax                   7924 non-null   float64\n",
            " 3   ROA(B) before interest and depreciation after tax        7924 non-null   float64\n",
            " 4   Operating Gross Margin                                   7924 non-null   float64\n",
            " 5   Realized Sales Gross Margin                              7924 non-null   float64\n",
            " 6   Operating Profit Rate                                    7924 non-null   float64\n",
            " 7   Pre-tax net Interest Rate                                7924 non-null   float64\n",
            " 8   After-tax net Interest Rate                              7924 non-null   float64\n",
            " 9   Non-industry income and expenditure/revenue              7924 non-null   float64\n",
            " 10  Continuous interest rate (after tax)                     7924 non-null   float64\n",
            " 11  Operating Expense Rate                                   7924 non-null   float64\n",
            " 12  Research and development expense rate                    7924 non-null   float64\n",
            " 13  Cash flow rate                                           7924 non-null   float64\n",
            " 14  Interest-bearing debt interest rate                      7924 non-null   float64\n",
            " 15  Tax rate (A)                                             7924 non-null   float64\n",
            " 16  Net Value Per Share (B)                                  7924 non-null   float64\n",
            " 17  Net Value Per Share (A)                                  7924 non-null   float64\n",
            " 18  Net Value Per Share (C)                                  7924 non-null   float64\n",
            " 19  Persistent EPS in the Last Four Seasons                  7924 non-null   float64\n",
            " 20  Cash Flow Per Share                                      7924 non-null   float64\n",
            " 21  Revenue Per Share (Yuan ¥)                               7924 non-null   float64\n",
            " 22  Operating Profit Per Share (Yuan ¥)                      7924 non-null   float64\n",
            " 23  Per Share Net profit before tax (Yuan ¥)                 7924 non-null   float64\n",
            " 24  Realized Sales Gross Profit Growth Rate                  7924 non-null   float64\n",
            " 25  Operating Profit Growth Rate                             7924 non-null   float64\n",
            " 26  After-tax Net Profit Growth Rate                         7924 non-null   float64\n",
            " 27  Regular Net Profit Growth Rate                           7924 non-null   float64\n",
            " 28  Continuous Net Profit Growth Rate                        7924 non-null   float64\n",
            " 29  Total Asset Growth Rate                                  7924 non-null   float64\n",
            " 30  Net Value Growth Rate                                    7924 non-null   float64\n",
            " 31  Total Asset Return Growth Rate Ratio                     7924 non-null   float64\n",
            " 32  Cash Reinvestment %                                      7924 non-null   float64\n",
            " 33  Current Ratio                                            7924 non-null   float64\n",
            " 34  Quick Ratio                                              7924 non-null   float64\n",
            " 35  Interest Expense Ratio                                   7924 non-null   float64\n",
            " 36  Total debt/Total net worth                               7924 non-null   float64\n",
            " 37  Debt ratio %                                             7924 non-null   float64\n",
            " 38  Net worth/Assets                                         7924 non-null   float64\n",
            " 39  Long-term fund suitability ratio (A)                     7924 non-null   float64\n",
            " 40  Borrowing dependency                                     7924 non-null   float64\n",
            " 41  Contingent liabilities/Net worth                         7924 non-null   float64\n",
            " 42  Operating profit/Paid-in capital                         7924 non-null   float64\n",
            " 43  Net profit before tax/Paid-in capital                    7924 non-null   float64\n",
            " 44  Inventory and accounts receivable/Net value              7924 non-null   float64\n",
            " 45  Total Asset Turnover                                     7924 non-null   float64\n",
            " 46  Accounts Receivable Turnover                             7924 non-null   float64\n",
            " 47  Average Collection Days                                  7924 non-null   float64\n",
            " 48  Inventory Turnover Rate (times)                          7924 non-null   float64\n",
            " 49  Fixed Assets Turnover Frequency                          7924 non-null   float64\n",
            " 50  Net Worth Turnover Rate (times)                          7924 non-null   float64\n",
            " 51  Revenue per person                                       7924 non-null   float64\n",
            " 52  Operating profit per person                              7924 non-null   float64\n",
            " 53  Allocation rate per person                               7924 non-null   float64\n",
            " 54  Working Capital to Total Assets                          7924 non-null   float64\n",
            " 55  Quick Assets/Total Assets                                7924 non-null   float64\n",
            " 56  Current Assets/Total Assets                              7924 non-null   float64\n",
            " 57  Cash/Total Assets                                        7924 non-null   float64\n",
            " 58  Quick Assets/Current Liability                           7924 non-null   float64\n",
            " 59  Cash/Current Liability                                   7924 non-null   float64\n",
            " 60  Current Liability to Assets                              7924 non-null   float64\n",
            " 61  Operating Funds to Liability                             7924 non-null   float64\n",
            " 62  Inventory/Working Capital                                7924 non-null   float64\n",
            " 63  Inventory/Current Liability                              7924 non-null   float64\n",
            " 64  Current Liabilities/Liability                            7924 non-null   float64\n",
            " 65  Working Capital/Equity                                   7924 non-null   float64\n",
            " 66  Current Liabilities/Equity                               7924 non-null   float64\n",
            " 67  Long-term Liability to Current Assets                    7924 non-null   float64\n",
            " 68  Retained Earnings to Total Assets                        7924 non-null   float64\n",
            " 69  Total income/Total expense                               7924 non-null   float64\n",
            " 70  Total expense/Assets                                     7924 non-null   float64\n",
            " 71  Current Asset Turnover Rate                              7924 non-null   float64\n",
            " 72  Quick Asset Turnover Rate                                7924 non-null   float64\n",
            " 73  Working capitcal Turnover Rate                           7924 non-null   float64\n",
            " 74  Cash Turnover Rate                                       7924 non-null   float64\n",
            " 75  Cash Flow to Sales                                       7924 non-null   float64\n",
            " 76  Fixed Assets to Assets                                   7924 non-null   float64\n",
            " 77  Current Liability to Liability                           7924 non-null   float64\n",
            " 78  Current Liability to Equity                              7924 non-null   float64\n",
            " 79  Equity to Long-term Liability                            7924 non-null   float64\n",
            " 80  Cash Flow to Total Assets                                7924 non-null   float64\n",
            " 81  Cash Flow to Liability                                   7924 non-null   float64\n",
            " 82  CFO to Assets                                            7924 non-null   float64\n",
            " 83  Cash Flow to Equity                                      7924 non-null   float64\n",
            " 84  Current Liability to Current Assets                      7924 non-null   float64\n",
            " 85  Net Income to Total Assets                               7924 non-null   float64\n",
            " 86  Total assets to GNP price                                7924 non-null   float64\n",
            " 87  No-credit Interval                                       7924 non-null   float64\n",
            " 88  Gross Profit to Sales                                    7924 non-null   float64\n",
            " 89  Net Income to Stockholder's Equity                       7924 non-null   float64\n",
            " 90  Liability to Equity                                      7924 non-null   float64\n",
            " 91  Degree of Financial Leverage (DFL)                       7924 non-null   float64\n",
            " 92  Interest Coverage Ratio (Interest expense to EBIT)       7924 non-null   float64\n",
            " 93  Equity to Liability                                      7924 non-null   float64\n",
            "dtypes: float64(93), int64(1)\n",
            "memory usage: 5.7 MB\n"
          ]
        }
      ],
      "source": [
        "df_over = pd.read_csv('../datasets/data_smote.csv')\n",
        "df_over.info()"
      ]
    },
    {
      "cell_type": "code",
      "execution_count": 12,
      "metadata": {
        "colab": {
          "base_uri": "https://localhost:8080/"
        },
        "id": "2kX3niIEq12W",
        "outputId": "d39c98cf-476c-4c47-ca0a-4e66593c8042"
      },
      "outputs": [
        {
          "name": "stdout",
          "output_type": "stream",
          "text": [
            "<class 'pandas.core.frame.DataFrame'>\n",
            "RangeIndex: 258 entries, 0 to 257\n",
            "Data columns (total 94 columns):\n",
            " #   Column                                                   Non-Null Count  Dtype  \n",
            "---  ------                                                   --------------  -----  \n",
            " 0   Bankrupt?                                                258 non-null    int64  \n",
            " 1   ROA(C) before interest and depreciation before interest  258 non-null    float64\n",
            " 2   ROA(A) before interest and % after tax                   258 non-null    float64\n",
            " 3   ROA(B) before interest and depreciation after tax        258 non-null    float64\n",
            " 4   Operating Gross Margin                                   258 non-null    float64\n",
            " 5   Realized Sales Gross Margin                              258 non-null    float64\n",
            " 6   Operating Profit Rate                                    258 non-null    float64\n",
            " 7   Pre-tax net Interest Rate                                258 non-null    float64\n",
            " 8   After-tax net Interest Rate                              258 non-null    float64\n",
            " 9   Non-industry income and expenditure/revenue              258 non-null    float64\n",
            " 10  Continuous interest rate (after tax)                     258 non-null    float64\n",
            " 11  Operating Expense Rate                                   258 non-null    float64\n",
            " 12  Research and development expense rate                    258 non-null    float64\n",
            " 13  Cash flow rate                                           258 non-null    float64\n",
            " 14  Interest-bearing debt interest rate                      258 non-null    float64\n",
            " 15  Tax rate (A)                                             258 non-null    float64\n",
            " 16  Net Value Per Share (B)                                  258 non-null    float64\n",
            " 17  Net Value Per Share (A)                                  258 non-null    float64\n",
            " 18  Net Value Per Share (C)                                  258 non-null    float64\n",
            " 19  Persistent EPS in the Last Four Seasons                  258 non-null    float64\n",
            " 20  Cash Flow Per Share                                      258 non-null    float64\n",
            " 21  Revenue Per Share (Yuan ¥)                               258 non-null    float64\n",
            " 22  Operating Profit Per Share (Yuan ¥)                      258 non-null    float64\n",
            " 23  Per Share Net profit before tax (Yuan ¥)                 258 non-null    float64\n",
            " 24  Realized Sales Gross Profit Growth Rate                  258 non-null    float64\n",
            " 25  Operating Profit Growth Rate                             258 non-null    float64\n",
            " 26  After-tax Net Profit Growth Rate                         258 non-null    float64\n",
            " 27  Regular Net Profit Growth Rate                           258 non-null    float64\n",
            " 28  Continuous Net Profit Growth Rate                        258 non-null    float64\n",
            " 29  Total Asset Growth Rate                                  258 non-null    float64\n",
            " 30  Net Value Growth Rate                                    258 non-null    float64\n",
            " 31  Total Asset Return Growth Rate Ratio                     258 non-null    float64\n",
            " 32  Cash Reinvestment %                                      258 non-null    float64\n",
            " 33  Current Ratio                                            258 non-null    float64\n",
            " 34  Quick Ratio                                              258 non-null    float64\n",
            " 35  Interest Expense Ratio                                   258 non-null    float64\n",
            " 36  Total debt/Total net worth                               258 non-null    float64\n",
            " 37  Debt ratio %                                             258 non-null    float64\n",
            " 38  Net worth/Assets                                         258 non-null    float64\n",
            " 39  Long-term fund suitability ratio (A)                     258 non-null    float64\n",
            " 40  Borrowing dependency                                     258 non-null    float64\n",
            " 41  Contingent liabilities/Net worth                         258 non-null    float64\n",
            " 42  Operating profit/Paid-in capital                         258 non-null    float64\n",
            " 43  Net profit before tax/Paid-in capital                    258 non-null    float64\n",
            " 44  Inventory and accounts receivable/Net value              258 non-null    float64\n",
            " 45  Total Asset Turnover                                     258 non-null    float64\n",
            " 46  Accounts Receivable Turnover                             258 non-null    float64\n",
            " 47  Average Collection Days                                  258 non-null    float64\n",
            " 48  Inventory Turnover Rate (times)                          258 non-null    float64\n",
            " 49  Fixed Assets Turnover Frequency                          258 non-null    float64\n",
            " 50  Net Worth Turnover Rate (times)                          258 non-null    float64\n",
            " 51  Revenue per person                                       258 non-null    float64\n",
            " 52  Operating profit per person                              258 non-null    float64\n",
            " 53  Allocation rate per person                               258 non-null    float64\n",
            " 54  Working Capital to Total Assets                          258 non-null    float64\n",
            " 55  Quick Assets/Total Assets                                258 non-null    float64\n",
            " 56  Current Assets/Total Assets                              258 non-null    float64\n",
            " 57  Cash/Total Assets                                        258 non-null    float64\n",
            " 58  Quick Assets/Current Liability                           258 non-null    float64\n",
            " 59  Cash/Current Liability                                   258 non-null    float64\n",
            " 60  Current Liability to Assets                              258 non-null    float64\n",
            " 61  Operating Funds to Liability                             258 non-null    float64\n",
            " 62  Inventory/Working Capital                                258 non-null    float64\n",
            " 63  Inventory/Current Liability                              258 non-null    float64\n",
            " 64  Current Liabilities/Liability                            258 non-null    float64\n",
            " 65  Working Capital/Equity                                   258 non-null    float64\n",
            " 66  Current Liabilities/Equity                               258 non-null    float64\n",
            " 67  Long-term Liability to Current Assets                    258 non-null    float64\n",
            " 68  Retained Earnings to Total Assets                        258 non-null    float64\n",
            " 69  Total income/Total expense                               258 non-null    float64\n",
            " 70  Total expense/Assets                                     258 non-null    float64\n",
            " 71  Current Asset Turnover Rate                              258 non-null    float64\n",
            " 72  Quick Asset Turnover Rate                                258 non-null    float64\n",
            " 73  Working capitcal Turnover Rate                           258 non-null    float64\n",
            " 74  Cash Turnover Rate                                       258 non-null    float64\n",
            " 75  Cash Flow to Sales                                       258 non-null    float64\n",
            " 76  Fixed Assets to Assets                                   258 non-null    float64\n",
            " 77  Current Liability to Liability                           258 non-null    float64\n",
            " 78  Current Liability to Equity                              258 non-null    float64\n",
            " 79  Equity to Long-term Liability                            258 non-null    float64\n",
            " 80  Cash Flow to Total Assets                                258 non-null    float64\n",
            " 81  Cash Flow to Liability                                   258 non-null    float64\n",
            " 82  CFO to Assets                                            258 non-null    float64\n",
            " 83  Cash Flow to Equity                                      258 non-null    float64\n",
            " 84  Current Liability to Current Assets                      258 non-null    float64\n",
            " 85  Net Income to Total Assets                               258 non-null    float64\n",
            " 86  Total assets to GNP price                                258 non-null    float64\n",
            " 87  No-credit Interval                                       258 non-null    float64\n",
            " 88  Gross Profit to Sales                                    258 non-null    float64\n",
            " 89  Net Income to Stockholder's Equity                       258 non-null    float64\n",
            " 90  Liability to Equity                                      258 non-null    float64\n",
            " 91  Degree of Financial Leverage (DFL)                       258 non-null    float64\n",
            " 92  Interest Coverage Ratio (Interest expense to EBIT)       258 non-null    float64\n",
            " 93  Equity to Liability                                      258 non-null    float64\n",
            "dtypes: float64(93), int64(1)\n",
            "memory usage: 189.6 KB\n"
          ]
        }
      ],
      "source": [
        "df_under = pd.read_csv('../datasets/data_under.csv')\n",
        "df_under.info()"
      ]
    },
    {
      "cell_type": "markdown",
      "metadata": {
        "id": "iAY7-C8Br74w"
      },
      "source": [
        "Dividindo entre treino e teste"
      ]
    },
    {
      "cell_type": "markdown",
      "metadata": {
        "id": "VAKRs9qos4w9"
      },
      "source": [
        "# Baselines"
      ]
    },
    {
      "cell_type": "code",
      "execution_count": 13,
      "metadata": {
        "id": "aEN6v9BCvt85"
      },
      "outputs": [],
      "source": [
        "from sklearn.tree import DecisionTreeClassifier\n",
        "from sklearn.ensemble import RandomForestClassifier\n",
        "from sklearn.metrics import classification_report\n",
        "from sklearn.ensemble import VotingClassifier\n",
        "from sklearn.model_selection import train_test_split\n",
        "\n",
        "def resultados(nome = ''):\n",
        "  dataset_atual = []\n",
        "  if nome == '':\n",
        "    dataset_atual = df_norm\n",
        "  elif nome == 'over':\n",
        "    dataset_atual = df_over\n",
        "  elif nome == 'under':\n",
        "    dataset_atual = df_under\n",
        "\n",
        "  y = dataset_atual['Bankrupt?']\n",
        "\n",
        "  # Removendo a coluna alvo do DataFrame original para obter apenas as features\n",
        "  X = dataset_atual.drop(columns=['Bankrupt?'])\n",
        "\n",
        "  # Dividindo os dados em conjuntos de treinamento e teste\n",
        "  X_train, X_test, y_train, y_test = train_test_split(X, y, test_size=0.2, random_state=42)\n",
        "\n",
        " \n",
        "  # Decision Tree\n",
        "  dt_classifier = DecisionTreeClassifier()\n",
        "  dt_classifier.fit(X_train, y_train)\n",
        "\n",
        "  # Random Forest\n",
        "  rf_classifier = RandomForestClassifier()\n",
        "  rf_classifier.fit(X_train, y_train)\n",
        "\n",
        "  # Decision Tree\n",
        "  y_pred_dt = dt_classifier.predict(X_test)\n",
        "\n",
        "  # Random Forest\n",
        "  y_pred_rf = rf_classifier.predict(X_test)\n",
        "\n",
        "  # Avaliação do Decision Tree\n",
        "  print(f\"Relatório de Classificação para Decision Tree {nome}:\")\n",
        "  print(classification_report(y_test, y_pred_dt))\n",
        "\n",
        "  print('')\n",
        "  # Avaliação do Random Forest\n",
        "  print(f\"Relatório de Classificação para Random Forest {nome}:\")\n",
        "  print(classification_report(y_test, y_pred_rf))\n",
        "\n",
        "  print('')"
      ]
    },
    {
      "cell_type": "markdown",
      "metadata": {
        "id": "S46Hz7EJte8E"
      },
      "source": [
        "## Dataset normalizado"
      ]
    },
    {
      "cell_type": "markdown",
      "metadata": {
        "id": "FrBJIhjBsqim"
      },
      "source": [
        "Usando os modelos nas condições default"
      ]
    },
    {
      "cell_type": "code",
      "execution_count": 14,
      "metadata": {
        "colab": {
          "base_uri": "https://localhost:8080/"
        },
        "id": "8PkhBcnzw8Hr",
        "outputId": "c802fb14-bbcf-4533-c157-2366f01e2e04"
      },
      "outputs": [
        {
          "name": "stdout",
          "output_type": "stream",
          "text": [
            "Relatório de Classificação para Decision Tree :\n",
            "              precision    recall  f1-score   support\n",
            "\n",
            "           0       0.98      0.97      0.97      1313\n",
            "           1       0.33      0.37      0.35        51\n",
            "\n",
            "    accuracy                           0.95      1364\n",
            "   macro avg       0.65      0.67      0.66      1364\n",
            "weighted avg       0.95      0.95      0.95      1364\n",
            "\n",
            "\n",
            "Relatório de Classificação para Random Forest :\n",
            "              precision    recall  f1-score   support\n",
            "\n",
            "           0       0.97      1.00      0.98      1313\n",
            "           1       0.67      0.12      0.20        51\n",
            "\n",
            "    accuracy                           0.96      1364\n",
            "   macro avg       0.82      0.56      0.59      1364\n",
            "weighted avg       0.96      0.96      0.95      1364\n",
            "\n",
            "\n"
          ]
        }
      ],
      "source": [
        "resultados()"
      ]
    },
    {
      "cell_type": "markdown",
      "metadata": {
        "id": "x8FPc6CAtZdv"
      },
      "source": [
        "Dá pra notar que a classe 1 não está sendo muito bem reconhecida!"
      ]
    },
    {
      "cell_type": "markdown",
      "metadata": {
        "id": "DbhtTGp-tiRA"
      },
      "source": [
        "## Dataset Over Sampling"
      ]
    },
    {
      "cell_type": "code",
      "execution_count": 16,
      "metadata": {
        "colab": {
          "base_uri": "https://localhost:8080/"
        },
        "id": "dcP3oz4AvpSp",
        "outputId": "a494fdb0-184b-4110-8299-c65adf7f97b9"
      },
      "outputs": [
        {
          "name": "stdout",
          "output_type": "stream",
          "text": [
            "Relatório de Classificação para Decision Tree over:\n",
            "              precision    recall  f1-score   support\n",
            "\n",
            "           0       0.98      0.93      0.96       798\n",
            "           1       0.94      0.98      0.96       787\n",
            "\n",
            "    accuracy                           0.96      1585\n",
            "   macro avg       0.96      0.96      0.96      1585\n",
            "weighted avg       0.96      0.96      0.96      1585\n",
            "\n",
            "\n",
            "Relatório de Classificação para Random Forest over:\n",
            "              precision    recall  f1-score   support\n",
            "\n",
            "           0       1.00      0.97      0.98       798\n",
            "           1       0.97      1.00      0.98       787\n",
            "\n",
            "    accuracy                           0.98      1585\n",
            "   macro avg       0.98      0.98      0.98      1585\n",
            "weighted avg       0.98      0.98      0.98      1585\n",
            "\n",
            "\n"
          ]
        }
      ],
      "source": [
        "resultados(nome=\"over\")"
      ]
    },
    {
      "cell_type": "markdown",
      "metadata": {
        "id": "04PwqZg55_Ns"
      },
      "source": [
        "Com oversampling os resultados ficaram muito mais positivos! Com o comitê sendo o melhor e o KNN sendo o pior"
      ]
    },
    {
      "cell_type": "markdown",
      "metadata": {
        "id": "p8gebK0NtkYN"
      },
      "source": [
        "## Dataset Under Sampling"
      ]
    },
    {
      "cell_type": "code",
      "execution_count": 15,
      "metadata": {
        "colab": {
          "base_uri": "https://localhost:8080/"
        },
        "id": "WUf8_odDvDh_",
        "outputId": "558a27c7-8858-4972-f0db-acf3093c5d02"
      },
      "outputs": [
        {
          "name": "stdout",
          "output_type": "stream",
          "text": [
            "Relatório de Classificação para Decision Tree under:\n",
            "              precision    recall  f1-score   support\n",
            "\n",
            "           0       0.83      0.83      0.83        29\n",
            "           1       0.78      0.78      0.78        23\n",
            "\n",
            "    accuracy                           0.81        52\n",
            "   macro avg       0.81      0.81      0.81        52\n",
            "weighted avg       0.81      0.81      0.81        52\n",
            "\n",
            "\n",
            "Relatório de Classificação para Random Forest under:\n",
            "              precision    recall  f1-score   support\n",
            "\n",
            "           0       0.85      0.79      0.82        29\n",
            "           1       0.76      0.83      0.79        23\n",
            "\n",
            "    accuracy                           0.81        52\n",
            "   macro avg       0.81      0.81      0.81        52\n",
            "weighted avg       0.81      0.81      0.81        52\n",
            "\n",
            "\n"
          ]
        }
      ],
      "source": [
        "resultados(nome=\"under\")"
      ]
    },
    {
      "cell_type": "markdown",
      "metadata": {
        "id": "KVTlcniZ6DT8"
      },
      "source": [
        "Os resultados ficaram mais positivos do que o dataset somente normalizado. Apesar disso, ficou um pouco pior do que o oversampling."
      ]
    },
    {
      "cell_type": "markdown",
      "metadata": {
        "id": "O6trFcpPtnA8"
      },
      "source": [
        "# Testes de parametros"
      ]
    },
    {
      "cell_type": "markdown",
      "metadata": {
        "id": "trtpntdl7Bz7"
      },
      "source": [
        "## Definindo a 1a grade de procura para o GridSearch"
      ]
    },
    {
      "cell_type": "code",
      "execution_count": 25,
      "metadata": {
        "id": "wvr5z8FntQZD"
      },
      "outputs": [],
      "source": [
        "parameters_dt = {\n",
        "    'criterion': ['gini', 'entropy'],\n",
        "    'max_depth': [None, 5, 10, 20],\n",
        "    'min_samples_split': [2, 5, 10],\n",
        "    'min_samples_leaf': [1, 2, 4]\n",
        "}\n",
        "\n",
        "parameters_rf = {\n",
        "    'n_estimators': [100, 200, 300],\n",
        "    'criterion': ['gini', 'entropy'],\n",
        "    'max_depth': [None, 5, 10, 20],\n",
        "    'min_samples_split': [2, 5, 10],\n",
        "    'min_samples_leaf': [1, 2, 4]\n",
        "}"
      ]
    },
    {
      "cell_type": "markdown",
      "metadata": {
        "id": "9PGbPcweK9zV"
      },
      "source": [
        "## Decision Tree"
      ]
    },
    {
      "cell_type": "code",
      "execution_count": 26,
      "metadata": {
        "id": "6fGZm4cvI6Kw"
      },
      "outputs": [],
      "source": [
        "from sklearn.tree import DecisionTreeClassifier\n",
        "from sklearn.model_selection import GridSearchCV\n",
        "from sklearn.metrics import classification_report\n",
        "\n",
        "def busca_resultados_dt(nome='', parameters=0):\n",
        "    dataset_atual = ''\n",
        "    max_depth_passada = None\n",
        "    if nome == '':\n",
        "        dataset_atual = df_norm\n",
        "        if parameters:\n",
        "            max_depth_passada = 5\n",
        "    elif nome == 'over':\n",
        "        dataset_atual = df_over\n",
        "        if parameters:\n",
        "            max_depth_passada = 10\n",
        "    elif nome == 'under':\n",
        "        dataset_atual = df_under\n",
        "        if parameters:\n",
        "            max_depth_passada = 5\n",
        "\n",
        "    y = dataset_atual['Bankrupt?']\n",
        "    X = dataset_atual.drop(columns=['Bankrupt?'])\n",
        "\n",
        "    X_train, X_test, y_train, y_test = train_test_split(X, y, test_size=0.2, random_state=42)\n",
        "\n",
        "    dt = DecisionTreeClassifier()\n",
        "    parametersAtual = parameters_dt\n",
        "\n",
        "    if parameters:\n",
        "        parametersAtual = parameters_dt_2\n",
        "        dt = DecisionTreeClassifier(max_depth=max_depth_passada)\n",
        "\n",
        "    grid_search = GridSearchCV(estimator=dt, param_grid=parametersAtual, cv=3)\n",
        "    grid_search.fit(X_train, y_train)\n",
        "\n",
        "    best_params = grid_search.best_params_\n",
        "    print(\"Melhores parâmetros encontrados:\", best_params)\n",
        "\n",
        "    best_model = grid_search.best_estimator_\n",
        "    y_pred = best_model.predict(X_test)\n",
        "    report = classification_report(y_test, y_pred)\n",
        "    print(\"Relatório de Classificação do melhor modelo:\")\n",
        "    print(report)\n"
      ]
    },
    {
      "cell_type": "markdown",
      "metadata": {
        "id": "0rQgYVxRK_Qa"
      },
      "source": [
        "## Random Forest"
      ]
    },
    {
      "cell_type": "code",
      "execution_count": 21,
      "metadata": {
        "id": "_jYzUi2DJBMb"
      },
      "outputs": [],
      "source": [
        "from sklearn.model_selection import GridSearchCV\n",
        "from sklearn.metrics import classification_report\n",
        "def busca_resultados_rf(nome='', parameters=0):\n",
        "  dataset_atual = ''\n",
        "  max_depth_passada = None\n",
        "  if nome == '':\n",
        "    dataset_atual = df_norm\n",
        "    if parameters:\n",
        "      max_depth_passada = 5\n",
        "  elif nome == 'over':\n",
        "    dataset_atual = df_over\n",
        "    if parameters:\n",
        "      max_depth_passada = 10\n",
        "  elif nome == 'under':\n",
        "    dataset_atual = df_under\n",
        "    if parameters:\n",
        "      max_depth_passada = 5\n",
        "\n",
        "  y = dataset_atual['Bankrupt?']\n",
        "  X = dataset_atual.drop(columns=['Bankrupt?'])\n",
        "\n",
        "  X_train, X_test, y_train, y_test = train_test_split(X, y, test_size=0.2, random_state=42)\n",
        "\n",
        "  rf = RandomForestClassifier()\n",
        "  parametersAtual = parameters_rf\n",
        "\n",
        "  if parameters:\n",
        "    parametersAtual = parameters_rf_2\n",
        "    rf = RandomForestClassifier(max_depth=max_depth_passada)\n",
        "\n",
        "  grid_search = GridSearchCV(estimator=rf, param_grid=parametersAtual, cv=3)\n",
        "  grid_search.fit(X_train, y_train)\n",
        "\n",
        "  best_params = grid_search.best_params_\n",
        "  print(\"Melhores parâmetros encontrados:\", best_params)\n",
        "\n",
        "  best_model = grid_search.best_estimator_\n",
        "  y_pred = best_model.predict(X_test)\n",
        "  report = classification_report(y_test, y_pred)\n",
        "  print(\"Relatório de Classificação do melhor modelo:\")\n",
        "  print(report)"
      ]
    },
    {
      "cell_type": "markdown",
      "metadata": {
        "id": "HEHcoATMJN3D"
      },
      "source": [
        "## Resultados para as primeiras grades"
      ]
    },
    {
      "cell_type": "markdown",
      "metadata": {
        "id": "y56w-iZBTb3Z"
      },
      "source": [
        "### Decision Tree"
      ]
    },
    {
      "cell_type": "code",
      "execution_count": 27,
      "metadata": {
        "colab": {
          "base_uri": "https://localhost:8080/"
        },
        "id": "PuFKqF2oTgOJ",
        "outputId": "2370507d-7568-4658-fca3-6cd0c7b97424"
      },
      "outputs": [
        {
          "name": "stdout",
          "output_type": "stream",
          "text": [
            "Base somente normalizada\n",
            "Melhores parâmetros encontrados: {'criterion': 'gini', 'max_depth': 5, 'min_samples_leaf': 2, 'min_samples_split': 2}\n",
            "Relatório de Classificação do melhor modelo:\n",
            "              precision    recall  f1-score   support\n",
            "\n",
            "           0       0.97      0.99      0.98      1313\n",
            "           1       0.45      0.25      0.33        51\n",
            "\n",
            "    accuracy                           0.96      1364\n",
            "   macro avg       0.71      0.62      0.65      1364\n",
            "weighted avg       0.95      0.96      0.96      1364\n",
            "\n",
            "\n",
            "Base com oversampling\n",
            "Melhores parâmetros encontrados: {'criterion': 'entropy', 'max_depth': None, 'min_samples_leaf': 1, 'min_samples_split': 2}\n",
            "Relatório de Classificação do melhor modelo:\n",
            "              precision    recall  f1-score   support\n",
            "\n",
            "           0       0.97      0.94      0.96       798\n",
            "           1       0.94      0.97      0.96       787\n",
            "\n",
            "    accuracy                           0.96      1585\n",
            "   macro avg       0.96      0.96      0.96      1585\n",
            "weighted avg       0.96      0.96      0.96      1585\n",
            "\n",
            "\n",
            "Base com undersampling\n",
            "Melhores parâmetros encontrados: {'criterion': 'gini', 'max_depth': 5, 'min_samples_leaf': 1, 'min_samples_split': 5}\n",
            "Relatório de Classificação do melhor modelo:\n",
            "              precision    recall  f1-score   support\n",
            "\n",
            "           0       0.84      0.93      0.89        29\n",
            "           1       0.90      0.78      0.84        23\n",
            "\n",
            "    accuracy                           0.87        52\n",
            "   macro avg       0.87      0.86      0.86        52\n",
            "weighted avg       0.87      0.87      0.86        52\n",
            "\n"
          ]
        }
      ],
      "source": [
        "print(\"Base somente normalizada\")\n",
        "busca_resultados_dt()\n",
        "print(\"\")\n",
        "print(\"Base com oversampling\")\n",
        "busca_resultados_dt(nome=\"over\")\n",
        "print(\"\")\n",
        "print(\"Base com undersampling\")\n",
        "busca_resultados_dt(nome=\"under\")"
      ]
    },
    {
      "cell_type": "markdown",
      "metadata": {
        "id": "9T5PWDORTdDt"
      },
      "source": [
        "### Random Forest"
      ]
    },
    {
      "cell_type": "code",
      "execution_count": 28,
      "metadata": {
        "colab": {
          "base_uri": "https://localhost:8080/"
        },
        "id": "cBRKacJoTgd6",
        "outputId": "2fe003d0-9a1c-4cc3-c150-9f0af0ebfc79"
      },
      "outputs": [
        {
          "name": "stdout",
          "output_type": "stream",
          "text": [
            "Base somente normalizada\n",
            "Melhores parâmetros encontrados: {'criterion': 'gini', 'max_depth': None, 'min_samples_leaf': 2, 'min_samples_split': 10, 'n_estimators': 100}\n",
            "Relatório de Classificação do melhor modelo:\n",
            "              precision    recall  f1-score   support\n",
            "\n",
            "           0       0.97      1.00      0.98      1313\n",
            "           1       1.00      0.18      0.30        51\n",
            "\n",
            "    accuracy                           0.97      1364\n",
            "   macro avg       0.98      0.59      0.64      1364\n",
            "weighted avg       0.97      0.97      0.96      1364\n",
            "\n",
            "\n",
            "Base com oversampling\n",
            "Melhores parâmetros encontrados: {'criterion': 'gini', 'max_depth': None, 'min_samples_leaf': 1, 'min_samples_split': 2, 'n_estimators': 300}\n",
            "Relatório de Classificação do melhor modelo:\n",
            "              precision    recall  f1-score   support\n",
            "\n",
            "           0       0.99      0.96      0.98       798\n",
            "           1       0.96      0.99      0.98       787\n",
            "\n",
            "    accuracy                           0.98      1585\n",
            "   macro avg       0.98      0.98      0.98      1585\n",
            "weighted avg       0.98      0.98      0.98      1585\n",
            "\n",
            "\n",
            "Base com undersampling\n",
            "Melhores parâmetros encontrados: {'criterion': 'gini', 'max_depth': None, 'min_samples_leaf': 4, 'min_samples_split': 5, 'n_estimators': 200}\n",
            "Relatório de Classificação do melhor modelo:\n",
            "              precision    recall  f1-score   support\n",
            "\n",
            "           0       0.88      0.79      0.84        29\n",
            "           1       0.77      0.87      0.82        23\n",
            "\n",
            "    accuracy                           0.83        52\n",
            "   macro avg       0.83      0.83      0.83        52\n",
            "weighted avg       0.83      0.83      0.83        52\n",
            "\n"
          ]
        }
      ],
      "source": [
        "print(\"Base somente normalizada\")\n",
        "busca_resultados_rf()\n",
        "print(\"\")\n",
        "print(\"Base com oversampling\")\n",
        "busca_resultados_rf(nome=\"over\")\n",
        "print(\"\")\n",
        "print(\"Base com undersampling\")\n",
        "busca_resultados_rf(nome=\"under\")"
      ]
    },
    {
      "cell_type": "markdown",
      "metadata": {
        "id": "uj_VbDy3IrKg"
      },
      "source": [
        "## Definindo a 2a grade para procurar"
      ]
    },
    {
      "cell_type": "code",
      "execution_count": 31,
      "metadata": {
        "id": "uZJrMX3pItKx"
      },
      "outputs": [],
      "source": [
        "parameters_dt_2 = {\n",
        "    'splitter': ['best', 'random'],\n",
        "    'max_leaf_nodes': [None, 10, 20, 30, 40],\n",
        "    'min_impurity_decrease': [0.0, 0.1, 0.2],\n",
        "    'class_weight': [None, 'balanced']\n",
        "}\n",
        "\n",
        "parameters_rf_2 = {\n",
        "    'max_samples': [None, 0.5, 0.7, 0.9],\n",
        "    'max_leaf_nodes': [None, 10, 20, 30, 40],\n",
        "    'min_impurity_decrease': [0.0, 0.1, 0.2],\n",
        "    'class_weight': [None, 'balanced', 'balanced_subsample'],\n",
        "    'ccp_alpha': [0.0, 0.1, 0.2]\n",
        "}"
      ]
    },
    {
      "cell_type": "markdown",
      "metadata": {
        "id": "PpyOHWp5LJ2h"
      },
      "source": [
        "## Resultados para as segundas grades"
      ]
    },
    {
      "cell_type": "markdown",
      "metadata": {
        "id": "ljd7zAe9Tocd"
      },
      "source": [
        "### Decision Tree"
      ]
    },
    {
      "cell_type": "code",
      "execution_count": 32,
      "metadata": {
        "colab": {
          "base_uri": "https://localhost:8080/"
        },
        "id": "tIbPUInVLM-y",
        "outputId": "7c107d72-b6db-4960-fd97-46ff73e107dd"
      },
      "outputs": [
        {
          "name": "stdout",
          "output_type": "stream",
          "text": [
            "Base somente normalizada\n",
            "Melhores parâmetros encontrados: {'class_weight': None, 'max_leaf_nodes': None, 'min_impurity_decrease': 0.1, 'splitter': 'best'}\n",
            "Relatório de Classificação do melhor modelo:\n",
            "              precision    recall  f1-score   support\n",
            "\n",
            "           0       0.96      1.00      0.98      1313\n",
            "           1       0.00      0.00      0.00        51\n",
            "\n",
            "    accuracy                           0.96      1364\n",
            "   macro avg       0.48      0.50      0.49      1364\n",
            "weighted avg       0.93      0.96      0.94      1364\n",
            "\n",
            "\n",
            "Base com oversampling\n"
          ]
        },
        {
          "name": "stderr",
          "output_type": "stream",
          "text": [
            "c:\\Python312\\Lib\\site-packages\\sklearn\\metrics\\_classification.py:1509: UndefinedMetricWarning: Precision is ill-defined and being set to 0.0 in labels with no predicted samples. Use `zero_division` parameter to control this behavior.\n",
            "  _warn_prf(average, modifier, f\"{metric.capitalize()} is\", len(result))\n",
            "c:\\Python312\\Lib\\site-packages\\sklearn\\metrics\\_classification.py:1509: UndefinedMetricWarning: Precision is ill-defined and being set to 0.0 in labels with no predicted samples. Use `zero_division` parameter to control this behavior.\n",
            "  _warn_prf(average, modifier, f\"{metric.capitalize()} is\", len(result))\n",
            "c:\\Python312\\Lib\\site-packages\\sklearn\\metrics\\_classification.py:1509: UndefinedMetricWarning: Precision is ill-defined and being set to 0.0 in labels with no predicted samples. Use `zero_division` parameter to control this behavior.\n",
            "  _warn_prf(average, modifier, f\"{metric.capitalize()} is\", len(result))\n"
          ]
        },
        {
          "name": "stdout",
          "output_type": "stream",
          "text": [
            "Melhores parâmetros encontrados: {'class_weight': None, 'max_leaf_nodes': None, 'min_impurity_decrease': 0.0, 'splitter': 'best'}\n",
            "Relatório de Classificação do melhor modelo:\n",
            "              precision    recall  f1-score   support\n",
            "\n",
            "           0       0.98      0.91      0.94       798\n",
            "           1       0.92      0.98      0.95       787\n",
            "\n",
            "    accuracy                           0.95      1585\n",
            "   macro avg       0.95      0.95      0.95      1585\n",
            "weighted avg       0.95      0.95      0.95      1585\n",
            "\n",
            "\n",
            "Base com undersampling\n",
            "Melhores parâmetros encontrados: {'class_weight': 'balanced', 'max_leaf_nodes': 30, 'min_impurity_decrease': 0.0, 'splitter': 'random'}\n",
            "Relatório de Classificação do melhor modelo:\n",
            "              precision    recall  f1-score   support\n",
            "\n",
            "           0       0.80      0.83      0.81        29\n",
            "           1       0.77      0.74      0.76        23\n",
            "\n",
            "    accuracy                           0.79        52\n",
            "   macro avg       0.79      0.78      0.78        52\n",
            "weighted avg       0.79      0.79      0.79        52\n",
            "\n"
          ]
        }
      ],
      "source": [
        "print(\"Base somente normalizada\")\n",
        "busca_resultados_dt(parameters=1)\n",
        "print(\"\")\n",
        "print(\"Base com oversampling\")\n",
        "busca_resultados_dt(nome=\"over\", parameters=1)\n",
        "print(\"\")\n",
        "print(\"Base com undersampling\")\n",
        "busca_resultados_dt(nome=\"under\", parameters=1)"
      ]
    },
    {
      "cell_type": "markdown",
      "metadata": {
        "id": "fo9JumCsTp7V"
      },
      "source": [
        "### Random Forest"
      ]
    },
    {
      "cell_type": "code",
      "execution_count": 33,
      "metadata": {
        "colab": {
          "base_uri": "https://localhost:8080/"
        },
        "id": "jAnbfhb-Tq_w",
        "outputId": "2766b846-d3c3-4aa2-a92a-4150e989773a"
      },
      "outputs": [
        {
          "name": "stdout",
          "output_type": "stream",
          "text": [
            "Base somente normalizada\n",
            "Melhores parâmetros encontrados: {'ccp_alpha': 0.0, 'class_weight': None, 'max_leaf_nodes': 40, 'max_samples': 0.5, 'min_impurity_decrease': 0.0}\n",
            "Relatório de Classificação do melhor modelo:\n",
            "              precision    recall  f1-score   support\n",
            "\n",
            "           0       0.97      1.00      0.98      1313\n",
            "           1       1.00      0.10      0.18        51\n",
            "\n",
            "    accuracy                           0.97      1364\n",
            "   macro avg       0.98      0.55      0.58      1364\n",
            "weighted avg       0.97      0.97      0.95      1364\n",
            "\n",
            "\n",
            "Base com oversampling\n",
            "Melhores parâmetros encontrados: {'ccp_alpha': 0.0, 'class_weight': None, 'max_leaf_nodes': None, 'max_samples': None, 'min_impurity_decrease': 0.0}\n",
            "Relatório de Classificação do melhor modelo:\n",
            "              precision    recall  f1-score   support\n",
            "\n",
            "           0       1.00      0.94      0.97       798\n",
            "           1       0.94      1.00      0.97       787\n",
            "\n",
            "    accuracy                           0.97      1585\n",
            "   macro avg       0.97      0.97      0.97      1585\n",
            "weighted avg       0.97      0.97      0.97      1585\n",
            "\n",
            "\n",
            "Base com undersampling\n",
            "Melhores parâmetros encontrados: {'ccp_alpha': 0.0, 'class_weight': 'balanced', 'max_leaf_nodes': 30, 'max_samples': None, 'min_impurity_decrease': 0.0}\n",
            "Relatório de Classificação do melhor modelo:\n",
            "              precision    recall  f1-score   support\n",
            "\n",
            "           0       0.88      0.79      0.84        29\n",
            "           1       0.77      0.87      0.82        23\n",
            "\n",
            "    accuracy                           0.83        52\n",
            "   macro avg       0.83      0.83      0.83        52\n",
            "weighted avg       0.83      0.83      0.83        52\n",
            "\n"
          ]
        }
      ],
      "source": [
        "print(\"Base somente normalizada\")\n",
        "busca_resultados_rf(parameters=1)\n",
        "print(\"\")\n",
        "print(\"Base com oversampling\")\n",
        "busca_resultados_rf(nome=\"over\", parameters=1)\n",
        "print(\"\")\n",
        "print(\"Base com undersampling\")\n",
        "busca_resultados_rf(nome=\"under\", parameters=1)"
      ]
    },
    {
      "cell_type": "markdown",
      "metadata": {
        "id": "MtdSomYB1Lwk"
      },
      "source": [
        "# Resultados"
      ]
    },
    {
      "cell_type": "markdown",
      "metadata": {
        "id": "PSF8YVlP9doc"
      },
      "source": [
        "Vale notar que todos os resultados obtidos após a busca de parâmetros de cada modelo, em todos os datasets, foram melhores do que a baseline"
      ]
    },
    {
      "cell_type": "markdown",
      "metadata": {
        "id": "m85LSeyE1Q1G"
      },
      "source": [
        "## Decision Tree"
      ]
    },
    {
      "cell_type": "markdown",
      "metadata": {
        "id": "oNrErZHR5O4V"
      },
      "source": [
        "### Base de dados normalizada"
      ]
    },
    {
      "cell_type": "markdown",
      "metadata": {
        "id": "b7RJi5EI5b7o"
      },
      "source": [
        "Nessas condições o melhor resultado foi obtido usando os parâmetros obtidos pelo 1º GridSearch, que deu o seguinte resultado:"
      ]
    },
    {
      "cell_type": "markdown",
      "metadata": {
        "id": "8NxbAM426Ae_"
      },
      "source": [
        "\n",
        "- Melhores parâmetros encontrados: {'criterion': 'gini', 'max_depth': 5, 'min_samples_leaf': 2, 'min_samples_split': 2}\n",
        "\n",
        "Relatório de Classificação do melhor modelo:\n",
        "              \n",
        "                  precision    recall  f1-score   support\n",
        "\n",
        "               0       0.97      0.99      0.98      1313\n",
        "               1       0.45      0.25      0.33        51\n",
        "\n",
        "        accuracy                           0.96      1364\n",
        "       macro avg       0.71      0.62      0.65      1364\n",
        "    weighted avg       0.95      0.96      0.96      1364    "
      ]
    },
    {
      "cell_type": "markdown",
      "metadata": {
        "id": "kK0lsyYX5PON"
      },
      "source": [
        "### Base de dados com oversampling"
      ]
    },
    {
      "cell_type": "markdown",
      "metadata": {
        "id": "k6dERSnQ5cdC"
      },
      "source": [
        "Nesse database o melhor resultado foi encontrado também pelo primeiro GridSearch feito. Os resultados foram os seguintes:"
      ]
    },
    {
      "cell_type": "markdown",
      "metadata": {
        "id": "C_20zi1i5dFH"
      },
      "source": [
        "\n",
        "- Melhores parâmetros para o comitê de redes neurais: {'criterion': 'entropy', 'max_depth': None, 'min_samples_leaf': 1, 'min_samples_split': 2}\n",
        "\n",
        "Relatório de Classificação do melhor modelo do comitê de redes neurais:\n",
        "  \n",
        "                    precision    recall  f1-score   support\n",
        "\n",
        "               0       0.97      0.94      0.96       798\n",
        "               1       0.94      0.97      0.96       787\n",
        "\n",
        "        accuracy                           0.96      1585\n",
        "       macro avg       0.96      0.96      0.96      1585\n",
        "    weighted avg       0.96      0.96      0.96      1585    "
      ]
    },
    {
      "cell_type": "markdown",
      "metadata": {
        "id": "-_oSIhHo5Xm5"
      },
      "source": [
        "### Base de dados com undersampling"
      ]
    },
    {
      "cell_type": "markdown",
      "metadata": {
        "id": "21XAvbax5eIo"
      },
      "source": [
        "Nesse caso o melhor conjunto de parâmetros foi encontrado no 1º GridSearch. O resultado foi o seguinte:"
      ]
    },
    {
      "cell_type": "markdown",
      "metadata": {
        "id": "lzGI3zYf677h"
      },
      "source": [
        "\n",
        "- Melhores parâmetros encontrados: {'criterion': 'gini', 'max_depth': 5, 'min_samples_leaf': 1, 'min_samples_split': 5}\n",
        "\n",
        "Relatório de Classificação do melhor modelo:\n",
        "              \n",
        "                    precision    recall  f1-score   support\n",
        "\n",
        "               0       0.84      0.93      0.89        29\n",
        "               1       0.90      0.78      0.84        23\n",
        "\n",
        "        accuracy                           0.87        52\n",
        "       macro avg       0.87      0.86      0.86        52\n",
        "    weighted avg       0.87      0.87      0.86        52"
      ]
    },
    {
      "cell_type": "markdown",
      "metadata": {
        "id": "Fn1NYZ1v1TAI"
      },
      "source": [
        "## Random Forest"
      ]
    },
    {
      "cell_type": "markdown",
      "metadata": {
        "id": "4Zhu_P7X5enq"
      },
      "source": [
        "### Base de dados normalizada"
      ]
    },
    {
      "cell_type": "markdown",
      "metadata": {
        "id": "MiTgr6P85nSZ"
      },
      "source": [
        "Nesse contexto o melhor resultado foi encontrado pelo 1º GridSearch, com a seguinte configuração:"
      ]
    },
    {
      "cell_type": "markdown",
      "metadata": {
        "id": "yGCF-iy57kOe"
      },
      "source": [
        "- Melhores parâmetros encontrados: {'criterion': 'gini', 'max_depth': None, 'min_samples_leaf': 2, 'min_samples_split': 10, 'n_estimators': 100}\n",
        "\n",
        "Relatório de Classificação do melhor modelo:\n",
        "              \n",
        "                    precision    recall  f1-score   support\n",
        "\n",
        "               0       0.97      1.00      0.98      1313\n",
        "               1       1.00      0.18      0.30        51\n",
        "\n",
        "        accuracy                           0.97      1364\n",
        "       macro avg       0.98      0.59      0.64      1364\n",
        "    weighted avg       0.97      0.97      0.96      1364     "
      ]
    },
    {
      "cell_type": "markdown",
      "metadata": {
        "id": "1ctj9rQZ5hYK"
      },
      "source": [
        "### Base de dados com oversampling"
      ]
    },
    {
      "cell_type": "markdown",
      "metadata": {
        "id": "O-tCdp8B5mLX"
      },
      "source": [
        "Nesse caso o melhor resultado foi obtido com os parâmetros encontrados no 1º GridSearch com a seguinte configuração:"
      ]
    },
    {
      "cell_type": "markdown",
      "metadata": {
        "id": "f38Z3JgP8z__"
      },
      "source": [
        "- Melhores parâmetros encontrados: {'criterion': 'gini', 'max_depth': None, 'min_samples_leaf': 1, 'min_samples_split': 2, 'n_estimators': 300}\n",
        "\n",
        "Relatório de Classificação do melhor modelo:\n",
        "              \n",
        "                    precision    recall  f1-score   support\n",
        "\n",
        "               0       0.99      0.96      0.98       798\n",
        "               1       0.96      0.99      0.98       787\n",
        "\n",
        "        accuracy                           0.98      1585\n",
        "       macro avg       0.98      0.98      0.98      1585\n",
        "    weighted avg       0.98      0.98      0.98      1585    "
      ]
    },
    {
      "cell_type": "markdown",
      "metadata": {
        "id": "unLw0kBB5jFV"
      },
      "source": [
        "### Base de dados com undersampling"
      ]
    },
    {
      "cell_type": "markdown",
      "metadata": {
        "id": "YdqB_9ZC5m2O"
      },
      "source": [
        "Nesse caso o melhor resultado foi obtido com o 2º GridSearch com a seguinte configuração (vale notar que o 1º atingiu o mesmo resultado):"
      ]
    },
    {
      "cell_type": "markdown",
      "metadata": {
        "id": "atdnSauU9LYd"
      },
      "source": [
        "\n",
        "- Melhores parâmetros encontrados: {'ccp_alpha': 0.0, 'class_weight': 'balanced', 'max_leaf_nodes': 30, 'max_samples': None, 'min_impurity_decrease': 0.0}\n",
        "\n",
        "Relatório de Classificação do melhor modelo:\n",
        "\n",
        "                    precision    recall  f1-score   support\n",
        "\n",
        "               0       0.88      0.79      0.84        29\n",
        "               1       0.77      0.87      0.82        23\n",
        "\n",
        "        accuracy                           0.83        52\n",
        "       macro avg       0.83      0.83      0.83        52\n",
        "    weighted avg       0.83      0.83      0.83        52     "
      ]
    },
    {
      "cell_type": "markdown",
      "metadata": {},
      "source": [
        "## Extrair regras da decision tree"
      ]
    },
    {
      "cell_type": "code",
      "execution_count": 42,
      "metadata": {},
      "outputs": [
        {
          "name": "stdout",
          "output_type": "stream",
          "text": [
            "First attributes used in the construction of the decision tree:\n",
            "Average Collection Days\n",
            "Cash Reinvestment %\n",
            "Current Ratio\n",
            "Quick Ratio\n",
            "Total debt/Total net worth\n",
            "Long-term fund suitability ratio (A)\n",
            "Total Asset Turnover\n",
            "Accounts Receivable Turnover\n",
            "Net Worth Turnover Rate (times)\n",
            "Revenue per person\n",
            "|--- Net Income to Stockholder's Equity <= -0.42\n",
            "|   |--- Interest Expense Ratio <= -0.07\n",
            "|   |   |--- Non-industry income and expenditure/revenue <= -0.02\n",
            "|   |   |   |--- Current Liability to Liability <= -1.20\n",
            "|   |   |   |   |--- Gross Profit to Sales <= -1.53\n",
            "|   |   |   |   |   |--- class: 1\n",
            "|   |   |   |   |--- Gross Profit to Sales >  -1.53\n",
            "|   |   |   |   |   |--- class: 0\n",
            "|   |   |   |--- Current Liability to Liability >  -1.20\n",
            "|   |   |   |   |--- Total Asset Return Growth Rate Ratio <= -0.19\n",
            "|   |   |   |   |   |--- Cash/Total Assets <= -0.83\n",
            "|   |   |   |   |   |   |--- class: 1\n",
            "|   |   |   |   |   |--- Cash/Total Assets >  -0.83\n",
            "|   |   |   |   |   |   |--- class: 0\n",
            "|   |   |   |   |--- Total Asset Return Growth Rate Ratio >  -0.19\n",
            "|   |   |   |   |   |--- Inventory/Working Capital <= -0.19\n",
            "|   |   |   |   |   |   |--- class: 0\n",
            "|   |   |   |   |   |--- Inventory/Working Capital >  -0.19\n",
            "|   |   |   |   |   |   |--- class: 1\n",
            "|   |   |--- Non-industry income and expenditure/revenue >  -0.02\n",
            "|   |   |   |--- Operating profit per person <= -0.91\n",
            "|   |   |   |   |--- Cash Flow to Sales <= 0.00\n",
            "|   |   |   |   |   |--- class: 1\n",
            "|   |   |   |   |--- Cash Flow to Sales >  0.00\n",
            "|   |   |   |   |   |--- class: 0\n",
            "|   |   |   |--- Operating profit per person >  -0.91\n",
            "|   |   |   |   |--- class: 0\n",
            "|   |--- Interest Expense Ratio >  -0.07\n",
            "|   |   |--- Net Income to Total Assets <= -4.94\n",
            "|   |   |   |--- Inventory and accounts receivable/Net value <= 0.38\n",
            "|   |   |   |   |--- Net Value Per Share (C) <= -1.42\n",
            "|   |   |   |   |   |--- class: 0\n",
            "|   |   |   |   |--- Net Value Per Share (C) >  -1.42\n",
            "|   |   |   |   |   |--- Total income/Total expense <= -0.05\n",
            "|   |   |   |   |   |   |--- class: 1\n",
            "|   |   |   |   |   |--- Total income/Total expense >  -0.05\n",
            "|   |   |   |   |   |   |--- class: 0\n",
            "|   |   |   |--- Inventory and accounts receivable/Net value >  0.38\n",
            "|   |   |   |   |--- class: 1\n",
            "|   |   |--- Net Income to Total Assets >  -4.94\n",
            "|   |   |   |--- Research and development expense rate <= 1.09\n",
            "|   |   |   |   |--- Cash Flow to Total Assets <= -0.16\n",
            "|   |   |   |   |   |--- Operating Profit Growth Rate <= -0.02\n",
            "|   |   |   |   |   |   |--- class: 0\n",
            "|   |   |   |   |   |--- Operating Profit Growth Rate >  -0.02\n",
            "|   |   |   |   |   |   |--- Debt ratio % <= 0.11\n",
            "|   |   |   |   |   |   |   |--- class: 1\n",
            "|   |   |   |   |   |   |--- Debt ratio % >  0.11\n",
            "|   |   |   |   |   |   |   |--- Current Liability to Assets <= 1.88\n",
            "|   |   |   |   |   |   |   |   |--- Total Asset Return Growth Rate Ratio <= -0.23\n",
            "|   |   |   |   |   |   |   |   |   |--- class: 1\n",
            "|   |   |   |   |   |   |   |   |--- Total Asset Return Growth Rate Ratio >  -0.23\n",
            "|   |   |   |   |   |   |   |   |   |--- Inventory/Working Capital <= 0.06\n",
            "|   |   |   |   |   |   |   |   |   |   |--- class: 0\n",
            "|   |   |   |   |   |   |   |   |   |--- Inventory/Working Capital >  0.06\n",
            "|   |   |   |   |   |   |   |   |   |   |--- Operating Profit Rate <= -0.00\n",
            "|   |   |   |   |   |   |   |   |   |   |   |--- class: 0\n",
            "|   |   |   |   |   |   |   |   |   |   |--- Operating Profit Rate >  -0.00\n",
            "|   |   |   |   |   |   |   |   |   |   |   |--- class: 1\n",
            "|   |   |   |   |   |   |   |--- Current Liability to Assets >  1.88\n",
            "|   |   |   |   |   |   |   |   |--- Quick Assets/Total Assets <= 1.17\n",
            "|   |   |   |   |   |   |   |   |   |--- class: 1\n",
            "|   |   |   |   |   |   |   |   |--- Quick Assets/Total Assets >  1.17\n",
            "|   |   |   |   |   |   |   |   |   |--- class: 0\n",
            "|   |   |   |   |--- Cash Flow to Total Assets >  -0.16\n",
            "|   |   |   |   |   |--- Current Asset Turnover Rate <= 2.90\n",
            "|   |   |   |   |   |   |--- class: 0\n",
            "|   |   |   |   |   |--- Current Asset Turnover Rate >  2.90\n",
            "|   |   |   |   |   |   |--- class: 1\n",
            "|   |   |   |--- Research and development expense rate >  1.09\n",
            "|   |   |   |   |--- Net Income to Total Assets <= -3.48\n",
            "|   |   |   |   |   |--- class: 1\n",
            "|   |   |   |   |--- Net Income to Total Assets >  -3.48\n",
            "|   |   |   |   |   |--- Equity to Long-term Liability <= 0.68\n",
            "|   |   |   |   |   |   |--- Retained Earnings to Total Assets <= -2.38\n",
            "|   |   |   |   |   |   |   |--- Current Liability to Current Assets <= -0.46\n",
            "|   |   |   |   |   |   |   |   |--- class: 0\n",
            "|   |   |   |   |   |   |   |--- Current Liability to Current Assets >  -0.46\n",
            "|   |   |   |   |   |   |   |   |--- class: 1\n",
            "|   |   |   |   |   |   |--- Retained Earnings to Total Assets >  -2.38\n",
            "|   |   |   |   |   |   |   |--- Net Value Per Share (C) <= -0.75\n",
            "|   |   |   |   |   |   |   |   |--- class: 0\n",
            "|   |   |   |   |   |   |   |--- Net Value Per Share (C) >  -0.75\n",
            "|   |   |   |   |   |   |   |   |--- class: 1\n",
            "|   |   |   |   |   |--- Equity to Long-term Liability >  0.68\n",
            "|   |   |   |   |   |   |--- Net Income to Stockholder's Equity <= -1.39\n",
            "|   |   |   |   |   |   |   |--- class: 0\n",
            "|   |   |   |   |   |   |--- Net Income to Stockholder's Equity >  -1.39\n",
            "|   |   |   |   |   |   |   |--- class: 1\n",
            "|--- Net Income to Stockholder's Equity >  -0.42\n",
            "|   |--- Borrowing dependency <= 0.28\n",
            "|   |   |--- Net Income to Total Assets <= -2.81\n",
            "|   |   |   |--- Regular Net Profit Growth Rate <= 0.01\n",
            "|   |   |   |   |--- class: 1\n",
            "|   |   |   |--- Regular Net Profit Growth Rate >  0.01\n",
            "|   |   |   |   |--- class: 0\n",
            "|   |   |--- Net Income to Total Assets >  -2.81\n",
            "|   |   |   |--- Continuous Net Profit Growth Rate <= -3.69\n",
            "|   |   |   |   |--- class: 1\n",
            "|   |   |   |--- Continuous Net Profit Growth Rate >  -3.69\n",
            "|   |   |   |   |--- Current Assets/Total Assets <= 2.16\n",
            "|   |   |   |   |   |--- Degree of Financial Leverage (DFL) <= -0.06\n",
            "|   |   |   |   |   |   |--- ROA(B) before interest and depreciation after tax <= -1.26\n",
            "|   |   |   |   |   |   |   |--- Total income/Total expense <= -0.04\n",
            "|   |   |   |   |   |   |   |   |--- class: 1\n",
            "|   |   |   |   |   |   |   |--- Total income/Total expense >  -0.04\n",
            "|   |   |   |   |   |   |   |   |--- class: 0\n",
            "|   |   |   |   |   |   |--- ROA(B) before interest and depreciation after tax >  -1.26\n",
            "|   |   |   |   |   |   |   |--- Total Asset Return Growth Rate Ratio <= 0.17\n",
            "|   |   |   |   |   |   |   |   |--- Degree of Financial Leverage (DFL) <= -0.06\n",
            "|   |   |   |   |   |   |   |   |   |--- Operating Profit Growth Rate <= -0.53\n",
            "|   |   |   |   |   |   |   |   |   |   |--- Cash Flow to Sales <= 0.00\n",
            "|   |   |   |   |   |   |   |   |   |   |   |--- class: 0\n",
            "|   |   |   |   |   |   |   |   |   |   |--- Cash Flow to Sales >  0.00\n",
            "|   |   |   |   |   |   |   |   |   |   |   |--- class: 1\n",
            "|   |   |   |   |   |   |   |   |   |--- Operating Profit Growth Rate >  -0.53\n",
            "|   |   |   |   |   |   |   |   |   |   |--- Working Capital/Equity <= 0.41\n",
            "|   |   |   |   |   |   |   |   |   |   |   |--- truncated branch of depth 6\n",
            "|   |   |   |   |   |   |   |   |   |   |--- Working Capital/Equity >  0.41\n",
            "|   |   |   |   |   |   |   |   |   |   |   |--- truncated branch of depth 3\n",
            "|   |   |   |   |   |   |   |   |--- Degree of Financial Leverage (DFL) >  -0.06\n",
            "|   |   |   |   |   |   |   |   |   |--- class: 1\n",
            "|   |   |   |   |   |   |   |--- Total Asset Return Growth Rate Ratio >  0.17\n",
            "|   |   |   |   |   |   |   |   |--- Retained Earnings to Total Assets <= -0.89\n",
            "|   |   |   |   |   |   |   |   |   |--- class: 0\n",
            "|   |   |   |   |   |   |   |   |--- Retained Earnings to Total Assets >  -0.89\n",
            "|   |   |   |   |   |   |   |   |   |--- class: 1\n",
            "|   |   |   |   |   |--- Degree of Financial Leverage (DFL) >  -0.06\n",
            "|   |   |   |   |   |   |--- Cash/Total Assets <= -0.89\n",
            "|   |   |   |   |   |   |   |--- Operating Profit Growth Rate <= 0.01\n",
            "|   |   |   |   |   |   |   |   |--- class: 0\n",
            "|   |   |   |   |   |   |   |--- Operating Profit Growth Rate >  0.01\n",
            "|   |   |   |   |   |   |   |   |--- class: 1\n",
            "|   |   |   |   |   |   |--- Cash/Total Assets >  -0.89\n",
            "|   |   |   |   |   |   |   |--- Net worth/Assets <= 2.08\n",
            "|   |   |   |   |   |   |   |   |--- Degree of Financial Leverage (DFL) <= 11.05\n",
            "|   |   |   |   |   |   |   |   |   |--- Interest Expense Ratio <= 0.12\n",
            "|   |   |   |   |   |   |   |   |   |   |--- Research and development expense rate <= 3.04\n",
            "|   |   |   |   |   |   |   |   |   |   |   |--- truncated branch of depth 4\n",
            "|   |   |   |   |   |   |   |   |   |   |--- Research and development expense rate >  3.04\n",
            "|   |   |   |   |   |   |   |   |   |   |   |--- truncated branch of depth 2\n",
            "|   |   |   |   |   |   |   |   |   |--- Interest Expense Ratio >  0.12\n",
            "|   |   |   |   |   |   |   |   |   |   |--- Interest Expense Ratio <= 0.12\n",
            "|   |   |   |   |   |   |   |   |   |   |   |--- class: 1\n",
            "|   |   |   |   |   |   |   |   |   |   |--- Interest Expense Ratio >  0.12\n",
            "|   |   |   |   |   |   |   |   |   |   |   |--- truncated branch of depth 5\n",
            "|   |   |   |   |   |   |   |   |--- Degree of Financial Leverage (DFL) >  11.05\n",
            "|   |   |   |   |   |   |   |   |   |--- Quick Asset Turnover Rate <= 1.23\n",
            "|   |   |   |   |   |   |   |   |   |   |--- class: 0\n",
            "|   |   |   |   |   |   |   |   |   |--- Quick Asset Turnover Rate >  1.23\n",
            "|   |   |   |   |   |   |   |   |   |   |--- class: 1\n",
            "|   |   |   |   |   |   |   |--- Net worth/Assets >  2.08\n",
            "|   |   |   |   |   |   |   |   |--- Net Value Per Share (A) <= -0.99\n",
            "|   |   |   |   |   |   |   |   |   |--- class: 1\n",
            "|   |   |   |   |   |   |   |   |--- Net Value Per Share (A) >  -0.99\n",
            "|   |   |   |   |   |   |   |   |   |--- class: 0\n",
            "|   |   |   |   |--- Current Assets/Total Assets >  2.16\n",
            "|   |   |   |   |   |--- Current Liabilities/Equity <= 2.40\n",
            "|   |   |   |   |   |   |--- class: 1\n",
            "|   |   |   |   |   |--- Current Liabilities/Equity >  2.40\n",
            "|   |   |   |   |   |   |--- class: 0\n",
            "|   |--- Borrowing dependency >  0.28\n",
            "|   |   |--- Non-industry income and expenditure/revenue <= -0.02\n",
            "|   |   |   |--- Interest Expense Ratio <= -0.32\n",
            "|   |   |   |   |--- ROA(B) before interest and depreciation after tax <= -0.55\n",
            "|   |   |   |   |   |--- Cash flow rate <= -0.23\n",
            "|   |   |   |   |   |   |--- Non-industry income and expenditure/revenue <= -0.07\n",
            "|   |   |   |   |   |   |   |--- class: 0\n",
            "|   |   |   |   |   |   |--- Non-industry income and expenditure/revenue >  -0.07\n",
            "|   |   |   |   |   |   |   |--- Current Liability to Current Assets <= 0.00\n",
            "|   |   |   |   |   |   |   |   |--- class: 0\n",
            "|   |   |   |   |   |   |   |--- Current Liability to Current Assets >  0.00\n",
            "|   |   |   |   |   |   |   |   |--- class: 1\n",
            "|   |   |   |   |   |--- Cash flow rate >  -0.23\n",
            "|   |   |   |   |   |   |--- class: 0\n",
            "|   |   |   |   |--- ROA(B) before interest and depreciation after tax >  -0.55\n",
            "|   |   |   |   |   |--- Gross Profit to Sales <= -0.56\n",
            "|   |   |   |   |   |   |--- class: 1\n",
            "|   |   |   |   |   |--- Gross Profit to Sales >  -0.56\n",
            "|   |   |   |   |   |   |--- class: 0\n",
            "|   |   |   |--- Interest Expense Ratio >  -0.32\n",
            "|   |   |   |   |--- Cash Flow to Sales <= 0.00\n",
            "|   |   |   |   |   |--- Fixed Assets Turnover Frequency <= 2.57\n",
            "|   |   |   |   |   |   |--- Research and development expense rate <= 0.28\n",
            "|   |   |   |   |   |   |   |--- Non-industry income and expenditure/revenue <= -0.02\n",
            "|   |   |   |   |   |   |   |   |--- Persistent EPS in the Last Four Seasons <= -0.99\n",
            "|   |   |   |   |   |   |   |   |   |--- Interest Coverage Ratio (Interest expense to EBIT) <= -0.09\n",
            "|   |   |   |   |   |   |   |   |   |   |--- Current Liability to Equity <= 0.07\n",
            "|   |   |   |   |   |   |   |   |   |   |   |--- class: 0\n",
            "|   |   |   |   |   |   |   |   |   |   |--- Current Liability to Equity >  0.07\n",
            "|   |   |   |   |   |   |   |   |   |   |   |--- class: 1\n",
            "|   |   |   |   |   |   |   |   |   |--- Interest Coverage Ratio (Interest expense to EBIT) >  -0.09\n",
            "|   |   |   |   |   |   |   |   |   |   |--- class: 0\n",
            "|   |   |   |   |   |   |   |   |--- Persistent EPS in the Last Four Seasons >  -0.99\n",
            "|   |   |   |   |   |   |   |   |   |--- Total Asset Growth Rate <= 0.62\n",
            "|   |   |   |   |   |   |   |   |   |   |--- Non-industry income and expenditure/revenue <= -0.02\n",
            "|   |   |   |   |   |   |   |   |   |   |   |--- truncated branch of depth 2\n",
            "|   |   |   |   |   |   |   |   |   |   |--- Non-industry income and expenditure/revenue >  -0.02\n",
            "|   |   |   |   |   |   |   |   |   |   |   |--- truncated branch of depth 2\n",
            "|   |   |   |   |   |   |   |   |   |--- Total Asset Growth Rate >  0.62\n",
            "|   |   |   |   |   |   |   |   |   |   |--- Current Liability to Assets <= 0.95\n",
            "|   |   |   |   |   |   |   |   |   |   |   |--- truncated branch of depth 2\n",
            "|   |   |   |   |   |   |   |   |   |   |--- Current Liability to Assets >  0.95\n",
            "|   |   |   |   |   |   |   |   |   |   |   |--- class: 0\n",
            "|   |   |   |   |   |   |   |--- Non-industry income and expenditure/revenue >  -0.02\n",
            "|   |   |   |   |   |   |   |   |--- class: 1\n",
            "|   |   |   |   |   |   |--- Research and development expense rate >  0.28\n",
            "|   |   |   |   |   |   |   |--- Net Value Per Share (A) <= -0.43\n",
            "|   |   |   |   |   |   |   |   |--- class: 1\n",
            "|   |   |   |   |   |   |   |--- Net Value Per Share (A) >  -0.43\n",
            "|   |   |   |   |   |   |   |   |--- Inventory Turnover Rate (times) <= -0.62\n",
            "|   |   |   |   |   |   |   |   |   |--- class: 0\n",
            "|   |   |   |   |   |   |   |   |--- Inventory Turnover Rate (times) >  -0.62\n",
            "|   |   |   |   |   |   |   |   |   |--- class: 1\n",
            "|   |   |   |   |   |--- Fixed Assets Turnover Frequency >  2.57\n",
            "|   |   |   |   |   |   |--- Realized Sales Gross Margin <= -0.20\n",
            "|   |   |   |   |   |   |   |--- class: 1\n",
            "|   |   |   |   |   |   |--- Realized Sales Gross Margin >  -0.20\n",
            "|   |   |   |   |   |   |   |--- class: 0\n",
            "|   |   |   |   |--- Cash Flow to Sales >  0.00\n",
            "|   |   |   |   |   |--- Inventory and accounts receivable/Net value <= -0.59\n",
            "|   |   |   |   |   |   |--- class: 1\n",
            "|   |   |   |   |   |--- Inventory and accounts receivable/Net value >  -0.59\n",
            "|   |   |   |   |   |   |--- ROA(C) before interest and depreciation before interest <= -1.38\n",
            "|   |   |   |   |   |   |   |--- class: 1\n",
            "|   |   |   |   |   |   |--- ROA(C) before interest and depreciation before interest >  -1.38\n",
            "|   |   |   |   |   |   |   |--- Total Asset Return Growth Rate Ratio <= 0.14\n",
            "|   |   |   |   |   |   |   |   |--- Current Asset Turnover Rate <= 2.67\n",
            "|   |   |   |   |   |   |   |   |   |--- Net profit before tax/Paid-in capital <= -1.32\n",
            "|   |   |   |   |   |   |   |   |   |   |--- Current Liabilities/Liability <= -1.79\n",
            "|   |   |   |   |   |   |   |   |   |   |   |--- class: 1\n",
            "|   |   |   |   |   |   |   |   |   |   |--- Current Liabilities/Liability >  -1.79\n",
            "|   |   |   |   |   |   |   |   |   |   |   |--- class: 0\n",
            "|   |   |   |   |   |   |   |   |   |--- Net profit before tax/Paid-in capital >  -1.32\n",
            "|   |   |   |   |   |   |   |   |   |   |--- class: 0\n",
            "|   |   |   |   |   |   |   |   |--- Current Asset Turnover Rate >  2.67\n",
            "|   |   |   |   |   |   |   |   |   |--- Total income/Total expense <= -0.02\n",
            "|   |   |   |   |   |   |   |   |   |   |--- Cash Flow Per Share <= -0.73\n",
            "|   |   |   |   |   |   |   |   |   |   |   |--- class: 0\n",
            "|   |   |   |   |   |   |   |   |   |   |--- Cash Flow Per Share >  -0.73\n",
            "|   |   |   |   |   |   |   |   |   |   |   |--- class: 1\n",
            "|   |   |   |   |   |   |   |   |   |--- Total income/Total expense >  -0.02\n",
            "|   |   |   |   |   |   |   |   |   |   |--- class: 0\n",
            "|   |   |   |   |   |   |   |--- Total Asset Return Growth Rate Ratio >  0.14\n",
            "|   |   |   |   |   |   |   |   |--- class: 1\n",
            "|   |   |--- Non-industry income and expenditure/revenue >  -0.02\n",
            "|   |   |   |--- Working Capital/Equity <= -1.44\n",
            "|   |   |   |   |--- class: 1\n",
            "|   |   |   |--- Working Capital/Equity >  -1.44\n",
            "|   |   |   |   |--- Fixed Assets Turnover Frequency <= 3.38\n",
            "|   |   |   |   |   |--- Persistent EPS in the Last Four Seasons <= -0.57\n",
            "|   |   |   |   |   |   |--- Continuous Net Profit Growth Rate <= -0.00\n",
            "|   |   |   |   |   |   |   |--- Persistent EPS in the Last Four Seasons <= -0.58\n",
            "|   |   |   |   |   |   |   |   |--- Net Value Per Share (B) <= -1.34\n",
            "|   |   |   |   |   |   |   |   |   |--- class: 1\n",
            "|   |   |   |   |   |   |   |   |--- Net Value Per Share (B) >  -1.34\n",
            "|   |   |   |   |   |   |   |   |   |--- Contingent liabilities/Net worth <= 0.10\n",
            "|   |   |   |   |   |   |   |   |   |   |--- Cash/Total Assets <= -0.86\n",
            "|   |   |   |   |   |   |   |   |   |   |   |--- truncated branch of depth 2\n",
            "|   |   |   |   |   |   |   |   |   |   |--- Cash/Total Assets >  -0.86\n",
            "|   |   |   |   |   |   |   |   |   |   |   |--- class: 0\n",
            "|   |   |   |   |   |   |   |   |   |--- Contingent liabilities/Net worth >  0.10\n",
            "|   |   |   |   |   |   |   |   |   |   |--- class: 1\n",
            "|   |   |   |   |   |   |   |--- Persistent EPS in the Last Four Seasons >  -0.58\n",
            "|   |   |   |   |   |   |   |   |--- class: 1\n",
            "|   |   |   |   |   |   |--- Continuous Net Profit Growth Rate >  -0.00\n",
            "|   |   |   |   |   |   |   |--- class: 1\n",
            "|   |   |   |   |   |--- Persistent EPS in the Last Four Seasons >  -0.57\n",
            "|   |   |   |   |   |   |--- Operating Funds to Liability <= 0.20\n",
            "|   |   |   |   |   |   |   |--- Degree of Financial Leverage (DFL) <= 0.90\n",
            "|   |   |   |   |   |   |   |   |--- Equity to Long-term Liability <= 0.84\n",
            "|   |   |   |   |   |   |   |   |   |--- class: 0\n",
            "|   |   |   |   |   |   |   |   |--- Equity to Long-term Liability >  0.84\n",
            "|   |   |   |   |   |   |   |   |   |--- Equity to Long-term Liability <= 0.86\n",
            "|   |   |   |   |   |   |   |   |   |   |--- class: 1\n",
            "|   |   |   |   |   |   |   |   |   |--- Equity to Long-term Liability >  0.86\n",
            "|   |   |   |   |   |   |   |   |   |   |--- Borrowing dependency <= 0.90\n",
            "|   |   |   |   |   |   |   |   |   |   |   |--- class: 0\n",
            "|   |   |   |   |   |   |   |   |   |   |--- Borrowing dependency >  0.90\n",
            "|   |   |   |   |   |   |   |   |   |   |   |--- truncated branch of depth 2\n",
            "|   |   |   |   |   |   |   |--- Degree of Financial Leverage (DFL) >  0.90\n",
            "|   |   |   |   |   |   |   |   |--- Net profit before tax/Paid-in capital <= -0.44\n",
            "|   |   |   |   |   |   |   |   |   |--- class: 0\n",
            "|   |   |   |   |   |   |   |   |--- Net profit before tax/Paid-in capital >  -0.44\n",
            "|   |   |   |   |   |   |   |   |   |--- class: 1\n",
            "|   |   |   |   |   |   |--- Operating Funds to Liability >  0.20\n",
            "|   |   |   |   |   |   |   |--- ROA(C) before interest and depreciation before interest <= 0.79\n",
            "|   |   |   |   |   |   |   |   |--- class: 0\n",
            "|   |   |   |   |   |   |   |--- ROA(C) before interest and depreciation before interest >  0.79\n",
            "|   |   |   |   |   |   |   |   |--- class: 1\n",
            "|   |   |   |   |--- Fixed Assets Turnover Frequency >  3.38\n",
            "|   |   |   |   |   |--- Current Liability to Liability <= -0.63\n",
            "|   |   |   |   |   |   |--- class: 1\n",
            "|   |   |   |   |   |--- Current Liability to Liability >  -0.63\n",
            "|   |   |   |   |   |   |--- class: 0\n",
            "\n"
          ]
        }
      ],
      "source": [
        "from sklearn.tree import DecisionTreeClassifier\n",
        "from sklearn.model_selection import GridSearchCV\n",
        "from sklearn.metrics import classification_report\n",
        "from sklearn import tree\n",
        "\n",
        "nome='' \n",
        "dataset_atual = ''\n",
        "max_depth_passada = None\n",
        "dataset_atual = df_norm\n",
        "\n",
        "y = dataset_atual['Bankrupt?']\n",
        "X = dataset_atual.drop(columns=['Bankrupt?'])\n",
        "\n",
        "X_train, X_test, y_train, y_test = train_test_split(X, y, test_size=0.2, random_state=42)\n",
        "\n",
        "# Create the Decision Tree classifier\n",
        "dt = DecisionTreeClassifier(criterion='gini', max_depth=None, min_samples_leaf=1, min_samples_split=2)\n",
        "\n",
        "# Fit the classifier to the data\n",
        "dt.fit(X_train, y_train)\n",
        "\n",
        "# Get the feature importances\n",
        "importances = dt.feature_importances_\n",
        "\n",
        "# Get the indices of the most important features\n",
        "top_indices = importances.argsort()[:10]  # Change the number 3 to the desired number of top features\n",
        "\n",
        "# Get the names of the most important features\n",
        "top_features = X.columns[top_indices]\n",
        "\n",
        "# Print the first attributes used in the construction of the decision tree\n",
        "print(\"First attributes used in the construction of the decision tree:\")\n",
        "for feature in top_features:\n",
        "    print(feature)\n",
        "    \n",
        "# Predict the labels of the test set\n",
        "y_pred = dt.predict(X_test)\n",
        "\n",
        "text_representation = tree.export_text(dt, feature_names= X.columns.tolist())\n",
        "print(text_representation)\n"
      ]
    },
    {
      "cell_type": "markdown",
      "metadata": {},
      "source": [
        "10 primeiros atributos usados na construção da árvore de decisão:\n",
        "\n",
        "First attributes used in the construction of the decision tree:\n",
        "Average Collection Days\n",
        "Cash Reinvestment %\n",
        "Current Ratio\n",
        "Quick Ratio\n",
        "Total debt/Total net worth\n",
        "Long-term fund suitability ratio (A)\n",
        "Total Asset Turnover\n",
        "Accounts Receivable Turnover\n",
        "Net Worth Turnover Rate (times)\n",
        "Revenue per person"
      ]
    },
    {
      "cell_type": "markdown",
      "metadata": {},
      "source": [
        "Regras da árvore de decisão: "
      ]
    },
    {
      "cell_type": "code",
      "execution_count": null,
      "metadata": {},
      "outputs": [],
      "source": [
        "|--- Net Income to Stockholder's Equity <= -0.42\n",
        "|   |--- Interest Expense Ratio <= -0.07\n",
        "|   |   |--- Non-industry income and expenditure/revenue <= -0.02\n",
        "|   |   |   |--- Current Liability to Liability <= -1.20\n",
        "|   |   |   |   |--- Gross Profit to Sales <= -1.53\n",
        "|   |   |   |   |   |--- class: 1\n",
        "|   |   |   |   |--- Gross Profit to Sales >  -1.53\n",
        "|   |   |   |   |   |--- class: 0\n",
        "|   |   |   |--- Current Liability to Liability >  -1.20\n",
        "|   |   |   |   |--- Total Asset Return Growth Rate Ratio <= -0.19\n",
        "|   |   |   |   |   |--- Cash/Total Assets <= -0.83\n",
        "|   |   |   |   |   |   |--- class: 1\n",
        "|   |   |   |   |   |--- Cash/Total Assets >  -0.83\n",
        "|   |   |   |   |   |   |--- class: 0\n",
        "|   |   |   |   |--- Total Asset Return Growth Rate Ratio >  -0.19\n",
        "|   |   |   |   |   |--- Inventory/Working Capital <= -0.19\n",
        "|   |   |   |   |   |   |--- class: 0\n",
        "|   |   |   |   |   |--- Inventory/Working Capital >  -0.19\n",
        "|   |   |   |   |   |   |--- class: 1\n",
        "|   |   |--- Non-industry income and expenditure/revenue >  -0.02\n",
        "|   |   |   |--- Operating profit per person <= -0.91\n",
        "|   |   |   |   |--- Cash Flow to Sales <= 0.00\n",
        "|   |   |   |   |   |--- class: 1\n",
        "|   |   |   |   |--- Cash Flow to Sales >  0.00\n",
        "|   |   |   |   |   |--- class: 0\n",
        "|   |   |   |--- Operating profit per person >  -0.91\n",
        "|   |   |   |   |--- class: 0\n",
        "|   |--- Interest Expense Ratio >  -0.07\n",
        "|   |   |--- Net Income to Total Assets <= -4.94\n",
        "|   |   |   |--- Inventory and accounts receivable/Net value <= 0.38\n",
        "|   |   |   |   |--- Net Value Per Share (C) <= -1.42\n",
        "|   |   |   |   |   |--- class: 0\n",
        "|   |   |   |   |--- Net Value Per Share (C) >  -1.42\n",
        "|   |   |   |   |   |--- Total income/Total expense <= -0.05\n",
        "|   |   |   |   |   |   |--- class: 1\n",
        "|   |   |   |   |   |--- Total income/Total expense >  -0.05\n",
        "|   |   |   |   |   |   |--- class: 0\n",
        "|   |   |   |--- Inventory and accounts receivable/Net value >  0.38\n",
        "|   |   |   |   |--- class: 1\n",
        "|   |   |--- Net Income to Total Assets >  -4.94\n",
        "|   |   |   |--- Research and development expense rate <= 1.09\n",
        "|   |   |   |   |--- Cash Flow to Total Assets <= -0.16\n",
        "|   |   |   |   |   |--- Operating Profit Growth Rate <= -0.02\n",
        "|   |   |   |   |   |   |--- class: 0\n",
        "|   |   |   |   |   |--- Operating Profit Growth Rate >  -0.02\n",
        "|   |   |   |   |   |   |--- Debt ratio % <= 0.11\n",
        "|   |   |   |   |   |   |   |--- class: 1\n",
        "|   |   |   |   |   |   |--- Debt ratio % >  0.11\n",
        "|   |   |   |   |   |   |   |--- Current Liability to Assets <= 1.88\n",
        "|   |   |   |   |   |   |   |   |--- Total Asset Return Growth Rate Ratio <= -0.23\n",
        "|   |   |   |   |   |   |   |   |   |--- class: 1\n",
        "|   |   |   |   |   |   |   |   |--- Total Asset Return Growth Rate Ratio >  -0.23\n",
        "|   |   |   |   |   |   |   |   |   |--- Inventory/Working Capital <= 0.06\n",
        "|   |   |   |   |   |   |   |   |   |   |--- class: 0\n",
        "|   |   |   |   |   |   |   |   |   |--- Inventory/Working Capital >  0.06\n",
        "|   |   |   |   |   |   |   |   |   |   |--- Operating Profit Rate <= -0.00\n",
        "|   |   |   |   |   |   |   |   |   |   |   |--- class: 0\n",
        "|   |   |   |   |   |   |   |   |   |   |--- Operating Profit Rate >  -0.00\n",
        "|   |   |   |   |   |   |   |   |   |   |   |--- class: 1\n",
        "|   |   |   |   |   |   |   |--- Current Liability to Assets >  1.88\n",
        "|   |   |   |   |   |   |   |   |--- Quick Assets/Total Assets <= 1.17\n",
        "|   |   |   |   |   |   |   |   |   |--- class: 1\n",
        "|   |   |   |   |   |   |   |   |--- Quick Assets/Total Assets >  1.17\n",
        "|   |   |   |   |   |   |   |   |   |--- class: 0\n",
        "|   |   |   |   |--- Cash Flow to Total Assets >  -0.16\n",
        "|   |   |   |   |   |--- Current Asset Turnover Rate <= 2.90\n",
        "|   |   |   |   |   |   |--- class: 0\n",
        "|   |   |   |   |   |--- Current Asset Turnover Rate >  2.90\n",
        "|   |   |   |   |   |   |--- class: 1\n",
        "|   |   |   |--- Research and development expense rate >  1.09\n",
        "|   |   |   |   |--- Net Income to Total Assets <= -3.48\n",
        "|   |   |   |   |   |--- class: 1\n",
        "|   |   |   |   |--- Net Income to Total Assets >  -3.48\n",
        "|   |   |   |   |   |--- Equity to Long-term Liability <= 0.68\n",
        "|   |   |   |   |   |   |--- Retained Earnings to Total Assets <= -2.38\n",
        "|   |   |   |   |   |   |   |--- Current Liability to Current Assets <= -0.46\n",
        "|   |   |   |   |   |   |   |   |--- class: 0\n",
        "|   |   |   |   |   |   |   |--- Current Liability to Current Assets >  -0.46\n",
        "|   |   |   |   |   |   |   |   |--- class: 1\n",
        "|   |   |   |   |   |   |--- Retained Earnings to Total Assets >  -2.38\n",
        "|   |   |   |   |   |   |   |--- Net Value Per Share (C) <= -0.75\n",
        "|   |   |   |   |   |   |   |   |--- class: 0\n",
        "|   |   |   |   |   |   |   |--- Net Value Per Share (C) >  -0.75\n",
        "|   |   |   |   |   |   |   |   |--- class: 1\n",
        "|   |   |   |   |   |--- Equity to Long-term Liability >  0.68\n",
        "|   |   |   |   |   |   |--- Net Income to Stockholder's Equity <= -1.39\n",
        "|   |   |   |   |   |   |   |--- class: 0\n",
        "|   |   |   |   |   |   |--- Net Income to Stockholder's Equity >  -1.39\n",
        "|   |   |   |   |   |   |   |--- class: 1\n",
        "|--- Net Income to Stockholder's Equity >  -0.42\n",
        "|   |--- Borrowing dependency <= 0.28\n",
        "|   |   |--- Net Income to Total Assets <= -2.81\n",
        "|   |   |   |--- Regular Net Profit Growth Rate <= 0.01\n",
        "|   |   |   |   |--- class: 1\n",
        "|   |   |   |--- Regular Net Profit Growth Rate >  0.01\n",
        "|   |   |   |   |--- class: 0\n",
        "|   |   |--- Net Income to Total Assets >  -2.81\n",
        "|   |   |   |--- Continuous Net Profit Growth Rate <= -3.69\n",
        "|   |   |   |   |--- class: 1\n",
        "|   |   |   |--- Continuous Net Profit Growth Rate >  -3.69\n",
        "|   |   |   |   |--- Current Assets/Total Assets <= 2.16\n",
        "|   |   |   |   |   |--- Degree of Financial Leverage (DFL) <= -0.06\n",
        "|   |   |   |   |   |   |--- ROA(B) before interest and depreciation after tax <= -1.26\n",
        "|   |   |   |   |   |   |   |--- Total income/Total expense <= -0.04\n",
        "|   |   |   |   |   |   |   |   |--- class: 1\n",
        "|   |   |   |   |   |   |   |--- Total income/Total expense >  -0.04\n",
        "|   |   |   |   |   |   |   |   |--- class: 0\n",
        "|   |   |   |   |   |   |--- ROA(B) before interest and depreciation after tax >  -1.26\n",
        "|   |   |   |   |   |   |   |--- Total Asset Return Growth Rate Ratio <= 0.17\n",
        "|   |   |   |   |   |   |   |   |--- Degree of Financial Leverage (DFL) <= -0.06\n",
        "|   |   |   |   |   |   |   |   |   |--- Operating Profit Growth Rate <= -0.53\n",
        "|   |   |   |   |   |   |   |   |   |   |--- Cash Flow to Sales <= 0.00\n",
        "|   |   |   |   |   |   |   |   |   |   |   |--- class: 0\n",
        "|   |   |   |   |   |   |   |   |   |   |--- Cash Flow to Sales >  0.00\n",
        "|   |   |   |   |   |   |   |   |   |   |   |--- class: 1\n",
        "|   |   |   |   |   |   |   |   |   |--- Operating Profit Growth Rate >  -0.53\n",
        "|   |   |   |   |   |   |   |   |   |   |--- Working Capital/Equity <= 0.41\n",
        "|   |   |   |   |   |   |   |   |   |   |   |--- truncated branch of depth 6\n",
        "|   |   |   |   |   |   |   |   |   |   |--- Working Capital/Equity >  0.41\n",
        "|   |   |   |   |   |   |   |   |   |   |   |--- truncated branch of depth 3\n",
        "|   |   |   |   |   |   |   |   |--- Degree of Financial Leverage (DFL) >  -0.06\n",
        "|   |   |   |   |   |   |   |   |   |--- class: 1\n",
        "|   |   |   |   |   |   |   |--- Total Asset Return Growth Rate Ratio >  0.17\n",
        "|   |   |   |   |   |   |   |   |--- Retained Earnings to Total Assets <= -0.89\n",
        "|   |   |   |   |   |   |   |   |   |--- class: 0\n",
        "|   |   |   |   |   |   |   |   |--- Retained Earnings to Total Assets >  -0.89\n",
        "|   |   |   |   |   |   |   |   |   |--- class: 1\n",
        "|   |   |   |   |   |--- Degree of Financial Leverage (DFL) >  -0.06\n",
        "|   |   |   |   |   |   |--- Cash/Total Assets <= -0.89\n",
        "|   |   |   |   |   |   |   |--- Operating Profit Growth Rate <= 0.01\n",
        "|   |   |   |   |   |   |   |   |--- class: 0\n",
        "|   |   |   |   |   |   |   |--- Operating Profit Growth Rate >  0.01\n",
        "|   |   |   |   |   |   |   |   |--- class: 1\n",
        "|   |   |   |   |   |   |--- Cash/Total Assets >  -0.89\n",
        "|   |   |   |   |   |   |   |--- Net worth/Assets <= 2.08\n",
        "|   |   |   |   |   |   |   |   |--- Degree of Financial Leverage (DFL) <= 11.05\n",
        "|   |   |   |   |   |   |   |   |   |--- Interest Expense Ratio <= 0.12\n",
        "|   |   |   |   |   |   |   |   |   |   |--- Research and development expense rate <= 3.04\n",
        "|   |   |   |   |   |   |   |   |   |   |   |--- truncated branch of depth 4\n",
        "|   |   |   |   |   |   |   |   |   |   |--- Research and development expense rate >  3.04\n",
        "|   |   |   |   |   |   |   |   |   |   |   |--- truncated branch of depth 2\n",
        "|   |   |   |   |   |   |   |   |   |--- Interest Expense Ratio >  0.12\n",
        "|   |   |   |   |   |   |   |   |   |   |--- Interest Expense Ratio <= 0.12\n",
        "|   |   |   |   |   |   |   |   |   |   |   |--- class: 1\n",
        "|   |   |   |   |   |   |   |   |   |   |--- Interest Expense Ratio >  0.12\n",
        "|   |   |   |   |   |   |   |   |   |   |   |--- truncated branch of depth 5\n",
        "|   |   |   |   |   |   |   |   |--- Degree of Financial Leverage (DFL) >  11.05\n",
        "|   |   |   |   |   |   |   |   |   |--- Quick Asset Turnover Rate <= 1.23\n",
        "|   |   |   |   |   |   |   |   |   |   |--- class: 0\n",
        "|   |   |   |   |   |   |   |   |   |--- Quick Asset Turnover Rate >  1.23\n",
        "|   |   |   |   |   |   |   |   |   |   |--- class: 1\n",
        "|   |   |   |   |   |   |   |--- Net worth/Assets >  2.08\n",
        "|   |   |   |   |   |   |   |   |--- Net Value Per Share (A) <= -0.99\n",
        "|   |   |   |   |   |   |   |   |   |--- class: 1\n",
        "|   |   |   |   |   |   |   |   |--- Net Value Per Share (A) >  -0.99\n",
        "|   |   |   |   |   |   |   |   |   |--- class: 0\n",
        "|   |   |   |   |--- Current Assets/Total Assets >  2.16\n",
        "|   |   |   |   |   |--- Current Liabilities/Equity <= 2.40\n",
        "|   |   |   |   |   |   |--- class: 1\n",
        "|   |   |   |   |   |--- Current Liabilities/Equity >  2.40\n",
        "|   |   |   |   |   |   |--- class: 0\n",
        "|   |--- Borrowing dependency >  0.28\n",
        "|   |   |--- Non-industry income and expenditure/revenue <= -0.02\n",
        "|   |   |   |--- Interest Expense Ratio <= -0.32\n",
        "|   |   |   |   |--- ROA(B) before interest and depreciation after tax <= -0.55\n",
        "|   |   |   |   |   |--- Cash flow rate <= -0.23\n",
        "|   |   |   |   |   |   |--- Non-industry income and expenditure/revenue <= -0.07\n",
        "|   |   |   |   |   |   |   |--- class: 0\n",
        "|   |   |   |   |   |   |--- Non-industry income and expenditure/revenue >  -0.07\n",
        "|   |   |   |   |   |   |   |--- Current Liability to Current Assets <= 0.00\n",
        "|   |   |   |   |   |   |   |   |--- class: 0\n",
        "|   |   |   |   |   |   |   |--- Current Liability to Current Assets >  0.00\n",
        "|   |   |   |   |   |   |   |   |--- class: 1\n",
        "|   |   |   |   |   |--- Cash flow rate >  -0.23\n",
        "|   |   |   |   |   |   |--- class: 0\n",
        "|   |   |   |   |--- ROA(B) before interest and depreciation after tax >  -0.55\n",
        "|   |   |   |   |   |--- Gross Profit to Sales <= -0.56\n",
        "|   |   |   |   |   |   |--- class: 1\n",
        "|   |   |   |   |   |--- Gross Profit to Sales >  -0.56\n",
        "|   |   |   |   |   |   |--- class: 0\n",
        "|   |   |   |--- Interest Expense Ratio >  -0.32\n",
        "|   |   |   |   |--- Cash Flow to Sales <= 0.00\n",
        "|   |   |   |   |   |--- Fixed Assets Turnover Frequency <= 2.57\n",
        "|   |   |   |   |   |   |--- Research and development expense rate <= 0.28\n",
        "|   |   |   |   |   |   |   |--- Non-industry income and expenditure/revenue <= -0.02\n",
        "|   |   |   |   |   |   |   |   |--- Persistent EPS in the Last Four Seasons <= -0.99\n",
        "|   |   |   |   |   |   |   |   |   |--- Interest Coverage Ratio (Interest expense to EBIT) <= -0.09\n",
        "|   |   |   |   |   |   |   |   |   |   |--- Current Liability to Equity <= 0.07\n",
        "|   |   |   |   |   |   |   |   |   |   |   |--- class: 0\n",
        "|   |   |   |   |   |   |   |   |   |   |--- Current Liability to Equity >  0.07\n",
        "|   |   |   |   |   |   |   |   |   |   |   |--- class: 1\n",
        "|   |   |   |   |   |   |   |   |   |--- Interest Coverage Ratio (Interest expense to EBIT) >  -0.09\n",
        "|   |   |   |   |   |   |   |   |   |   |--- class: 0\n",
        "|   |   |   |   |   |   |   |   |--- Persistent EPS in the Last Four Seasons >  -0.99\n",
        "|   |   |   |   |   |   |   |   |   |--- Total Asset Growth Rate <= 0.62\n",
        "|   |   |   |   |   |   |   |   |   |   |--- Non-industry income and expenditure/revenue <= -0.02\n",
        "|   |   |   |   |   |   |   |   |   |   |   |--- truncated branch of depth 2\n",
        "|   |   |   |   |   |   |   |   |   |   |--- Non-industry income and expenditure/revenue >  -0.02\n",
        "|   |   |   |   |   |   |   |   |   |   |   |--- truncated branch of depth 2\n",
        "|   |   |   |   |   |   |   |   |   |--- Total Asset Growth Rate >  0.62\n",
        "|   |   |   |   |   |   |   |   |   |   |--- Current Liability to Assets <= 0.95\n",
        "|   |   |   |   |   |   |   |   |   |   |   |--- truncated branch of depth 2\n",
        "|   |   |   |   |   |   |   |   |   |   |--- Current Liability to Assets >  0.95\n",
        "|   |   |   |   |   |   |   |   |   |   |   |--- class: 0\n",
        "|   |   |   |   |   |   |   |--- Non-industry income and expenditure/revenue >  -0.02\n",
        "|   |   |   |   |   |   |   |   |--- class: 1\n",
        "|   |   |   |   |   |   |--- Research and development expense rate >  0.28\n",
        "|   |   |   |   |   |   |   |--- Net Value Per Share (A) <= -0.43\n",
        "|   |   |   |   |   |   |   |   |--- class: 1\n",
        "|   |   |   |   |   |   |   |--- Net Value Per Share (A) >  -0.43\n",
        "|   |   |   |   |   |   |   |   |--- Inventory Turnover Rate (times) <= -0.62\n",
        "|   |   |   |   |   |   |   |   |   |--- class: 0\n",
        "|   |   |   |   |   |   |   |   |--- Inventory Turnover Rate (times) >  -0.62\n",
        "|   |   |   |   |   |   |   |   |   |--- class: 1\n",
        "|   |   |   |   |   |--- Fixed Assets Turnover Frequency >  2.57\n",
        "|   |   |   |   |   |   |--- Realized Sales Gross Margin <= -0.20\n",
        "|   |   |   |   |   |   |   |--- class: 1\n",
        "|   |   |   |   |   |   |--- Realized Sales Gross Margin >  -0.20\n",
        "|   |   |   |   |   |   |   |--- class: 0\n",
        "|   |   |   |   |--- Cash Flow to Sales >  0.00\n",
        "|   |   |   |   |   |--- Inventory and accounts receivable/Net value <= -0.59\n",
        "|   |   |   |   |   |   |--- class: 1\n",
        "|   |   |   |   |   |--- Inventory and accounts receivable/Net value >  -0.59\n",
        "|   |   |   |   |   |   |--- ROA(C) before interest and depreciation before interest <= -1.38\n",
        "|   |   |   |   |   |   |   |--- class: 1\n",
        "|   |   |   |   |   |   |--- ROA(C) before interest and depreciation before interest >  -1.38\n",
        "|   |   |   |   |   |   |   |--- Total Asset Return Growth Rate Ratio <= 0.14\n",
        "|   |   |   |   |   |   |   |   |--- Current Asset Turnover Rate <= 2.67\n",
        "|   |   |   |   |   |   |   |   |   |--- Net profit before tax/Paid-in capital <= -1.32\n",
        "|   |   |   |   |   |   |   |   |   |   |--- Current Liabilities/Liability <= -1.79\n",
        "|   |   |   |   |   |   |   |   |   |   |   |--- class: 1\n",
        "|   |   |   |   |   |   |   |   |   |   |--- Current Liabilities/Liability >  -1.79\n",
        "|   |   |   |   |   |   |   |   |   |   |   |--- class: 0\n",
        "|   |   |   |   |   |   |   |   |   |--- Net profit before tax/Paid-in capital >  -1.32\n",
        "|   |   |   |   |   |   |   |   |   |   |--- class: 0\n",
        "|   |   |   |   |   |   |   |   |--- Current Asset Turnover Rate >  2.67\n",
        "|   |   |   |   |   |   |   |   |   |--- Total income/Total expense <= -0.02\n",
        "|   |   |   |   |   |   |   |   |   |   |--- Cash Flow Per Share <= -0.73\n",
        "|   |   |   |   |   |   |   |   |   |   |   |--- class: 0\n",
        "|   |   |   |   |   |   |   |   |   |   |--- Cash Flow Per Share >  -0.73\n",
        "|   |   |   |   |   |   |   |   |   |   |   |--- class: 1\n",
        "|   |   |   |   |   |   |   |   |   |--- Total income/Total expense >  -0.02\n",
        "|   |   |   |   |   |   |   |   |   |   |--- class: 0\n",
        "|   |   |   |   |   |   |   |--- Total Asset Return Growth Rate Ratio >  0.14\n",
        "|   |   |   |   |   |   |   |   |--- class: 1\n",
        "|   |   |--- Non-industry income and expenditure/revenue >  -0.02\n",
        "|   |   |   |--- Working Capital/Equity <= -1.44\n",
        "|   |   |   |   |--- class: 1\n",
        "|   |   |   |--- Working Capital/Equity >  -1.44\n",
        "|   |   |   |   |--- Fixed Assets Turnover Frequency <= 3.38\n",
        "|   |   |   |   |   |--- Persistent EPS in the Last Four Seasons <= -0.57\n",
        "|   |   |   |   |   |   |--- Continuous Net Profit Growth Rate <= -0.00\n",
        "|   |   |   |   |   |   |   |--- Persistent EPS in the Last Four Seasons <= -0.58\n",
        "|   |   |   |   |   |   |   |   |--- Net Value Per Share (B) <= -1.34\n",
        "|   |   |   |   |   |   |   |   |   |--- class: 1\n",
        "|   |   |   |   |   |   |   |   |--- Net Value Per Share (B) >  -1.34\n",
        "|   |   |   |   |   |   |   |   |   |--- Contingent liabilities/Net worth <= 0.10\n",
        "|   |   |   |   |   |   |   |   |   |   |--- Cash/Total Assets <= -0.86\n",
        "|   |   |   |   |   |   |   |   |   |   |   |--- truncated branch of depth 2\n",
        "|   |   |   |   |   |   |   |   |   |   |--- Cash/Total Assets >  -0.86\n",
        "|   |   |   |   |   |   |   |   |   |   |   |--- class: 0\n",
        "|   |   |   |   |   |   |   |   |   |--- Contingent liabilities/Net worth >  0.10\n",
        "|   |   |   |   |   |   |   |   |   |   |--- class: 1\n",
        "|   |   |   |   |   |   |   |--- Persistent EPS in the Last Four Seasons >  -0.58\n",
        "|   |   |   |   |   |   |   |   |--- class: 1\n",
        "|   |   |   |   |   |   |--- Continuous Net Profit Growth Rate >  -0.00\n",
        "|   |   |   |   |   |   |   |--- class: 1\n",
        "|   |   |   |   |   |--- Persistent EPS in the Last Four Seasons >  -0.57\n",
        "|   |   |   |   |   |   |--- Operating Funds to Liability <= 0.20\n",
        "|   |   |   |   |   |   |   |--- Degree of Financial Leverage (DFL) <= 0.90\n",
        "|   |   |   |   |   |   |   |   |--- Equity to Long-term Liability <= 0.84\n",
        "|   |   |   |   |   |   |   |   |   |--- class: 0\n",
        "|   |   |   |   |   |   |   |   |--- Equity to Long-term Liability >  0.84\n",
        "|   |   |   |   |   |   |   |   |   |--- Equity to Long-term Liability <= 0.86\n",
        "|   |   |   |   |   |   |   |   |   |   |--- class: 1\n",
        "|   |   |   |   |   |   |   |   |   |--- Equity to Long-term Liability >  0.86\n",
        "|   |   |   |   |   |   |   |   |   |   |--- Borrowing dependency <= 0.90\n",
        "|   |   |   |   |   |   |   |   |   |   |   |--- class: 0\n",
        "|   |   |   |   |   |   |   |   |   |   |--- Borrowing dependency >  0.90\n",
        "|   |   |   |   |   |   |   |   |   |   |   |--- truncated branch of depth 2\n",
        "|   |   |   |   |   |   |   |--- Degree of Financial Leverage (DFL) >  0.90\n",
        "|   |   |   |   |   |   |   |   |--- Net profit before tax/Paid-in capital <= -0.44\n",
        "|   |   |   |   |   |   |   |   |   |--- class: 0\n",
        "|   |   |   |   |   |   |   |   |--- Net profit before tax/Paid-in capital >  -0.44\n",
        "|   |   |   |   |   |   |   |   |   |--- class: 1\n",
        "|   |   |   |   |   |   |--- Operating Funds to Liability >  0.20\n",
        "|   |   |   |   |   |   |   |--- ROA(C) before interest and depreciation before interest <= 0.79\n",
        "|   |   |   |   |   |   |   |   |--- class: 0\n",
        "|   |   |   |   |   |   |   |--- ROA(C) before interest and depreciation before interest >  0.79\n",
        "|   |   |   |   |   |   |   |   |--- class: 1\n",
        "|   |   |   |   |--- Fixed Assets Turnover Frequency >  3.38\n",
        "|   |   |   |   |   |--- Current Liability to Liability <= -0.63\n",
        "|   |   |   |   |   |   |--- class: 1\n",
        "|   |   |   |   |   |--- Current Liability to Liability >  -0.63\n",
        "|   |   |   |   |   |   |--- class: 0\n",
        "\n"
      ]
    },
    {
      "cell_type": "markdown",
      "metadata": {},
      "source": [
        "De acordo com a regra abaixo, se uma entrada tiver  'Net Income to Stockholder's Equity <= -0.42', 'Interest Expense Ratio <= -0.07', 'Non-industry income and expenditure/revenue <= -0.02' e 'Current Liability to Liability <= -1.20', mas tiver 'Gross Profit to Sales <= -1.53', então será da classe 1, bankrupt. \n",
        "\n",
        "Porém, se tiver os anteriores e 'Gross Profit to Sales >  -1.53', será da classe 0, não bankrupt."
      ]
    },
    {
      "cell_type": "code",
      "execution_count": null,
      "metadata": {},
      "outputs": [],
      "source": [
        "|--- Net Income to Stockholder's Equity <= -0.42\n",
        "|   |--- Interest Expense Ratio <= -0.07\n",
        "|   |   |--- Non-industry income and expenditure/revenue <= -0.02\n",
        "|   |   |   |--- Current Liability to Liability <= -1.20\n",
        "|   |   |   |   |--- Gross Profit to Sales <= -1.53\n",
        "|   |   |   |   |   |--- class: 1\n",
        "|   |   |   |   |--- Gross Profit to Sales >  -1.53\n",
        "|   |   |   |   |   |--- class: 0"
      ]
    }
  ],
  "metadata": {
    "colab": {
      "provenance": []
    },
    "kernelspec": {
      "display_name": "Python 3",
      "name": "python3"
    },
    "language_info": {
      "codemirror_mode": {
        "name": "ipython",
        "version": 3
      },
      "file_extension": ".py",
      "mimetype": "text/x-python",
      "name": "python",
      "nbconvert_exporter": "python",
      "pygments_lexer": "ipython3",
      "version": "3.12.0"
    }
  },
  "nbformat": 4,
  "nbformat_minor": 0
}
