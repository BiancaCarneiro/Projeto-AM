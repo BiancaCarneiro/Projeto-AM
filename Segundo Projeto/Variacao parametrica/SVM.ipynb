{
 "cells": [
  {
   "cell_type": "markdown",
   "metadata": {},
   "source": [
    "# Variação Paramétrica do SVM\n",
    "\n",
    "\n",
    "# Passo 1: Preparando o ambiente"
   ]
  },
  {
   "cell_type": "code",
   "execution_count": 1,
   "metadata": {},
   "outputs": [],
   "source": [
    "import pandas as pd\n",
    "import numpy as np\n",
    "from sklearn.svm import SVC\n",
    "from sklearn.model_selection import GridSearchCV, train_test_split\n",
    "from sklearn.metrics import classification_report"
   ]
  },
  {
   "cell_type": "code",
   "execution_count": 2,
   "metadata": {},
   "outputs": [],
   "source": [
    "DATASET_ORIGINAL = \"../datasets/data_normalizada.csv\"\n",
    "DATASET_SMOTE = \"../datasets/data_smote.csv\"\n",
    "DATASET_UNDER = \"../datasets/data_under.csv\"\n",
    "DATASET_TESTE = \"../datasets/data_test.csv\""
   ]
  },
  {
   "cell_type": "code",
   "execution_count": 3,
   "metadata": {},
   "outputs": [],
   "source": [
    "df: pd.DataFrame = pd.read_csv(DATASET_ORIGINAL)\n",
    "df_smote: pd.DataFrame = pd.read_csv(DATASET_SMOTE)\n",
    "df_under: pd.DataFrame = pd.read_csv(DATASET_UNDER)\n",
    "df_test: pd.DataFrame = pd.read_csv(DATASET_TESTE)"
   ]
  },
  {
   "cell_type": "code",
   "execution_count": 4,
   "metadata": {},
   "outputs": [
    {
     "name": "stdout",
     "output_type": "stream",
     "text": [
      "<class 'pandas.core.frame.DataFrame'>\n",
      "RangeIndex: 6819 entries, 0 to 6818\n",
      "Data columns (total 94 columns):\n",
      " #   Column                                                   Non-Null Count  Dtype  \n",
      "---  ------                                                   --------------  -----  \n",
      " 0   Bankrupt?                                                6819 non-null   int64  \n",
      " 1   ROA(C) before interest and depreciation before interest  6819 non-null   float64\n",
      " 2   ROA(A) before interest and % after tax                   6819 non-null   float64\n",
      " 3   ROA(B) before interest and depreciation after tax        6819 non-null   float64\n",
      " 4   Operating Gross Margin                                   6819 non-null   float64\n",
      " 5   Realized Sales Gross Margin                              6819 non-null   float64\n",
      " 6   Operating Profit Rate                                    6819 non-null   float64\n",
      " 7   Pre-tax net Interest Rate                                6819 non-null   float64\n",
      " 8   After-tax net Interest Rate                              6819 non-null   float64\n",
      " 9   Non-industry income and expenditure/revenue              6819 non-null   float64\n",
      " 10  Continuous interest rate (after tax)                     6819 non-null   float64\n",
      " 11  Operating Expense Rate                                   6819 non-null   float64\n",
      " 12  Research and development expense rate                    6819 non-null   float64\n",
      " 13  Cash flow rate                                           6819 non-null   float64\n",
      " 14  Interest-bearing debt interest rate                      6819 non-null   float64\n",
      " 15  Tax rate (A)                                             6819 non-null   float64\n",
      " 16  Net Value Per Share (B)                                  6819 non-null   float64\n",
      " 17  Net Value Per Share (A)                                  6819 non-null   float64\n",
      " 18  Net Value Per Share (C)                                  6819 non-null   float64\n",
      " 19  Persistent EPS in the Last Four Seasons                  6819 non-null   float64\n",
      " 20  Cash Flow Per Share                                      6819 non-null   float64\n",
      " 21  Revenue Per Share (Yuan ¥)                               6819 non-null   float64\n",
      " 22  Operating Profit Per Share (Yuan ¥)                      6819 non-null   float64\n",
      " 23  Per Share Net profit before tax (Yuan ¥)                 6819 non-null   float64\n",
      " 24  Realized Sales Gross Profit Growth Rate                  6819 non-null   float64\n",
      " 25  Operating Profit Growth Rate                             6819 non-null   float64\n",
      " 26  After-tax Net Profit Growth Rate                         6819 non-null   float64\n",
      " 27  Regular Net Profit Growth Rate                           6819 non-null   float64\n",
      " 28  Continuous Net Profit Growth Rate                        6819 non-null   float64\n",
      " 29  Total Asset Growth Rate                                  6819 non-null   float64\n",
      " 30  Net Value Growth Rate                                    6819 non-null   float64\n",
      " 31  Total Asset Return Growth Rate Ratio                     6819 non-null   float64\n",
      " 32  Cash Reinvestment %                                      6819 non-null   float64\n",
      " 33  Current Ratio                                            6819 non-null   float64\n",
      " 34  Quick Ratio                                              6819 non-null   float64\n",
      " 35  Interest Expense Ratio                                   6819 non-null   float64\n",
      " 36  Total debt/Total net worth                               6819 non-null   float64\n",
      " 37  Debt ratio %                                             6819 non-null   float64\n",
      " 38  Net worth/Assets                                         6819 non-null   float64\n",
      " 39  Long-term fund suitability ratio (A)                     6819 non-null   float64\n",
      " 40  Borrowing dependency                                     6819 non-null   float64\n",
      " 41  Contingent liabilities/Net worth                         6819 non-null   float64\n",
      " 42  Operating profit/Paid-in capital                         6819 non-null   float64\n",
      " 43  Net profit before tax/Paid-in capital                    6819 non-null   float64\n",
      " 44  Inventory and accounts receivable/Net value              6819 non-null   float64\n",
      " 45  Total Asset Turnover                                     6819 non-null   float64\n",
      " 46  Accounts Receivable Turnover                             6819 non-null   float64\n",
      " 47  Average Collection Days                                  6819 non-null   float64\n",
      " 48  Inventory Turnover Rate (times)                          6819 non-null   float64\n",
      " 49  Fixed Assets Turnover Frequency                          6819 non-null   float64\n",
      " 50  Net Worth Turnover Rate (times)                          6819 non-null   float64\n",
      " 51  Revenue per person                                       6819 non-null   float64\n",
      " 52  Operating profit per person                              6819 non-null   float64\n",
      " 53  Allocation rate per person                               6819 non-null   float64\n",
      " 54  Working Capital to Total Assets                          6819 non-null   float64\n",
      " 55  Quick Assets/Total Assets                                6819 non-null   float64\n",
      " 56  Current Assets/Total Assets                              6819 non-null   float64\n",
      " 57  Cash/Total Assets                                        6819 non-null   float64\n",
      " 58  Quick Assets/Current Liability                           6819 non-null   float64\n",
      " 59  Cash/Current Liability                                   6819 non-null   float64\n",
      " 60  Current Liability to Assets                              6819 non-null   float64\n",
      " 61  Operating Funds to Liability                             6819 non-null   float64\n",
      " 62  Inventory/Working Capital                                6819 non-null   float64\n",
      " 63  Inventory/Current Liability                              6819 non-null   float64\n",
      " 64  Current Liabilities/Liability                            6819 non-null   float64\n",
      " 65  Working Capital/Equity                                   6819 non-null   float64\n",
      " 66  Current Liabilities/Equity                               6819 non-null   float64\n",
      " 67  Long-term Liability to Current Assets                    6819 non-null   float64\n",
      " 68  Retained Earnings to Total Assets                        6819 non-null   float64\n",
      " 69  Total income/Total expense                               6819 non-null   float64\n",
      " 70  Total expense/Assets                                     6819 non-null   float64\n",
      " 71  Current Asset Turnover Rate                              6819 non-null   float64\n",
      " 72  Quick Asset Turnover Rate                                6819 non-null   float64\n",
      " 73  Working capitcal Turnover Rate                           6819 non-null   float64\n",
      " 74  Cash Turnover Rate                                       6819 non-null   float64\n",
      " 75  Cash Flow to Sales                                       6819 non-null   float64\n",
      " 76  Fixed Assets to Assets                                   6819 non-null   float64\n",
      " 77  Current Liability to Liability                           6819 non-null   float64\n",
      " 78  Current Liability to Equity                              6819 non-null   float64\n",
      " 79  Equity to Long-term Liability                            6819 non-null   float64\n",
      " 80  Cash Flow to Total Assets                                6819 non-null   float64\n",
      " 81  Cash Flow to Liability                                   6819 non-null   float64\n",
      " 82  CFO to Assets                                            6819 non-null   float64\n",
      " 83  Cash Flow to Equity                                      6819 non-null   float64\n",
      " 84  Current Liability to Current Assets                      6819 non-null   float64\n",
      " 85  Net Income to Total Assets                               6819 non-null   float64\n",
      " 86  Total assets to GNP price                                6819 non-null   float64\n",
      " 87  No-credit Interval                                       6819 non-null   float64\n",
      " 88  Gross Profit to Sales                                    6819 non-null   float64\n",
      " 89  Net Income to Stockholder's Equity                       6819 non-null   float64\n",
      " 90  Liability to Equity                                      6819 non-null   float64\n",
      " 91  Degree of Financial Leverage (DFL)                       6819 non-null   float64\n",
      " 92  Interest Coverage Ratio (Interest expense to EBIT)       6819 non-null   float64\n",
      " 93  Equity to Liability                                      6819 non-null   float64\n",
      "dtypes: float64(93), int64(1)\n",
      "memory usage: 4.9 MB\n"
     ]
    }
   ],
   "source": [
    "df.info()"
   ]
  },
  {
   "cell_type": "markdown",
   "metadata": {},
   "source": [
    "# Passo 2: Definição do Campo de busca\n",
    "\n",
    "Aqui é definido os parâmetros que serão testados pelo modelo. Segue abaixo uma breve explicação dos parâmetros testados:\n",
    "\n",
    " - C (float, default=1.0): Regularização, quanto maior, mais fraca é a força de regularização\n",
    " - kernel (\"linear\", \"poly\", \"rbf\", \"sigmoid\", \"precomputed\" ou função, default=\"rbf\"): kernel usado no algorítmo\n",
    " - degree (int, default=3): apenas para o kernel = poly\n",
    " - gamma (\"scale\", \"auto\" ou float, default=\"scale\"): coeficiente do kernel para \"rbf\", \"poly\" e \"sigmoid\".\n",
    " - coef0 (float, default=0.0): Termo independente na função do kernel, apenas para os kernels \"poly\" e \"sigmoid\"\n",
    " - tol (float, default=1e-3): tolerância para a parada\n",
    "\n",
    "Como há parâmetros que apenas funcionam para Kernels espeíficos, vamos separar os testes por Kernel pois o algorítmo de escolha de parâmetros será o GridSearchCV, que olha para todas as possibilidades e não faz sentido testar um modelo SVM com kernel linear com diferentes valores de degree, por exemplo."
   ]
  },
  {
   "cell_type": "code",
   "execution_count": 5,
   "metadata": {},
   "outputs": [],
   "source": [
    "svm_linear = {\n",
    "    \"C\": [0.1, 0.5, 1.0, 1.5, 2.0],\n",
    "    \"kernel\": [\"linear\"],\n",
    "    \"tol\": [1e-2, 1e-3, 1e-4]\n",
    "}"
   ]
  },
  {
   "cell_type": "code",
   "execution_count": 6,
   "metadata": {},
   "outputs": [],
   "source": [
    "svm_poly = {\n",
    "    \"C\": [0.1, 0.5, 1.0, 1.5, 2.0],\n",
    "    \"kernel\": [\"poly\"],\n",
    "    \"degree\": [2, 3, 4, 5],\n",
    "    \"gamma\": [\"scale\", \"auto\"],\n",
    "    \"coef0\": [0.0, 0.1, 0.5, 1.0],\n",
    "    \"tol\": [1e-2, 1e-3, 1e-4]\n",
    "}"
   ]
  },
  {
   "cell_type": "code",
   "execution_count": 7,
   "metadata": {},
   "outputs": [],
   "source": [
    "svm_rbf = {\n",
    "    \"C\": [0.1, 0.5, 1.0, 1.5, 2.0],\n",
    "    \"kernel\": [\"rbf\"],\n",
    "    \"gamma\": [\"scale\", \"auto\"],\n",
    "    \"tol\": [1e-2, 1e-3, 1e-4]\n",
    "}"
   ]
  },
  {
   "cell_type": "code",
   "execution_count": 8,
   "metadata": {},
   "outputs": [],
   "source": [
    "svm_sigmoid = {\n",
    "    \"C\": [0.1, 0.5, 1.0, 1.5, 2.0],\n",
    "    \"kernel\": [\"sigmoid\"],\n",
    "    \"gamma\": [\"scale\", \"auto\"],\n",
    "    \"coef0\": [0.0, 0.1, 0.5, 1.0],\n",
    "    \"tol\": [1e-2, 1e-3, 1e-4]\n",
    "}"
   ]
  },
  {
   "cell_type": "markdown",
   "metadata": {},
   "source": [
    "# Passo 3: Definindo a Busca por Parâmetros\n",
    "\n",
    "Nesse passo é usado o algorítmo GridSearchCV para escolher os melhores parâmetros, já que ele testa todas as possibilidades.\n",
    "\n",
    "Para ele, foi definido:\n",
    "\n",
    "n_jobs=-1: para utilizarmos todos os processadores possíveis e otimizar a execução;\n",
    "cv=5: para fazer um KFold com 5 folds, dividindo o dataset em 5 partes;\n",
    "scoring=\"f1\": para escolher os melhores parâmetros a partir do f1, por ser um dataset desbalanceado;\n",
    "error_score='raise': para propagar possíveis erros no treinamento com dado conjunto de parâmentros e parar o teste\n",
    "\n",
    "Comparações de performance serão feitas nas próximas etapas."
   ]
  },
  {
   "cell_type": "code",
   "execution_count": 9,
   "metadata": {},
   "outputs": [],
   "source": [
    "def SVMSearch(search_params: list[list], X_train: np.ndarray, X_test:  np.ndarray, y_train: np.ndarray, y_test: np.ndarray) -> list:\n",
    "    bests = []\n",
    "    for search_param in search_params:\n",
    "        svm = SVC()\n",
    "        \n",
    "        print(f\"Buscando com os parametros {search_param}\")\n",
    "        \n",
    "        svm_grid_searcher = GridSearchCV(svm, search_param, n_jobs=-1, error_score='raise', cv=5, scoring=\"f1\")\n",
    "        svm_best = svm_grid_searcher.fit(X_train, y_train)\n",
    "        \n",
    "        print(f\"Melhores parâmetros: {svm_best.best_params_}\")\n",
    "        print(f\"Melhor f1: {svm_best.best_score_}\")\n",
    "        \n",
    "        print(classification_report(y_test, svm_best.predict(X_test)))\n",
    "        bests.append(svm_best)\n",
    "    \n",
    "    return bests"
   ]
  },
  {
   "cell_type": "markdown",
   "metadata": {},
   "source": [
    "# Passo 4: Realizando a busca para o dataset normalizado"
   ]
  },
  {
   "cell_type": "code",
   "execution_count": 10,
   "metadata": {},
   "outputs": [],
   "source": [
    "X, y = df.iloc[:, 1:], df.iloc[:, 0]\n",
    "X_train, X_test, y_train, y_test = train_test_split(X, y, test_size=0.4, random_state=42)"
   ]
  },
  {
   "cell_type": "code",
   "execution_count": 11,
   "metadata": {},
   "outputs": [
    {
     "name": "stdout",
     "output_type": "stream",
     "text": [
      "Buscando com os parametros {'C': [0.1, 0.5, 1.0, 1.5, 2.0], 'kernel': ['linear'], 'tol': [0.01, 0.001, 0.0001]}\n",
      "Melhores parâmetros: {'C': 2.0, 'kernel': 'linear', 'tol': 0.01}\n",
      "Melhor f1: 0.11600052246603969\n",
      "              precision    recall  f1-score   support\n",
      "\n",
      "           0       0.97      1.00      0.98      2637\n",
      "           1       0.53      0.09      0.15        91\n",
      "\n",
      "    accuracy                           0.97      2728\n",
      "   macro avg       0.75      0.54      0.57      2728\n",
      "weighted avg       0.95      0.97      0.96      2728\n",
      "\n",
      "Buscando com os parametros {'C': [0.1, 0.5, 1.0, 1.5, 2.0], 'kernel': ['poly'], 'degree': [2, 3, 4, 5], 'gamma': ['scale', 'auto'], 'coef0': [0.0, 0.1, 0.5, 1.0], 'tol': [0.01, 0.001, 0.0001]}\n",
      "Melhores parâmetros: {'C': 1.5, 'coef0': 1.0, 'degree': 5, 'gamma': 'auto', 'kernel': 'poly', 'tol': 0.01}\n",
      "Melhor f1: 0.27073365231259966\n",
      "              precision    recall  f1-score   support\n",
      "\n",
      "           0       0.97      0.98      0.98      2637\n",
      "           1       0.33      0.23      0.27        91\n",
      "\n",
      "    accuracy                           0.96      2728\n",
      "   macro avg       0.65      0.61      0.62      2728\n",
      "weighted avg       0.95      0.96      0.96      2728\n",
      "\n",
      "Buscando com os parametros {'C': [0.1, 0.5, 1.0, 1.5, 2.0], 'kernel': ['rbf'], 'gamma': ['scale', 'auto'], 'tol': [0.01, 0.001, 0.0001]}\n",
      "Melhores parâmetros: {'C': 2.0, 'gamma': 'scale', 'kernel': 'rbf', 'tol': 0.01}\n",
      "Melhor f1: 0.12660098522167487\n",
      "              precision    recall  f1-score   support\n",
      "\n",
      "           0       0.97      1.00      0.98      2637\n",
      "           1       0.43      0.03      0.06        91\n",
      "\n",
      "    accuracy                           0.97      2728\n",
      "   macro avg       0.70      0.52      0.52      2728\n",
      "weighted avg       0.95      0.97      0.95      2728\n",
      "\n",
      "Buscando com os parametros {'C': [0.1, 0.5, 1.0, 1.5, 2.0], 'kernel': ['sigmoid'], 'gamma': ['scale', 'auto'], 'coef0': [0.0, 0.1, 0.5, 1.0], 'tol': [0.01, 0.001, 0.0001]}\n",
      "Melhores parâmetros: {'C': 2.0, 'coef0': 0.5, 'gamma': 'auto', 'kernel': 'sigmoid', 'tol': 0.01}\n",
      "Melhor f1: 0.2904850905517865\n",
      "              precision    recall  f1-score   support\n",
      "\n",
      "           0       0.97      0.99      0.98      2637\n",
      "           1       0.36      0.24      0.29        91\n",
      "\n",
      "    accuracy                           0.96      2728\n",
      "   macro avg       0.67      0.61      0.63      2728\n",
      "weighted avg       0.95      0.96      0.96      2728\n",
      "\n"
     ]
    }
   ],
   "source": [
    "bests = SVMSearch(\n",
    "    [\n",
    "        svm_linear,\n",
    "        svm_poly,\n",
    "        svm_rbf,\n",
    "        svm_sigmoid\n",
    "    ],\n",
    "    X_train, X_test, y_train, y_test\n",
    ")"
   ]
  },
  {
   "cell_type": "markdown",
   "metadata": {},
   "source": [
    "Podemos notar que os kernels \"linear\" e \"rbf\" não funcionaram bem para o nosso problema. Logo, vamos continuar a busca a partir dos outros kernels. Gamma=\"auto\" sempre foi melhor, então vamos fixar ele."
   ]
  },
  {
   "cell_type": "code",
   "execution_count": 12,
   "metadata": {},
   "outputs": [],
   "source": [
    "svm_poly_ = {\n",
    "    \"C\": [1.5, 2.0, 2.5, 3, 3.5],\n",
    "    \"kernel\": [\"poly\"],\n",
    "    \"degree\": [3, 4, 5, 6, 7, 8],\n",
    "    \"gamma\": [\"auto\"],\n",
    "    \"coef0\": [0.0, 0.1, 0.5, 1.0, 1.5, 2.0, 2.5],\n",
    "    \"tol\": [1e-2, 1e-3, 1e-4, 1e-5]\n",
    "}"
   ]
  },
  {
   "cell_type": "code",
   "execution_count": 13,
   "metadata": {},
   "outputs": [],
   "source": [
    "svm_sigmoid_ = {\n",
    "    \"C\": [1.5, 2.0, 2.5, 3, 3.5],\n",
    "    \"kernel\": [\"sigmoid\"],\n",
    "    \"gamma\": [\"auto\"],\n",
    "    \"coef0\": [0.0, 0.1, 0.5, 1.0, 1.5, 2.0, 2.5],\n",
    "    \"tol\": [1e-2, 1e-3, 1e-4, 1e-5]\n",
    "}"
   ]
  },
  {
   "cell_type": "code",
   "execution_count": 14,
   "metadata": {},
   "outputs": [
    {
     "name": "stdout",
     "output_type": "stream",
     "text": [
      "Buscando com os parametros {'C': [1.5, 2.0, 2.5, 3, 3.5], 'kernel': ['poly'], 'degree': [3, 4, 5, 6, 7, 8], 'gamma': ['auto'], 'coef0': [0.0, 0.1, 0.5, 1.0, 1.5, 2.0, 2.5], 'tol': [0.01, 0.001, 0.0001, 1e-05]}\n",
      "Melhores parâmetros: {'C': 2.5, 'coef0': 1.5, 'degree': 6, 'gamma': 'auto', 'kernel': 'poly', 'tol': 0.01}\n",
      "Melhor f1: 0.2980888843095839\n",
      "              precision    recall  f1-score   support\n",
      "\n",
      "           0       0.98      0.97      0.98      2637\n",
      "           1       0.31      0.35      0.33        91\n",
      "\n",
      "    accuracy                           0.95      2728\n",
      "   macro avg       0.64      0.66      0.65      2728\n",
      "weighted avg       0.96      0.95      0.95      2728\n",
      "\n",
      "Buscando com os parametros {'C': [1.5, 2.0, 2.5, 3, 3.5], 'kernel': ['sigmoid'], 'gamma': ['auto'], 'coef0': [0.0, 0.1, 0.5, 1.0, 1.5, 2.0, 2.5], 'tol': [0.01, 0.001, 0.0001, 1e-05]}\n",
      "Melhores parâmetros: {'C': 2.5, 'coef0': 0.5, 'gamma': 'auto', 'kernel': 'sigmoid', 'tol': 0.01}\n",
      "Melhor f1: 0.29249924626462775\n",
      "              precision    recall  f1-score   support\n",
      "\n",
      "           0       0.97      0.98      0.98      2637\n",
      "           1       0.35      0.24      0.29        91\n",
      "\n",
      "    accuracy                           0.96      2728\n",
      "   macro avg       0.66      0.61      0.63      2728\n",
      "weighted avg       0.95      0.96      0.96      2728\n",
      "\n"
     ]
    }
   ],
   "source": [
    "bests = SVMSearch(\n",
    "    [\n",
    "        svm_poly_,\n",
    "        svm_sigmoid_\n",
    "    ],\n",
    "    X_train, X_test, y_train, y_test\n",
    ")"
   ]
  },
  {
   "cell_type": "markdown",
   "metadata": {},
   "source": [
    "Os melhores parâmetros foram: {'C': 2.5, 'coef0': 1.5, 'degree': 6, 'gamma': 'auto', 'kernel': 'poly', 'tol': 0.01}, com f1 macro = 0.65 "
   ]
  },
  {
   "cell_type": "markdown",
   "metadata": {},
   "source": [
    "# Passo 5: Realizando a busca para o dataset smote"
   ]
  },
  {
   "cell_type": "code",
   "execution_count": 17,
   "metadata": {},
   "outputs": [],
   "source": [
    "X_train, y_train = df_smote.iloc[:, 1:], df_smote.iloc[:, 0]\n",
    "X_test, y_test = df_test.iloc[:, 1:], df_test.iloc[:, 0]"
   ]
  },
  {
   "cell_type": "code",
   "execution_count": 18,
   "metadata": {},
   "outputs": [
    {
     "name": "stdout",
     "output_type": "stream",
     "text": [
      "Buscando com os parametros {'C': [0.1, 0.5, 1.0, 1.5, 2.0], 'kernel': ['linear'], 'tol': [0.01, 0.001, 0.0001]}\n",
      "Melhores parâmetros: {'C': 1.5, 'kernel': 'linear', 'tol': 0.01}\n",
      "Melhor f1: 0.9061849629229503\n",
      "              precision    recall  f1-score   support\n",
      "\n",
      "           0       0.99      0.88      0.93      2637\n",
      "           1       0.19      0.79      0.30        91\n",
      "\n",
      "    accuracy                           0.88      2728\n",
      "   macro avg       0.59      0.84      0.62      2728\n",
      "weighted avg       0.96      0.88      0.91      2728\n",
      "\n",
      "Buscando com os parametros {'C': [0.1, 0.5, 1.0, 1.5, 2.0], 'kernel': ['poly'], 'degree': [2, 3, 4, 5], 'gamma': ['scale', 'auto'], 'coef0': [0.0, 0.1, 0.5, 1.0], 'tol': [0.01, 0.001, 0.0001]}\n",
      "Melhores parâmetros: {'C': 2.0, 'coef0': 1.0, 'degree': 5, 'gamma': 'auto', 'kernel': 'poly', 'tol': 0.01}\n",
      "Melhor f1: 0.9783742489005359\n",
      "              precision    recall  f1-score   support\n",
      "\n",
      "           0       0.98      0.95      0.97      2637\n",
      "           1       0.22      0.38      0.28        91\n",
      "\n",
      "    accuracy                           0.93      2728\n",
      "   macro avg       0.60      0.67      0.62      2728\n",
      "weighted avg       0.95      0.93      0.94      2728\n",
      "\n",
      "Buscando com os parametros {'C': [0.1, 0.5, 1.0, 1.5, 2.0], 'kernel': ['rbf'], 'gamma': ['scale', 'auto'], 'tol': [0.01, 0.001, 0.0001]}\n",
      "Melhores parâmetros: {'C': 2.0, 'gamma': 'auto', 'kernel': 'rbf', 'tol': 0.01}\n",
      "Melhor f1: 0.9601256298578253\n",
      "              precision    recall  f1-score   support\n",
      "\n",
      "           0       0.98      0.93      0.95      2637\n",
      "           1       0.20      0.55      0.30        91\n",
      "\n",
      "    accuracy                           0.91      2728\n",
      "   macro avg       0.59      0.74      0.62      2728\n",
      "weighted avg       0.96      0.91      0.93      2728\n",
      "\n",
      "Buscando com os parametros {'C': [0.1, 0.5, 1.0, 1.5, 2.0], 'kernel': ['sigmoid'], 'gamma': ['scale', 'auto'], 'coef0': [0.0, 0.1, 0.5, 1.0], 'tol': [0.01, 0.001, 0.0001]}\n",
      "Melhores parâmetros: {'C': 0.1, 'coef0': 1.0, 'gamma': 'scale', 'kernel': 'sigmoid', 'tol': 0.01}\n",
      "Melhor f1: 0.8504169492683419\n",
      "              precision    recall  f1-score   support\n",
      "\n",
      "           0       1.00      0.80      0.89      2637\n",
      "           1       0.13      0.89      0.23        91\n",
      "\n",
      "    accuracy                           0.80      2728\n",
      "   macro avg       0.56      0.84      0.56      2728\n",
      "weighted avg       0.97      0.80      0.86      2728\n",
      "\n"
     ]
    }
   ],
   "source": [
    "bests = SVMSearch(\n",
    "    [\n",
    "        svm_linear,\n",
    "        svm_poly,\n",
    "        svm_rbf,\n",
    "        svm_sigmoid\n",
    "    ],\n",
    "    X_train, X_test, y_train, y_test\n",
    ")"
   ]
  },
  {
   "cell_type": "markdown",
   "metadata": {},
   "source": [
    "Os melhores resultados foram com os kernels \"poly\" e \"rbf\". Para ambos o melhor gamma foi \"auto\", então será fixado nos próximos testes."
   ]
  },
  {
   "cell_type": "code",
   "execution_count": 19,
   "metadata": {},
   "outputs": [],
   "source": [
    "svm_poly_ = {\n",
    "    \"C\": [1.5, 2.0, 2.5, 3, 3.5],\n",
    "    \"kernel\": [\"poly\"],\n",
    "    \"degree\": [3, 4, 5, 6, 7, 8],\n",
    "    \"gamma\": [\"auto\"],\n",
    "    \"coef0\": [0.0, 0.1, 0.5, 1.0, 1.5, 2.0, 2.5],\n",
    "    \"tol\": [1e-2, 1e-3, 1e-4, 1e-5]\n",
    "}"
   ]
  },
  {
   "cell_type": "code",
   "execution_count": 20,
   "metadata": {},
   "outputs": [],
   "source": [
    "svm_rbf_ = {\n",
    "    \"C\": [1.5, 2.0, 2.5, 3, 3.5],\n",
    "    \"kernel\": [\"rbf\"],\n",
    "    \"gamma\": [\"auto\"],\n",
    "    \"coef0\": [0.0, 0.1, 0.5, 1.0, 1.5, 2.0, 2.5],\n",
    "    \"tol\": [1e-2, 1e-3, 1e-4, 1e-5]\n",
    "}"
   ]
  },
  {
   "cell_type": "code",
   "execution_count": 21,
   "metadata": {},
   "outputs": [
    {
     "name": "stdout",
     "output_type": "stream",
     "text": [
      "Buscando com os parametros {'C': [1.5, 2.0, 2.5, 3, 3.5], 'kernel': ['poly'], 'degree': [3, 4, 5, 6, 7, 8], 'gamma': ['auto'], 'coef0': [0.0, 0.1, 0.5, 1.0, 1.5, 2.0, 2.5], 'tol': [0.01, 0.001, 0.0001, 1e-05]}\n",
      "Melhores parâmetros: {'C': 3, 'coef0': 2.5, 'degree': 4, 'gamma': 'auto', 'kernel': 'poly', 'tol': 0.01}\n",
      "Melhor f1: 0.9820185584394624\n",
      "              precision    recall  f1-score   support\n",
      "\n",
      "           0       0.98      0.97      0.97      2637\n",
      "           1       0.29      0.41      0.34        91\n",
      "\n",
      "    accuracy                           0.95      2728\n",
      "   macro avg       0.64      0.69      0.66      2728\n",
      "weighted avg       0.96      0.95      0.95      2728\n",
      "\n",
      "Buscando com os parametros {'C': [1.5, 2.0, 2.5, 3, 3.5], 'kernel': ['rbf'], 'gamma': ['auto'], 'coef0': [0.0, 0.1, 0.5, 1.0, 1.5, 2.0, 2.5], 'tol': [0.01, 0.001, 0.0001, 1e-05]}\n",
      "Melhores parâmetros: {'C': 3.5, 'coef0': 0.0, 'gamma': 'auto', 'kernel': 'rbf', 'tol': 0.01}\n",
      "Melhor f1: 0.9680507177676463\n",
      "              precision    recall  f1-score   support\n",
      "\n",
      "           0       0.98      0.93      0.96      2637\n",
      "           1       0.21      0.53      0.30        91\n",
      "\n",
      "    accuracy                           0.92      2728\n",
      "   macro avg       0.60      0.73      0.63      2728\n",
      "weighted avg       0.96      0.92      0.93      2728\n",
      "\n"
     ]
    }
   ],
   "source": [
    "bests = SVMSearch(\n",
    "    [\n",
    "        svm_poly_,\n",
    "        svm_rbf_\n",
    "    ],\n",
    "    X_train, X_test, y_train, y_test\n",
    ")"
   ]
  },
  {
   "cell_type": "markdown",
   "metadata": {},
   "source": [
    "Analisando o f1 do teste (macro = 0.66), o modelo com os parâmetros {'C': 3, 'coef0': 2.5, 'degree': 4, 'gamma': 'auto', 'kernel': 'poly', 'tol': 0.01} foi melhor"
   ]
  },
  {
   "cell_type": "markdown",
   "metadata": {},
   "source": [
    "# Passo 6: Realizando a busca para o dataset under"
   ]
  },
  {
   "cell_type": "code",
   "execution_count": 22,
   "metadata": {},
   "outputs": [],
   "source": [
    "X_train, y_train = df_under.iloc[:, 1:], df_under.iloc[:, 0]\n",
    "X_test, y_test = df_test.iloc[:, 1:], df_test.iloc[:, 0]"
   ]
  },
  {
   "cell_type": "code",
   "execution_count": 23,
   "metadata": {},
   "outputs": [
    {
     "name": "stdout",
     "output_type": "stream",
     "text": [
      "Buscando com os parametros {'C': [0.1, 0.5, 1.0, 1.5, 2.0], 'kernel': ['linear'], 'tol': [0.01, 0.001, 0.0001]}\n",
      "Melhores parâmetros: {'C': 0.1, 'kernel': 'linear', 'tol': 0.01}\n",
      "Melhor f1: 0.8188535414165667\n",
      "              precision    recall  f1-score   support\n",
      "\n",
      "           0       0.99      0.82      0.90      2637\n",
      "           1       0.14      0.85      0.24        91\n",
      "\n",
      "    accuracy                           0.82      2728\n",
      "   macro avg       0.57      0.84      0.57      2728\n",
      "weighted avg       0.97      0.82      0.88      2728\n",
      "\n",
      "Buscando com os parametros {'C': [0.1, 0.5, 1.0, 1.5, 2.0], 'kernel': ['poly'], 'degree': [2, 3, 4, 5], 'gamma': ['scale', 'auto'], 'coef0': [0.0, 0.1, 0.5, 1.0], 'tol': [0.01, 0.001, 0.0001]}\n",
      "Melhores parâmetros: {'C': 0.1, 'coef0': 1.0, 'degree': 2, 'gamma': 'auto', 'kernel': 'poly', 'tol': 0.01}\n",
      "Melhor f1: 0.8475882352941178\n",
      "              precision    recall  f1-score   support\n",
      "\n",
      "           0       1.00      0.85      0.92      2637\n",
      "           1       0.17      0.88      0.28        91\n",
      "\n",
      "    accuracy                           0.85      2728\n",
      "   macro avg       0.58      0.87      0.60      2728\n",
      "weighted avg       0.97      0.85      0.90      2728\n",
      "\n",
      "Buscando com os parametros {'C': [0.1, 0.5, 1.0, 1.5, 2.0], 'kernel': ['rbf'], 'gamma': ['scale', 'auto'], 'tol': [0.01, 0.001, 0.0001]}\n",
      "Melhores parâmetros: {'C': 2.0, 'gamma': 'auto', 'kernel': 'rbf', 'tol': 0.01}\n",
      "Melhor f1: 0.8453921771901793\n",
      "              precision    recall  f1-score   support\n",
      "\n",
      "           0       1.00      0.80      0.89      2637\n",
      "           1       0.14      0.89      0.24        91\n",
      "\n",
      "    accuracy                           0.81      2728\n",
      "   macro avg       0.57      0.85      0.56      2728\n",
      "weighted avg       0.97      0.81      0.87      2728\n",
      "\n",
      "Buscando com os parametros {'C': [0.1, 0.5, 1.0, 1.5, 2.0], 'kernel': ['sigmoid'], 'gamma': ['scale', 'auto'], 'coef0': [0.0, 0.1, 0.5, 1.0], 'tol': [0.01, 0.001, 0.0001]}\n",
      "Melhores parâmetros: {'C': 0.5, 'coef0': 0.0, 'gamma': 'auto', 'kernel': 'sigmoid', 'tol': 0.01}\n",
      "Melhor f1: 0.8540427571770526\n",
      "              precision    recall  f1-score   support\n",
      "\n",
      "           0       1.00      0.84      0.91      2637\n",
      "           1       0.16      0.90      0.27        91\n",
      "\n",
      "    accuracy                           0.84      2728\n",
      "   macro avg       0.58      0.87      0.59      2728\n",
      "weighted avg       0.97      0.84      0.89      2728\n",
      "\n"
     ]
    }
   ],
   "source": [
    "bests = SVMSearch(\n",
    "    [\n",
    "        svm_linear,\n",
    "        svm_poly,\n",
    "        svm_rbf,\n",
    "        svm_sigmoid\n",
    "    ],\n",
    "    X_train, X_test, y_train, y_test\n",
    ")"
   ]
  },
  {
   "cell_type": "markdown",
   "metadata": {},
   "source": [
    "Os melhores resultados foram com os kernels \"poly\", \"sigmoid\" e \"rbf\". Para ambos o melhor gamma foi \"auto\", então será fixado nos próximos testes."
   ]
  },
  {
   "cell_type": "code",
   "execution_count": 24,
   "metadata": {},
   "outputs": [],
   "source": [
    "svm_poly_ = {\n",
    "    \"C\": [1.5, 2.0, 2.5, 3, 3.5],\n",
    "    \"kernel\": [\"poly\"],\n",
    "    \"degree\": [3, 4, 5, 6, 7, 8],\n",
    "    \"gamma\": [\"auto\"],\n",
    "    \"coef0\": [0.0, 0.1, 0.5, 1.0, 1.5, 2.0, 2.5],\n",
    "    \"tol\": [1e-2, 1e-3, 1e-4, 1e-5]\n",
    "}"
   ]
  },
  {
   "cell_type": "code",
   "execution_count": 25,
   "metadata": {},
   "outputs": [],
   "source": [
    "svm_rbf_ = {\n",
    "    \"C\": [1.5, 2.0, 2.5, 3, 3.5],\n",
    "    \"kernel\": [\"rbf\"],\n",
    "    \"gamma\": [\"auto\"],\n",
    "    \"tol\": [1e-2, 1e-3, 1e-4, 1e-5]\n",
    "}"
   ]
  },
  {
   "cell_type": "code",
   "execution_count": 26,
   "metadata": {},
   "outputs": [],
   "source": [
    "svm_sigmoid_ = {\n",
    "    \"C\": [1.5, 2.0, 2.5, 3, 3.5],\n",
    "    \"kernel\": [\"sigmoid\"],\n",
    "    \"gamma\": [\"auto\"],\n",
    "    \"coef0\": [0.0, 0.1, 0.5, 1.0, 1.5, 2.0, 2.5],\n",
    "    \"tol\": [1e-2, 1e-3, 1e-4, 1e-5]\n",
    "}"
   ]
  },
  {
   "cell_type": "code",
   "execution_count": 27,
   "metadata": {},
   "outputs": [
    {
     "name": "stdout",
     "output_type": "stream",
     "text": [
      "Buscando com os parametros {'C': [1.5, 2.0, 2.5, 3, 3.5], 'kernel': ['poly'], 'degree': [3, 4, 5, 6, 7, 8], 'gamma': ['auto'], 'coef0': [0.0, 0.1, 0.5, 1.0, 1.5, 2.0, 2.5], 'tol': [0.01, 0.001, 0.0001, 1e-05]}\n",
      "Melhores parâmetros: {'C': 1.5, 'coef0': 1.5, 'degree': 4, 'gamma': 'auto', 'kernel': 'poly', 'tol': 0.01}\n",
      "Melhor f1: 0.8358733031674209\n",
      "              precision    recall  f1-score   support\n",
      "\n",
      "           0       0.99      0.84      0.91      2637\n",
      "           1       0.14      0.78      0.24        91\n",
      "\n",
      "    accuracy                           0.83      2728\n",
      "   macro avg       0.57      0.81      0.57      2728\n",
      "weighted avg       0.96      0.83      0.88      2728\n",
      "\n",
      "Buscando com os parametros {'C': [1.5, 2.0, 2.5, 3, 3.5], 'kernel': ['rbf'], 'gamma': ['auto'], 'tol': [0.01, 0.001, 0.0001, 1e-05]}\n",
      "Melhores parâmetros: {'C': 2.0, 'gamma': 'auto', 'kernel': 'rbf', 'tol': 0.01}\n",
      "Melhor f1: 0.8453921771901793\n",
      "              precision    recall  f1-score   support\n",
      "\n",
      "           0       1.00      0.80      0.89      2637\n",
      "           1       0.14      0.89      0.24        91\n",
      "\n",
      "    accuracy                           0.81      2728\n",
      "   macro avg       0.57      0.85      0.56      2728\n",
      "weighted avg       0.97      0.81      0.87      2728\n",
      "\n",
      "Buscando com os parametros {'C': [1.5, 2.0, 2.5, 3, 3.5], 'kernel': ['sigmoid'], 'gamma': ['auto'], 'coef0': [0.0, 0.1, 0.5, 1.0, 1.5, 2.0, 2.5], 'tol': [0.01, 0.001, 0.0001, 1e-05]}\n",
      "Melhores parâmetros: {'C': 1.5, 'coef0': 1.0, 'gamma': 'auto', 'kernel': 'sigmoid', 'tol': 0.01}\n",
      "Melhor f1: 0.8367986503722549\n",
      "              precision    recall  f1-score   support\n",
      "\n",
      "           0       1.00      0.74      0.85      2637\n",
      "           1       0.11      0.90      0.19        91\n",
      "\n",
      "    accuracy                           0.74      2728\n",
      "   macro avg       0.55      0.82      0.52      2728\n",
      "weighted avg       0.97      0.74      0.82      2728\n",
      "\n"
     ]
    }
   ],
   "source": [
    "bests = SVMSearch(\n",
    "    [\n",
    "        svm_poly_,\n",
    "        svm_rbf_,\n",
    "        svm_sigmoid_\n",
    "    ],\n",
    "    X_train, X_test, y_train, y_test\n",
    ")"
   ]
  },
  {
   "cell_type": "markdown",
   "metadata": {},
   "source": [
    "O melhor modelo foi com os parâmetros {'C': 1.5, 'coef0': 1.5, 'degree': 4, 'gamma': 'auto', 'kernel': 'poly', 'tol': 0.01} com f1 (macro) = 0.57"
   ]
  }
 ],
 "metadata": {
  "kernelspec": {
   "display_name": ".venv",
   "language": "python",
   "name": "python3"
  },
  "language_info": {
   "codemirror_mode": {
    "name": "ipython",
    "version": 3
   },
   "file_extension": ".py",
   "mimetype": "text/x-python",
   "name": "python",
   "nbconvert_exporter": "python",
   "pygments_lexer": "ipython3",
   "version": "3.10.11"
  }
 },
 "nbformat": 4,
 "nbformat_minor": 2
}
