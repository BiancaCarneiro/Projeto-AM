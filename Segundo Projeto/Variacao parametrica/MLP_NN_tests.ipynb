{
  "nbformat": 4,
  "nbformat_minor": 0,
  "metadata": {
    "colab": {
      "provenance": []
    },
    "kernelspec": {
      "name": "python3",
      "display_name": "Python 3"
    },
    "language_info": {
      "name": "python"
    }
  },
  "cells": [
    {
      "cell_type": "markdown",
      "source": [
        "# Datasets"
      ],
      "metadata": {
        "id": "qPejp4ZAs73O"
      }
    },
    {
      "cell_type": "code",
      "execution_count": null,
      "metadata": {
        "colab": {
          "base_uri": "https://localhost:8080/"
        },
        "id": "Hg_vDHdUoeBh",
        "outputId": "fa420929-abca-448b-b51e-15e595c90bf9"
      },
      "outputs": [
        {
          "output_type": "stream",
          "name": "stdout",
          "text": [
            "Mounted at /content/drive\n"
          ]
        }
      ],
      "source": [
        "from google.colab import drive\n",
        "drive.mount('/content/drive')"
      ]
    },
    {
      "cell_type": "markdown",
      "source": [
        "Teste planejados:\n",
        "  1. Teste com diferentes dataset (Somente normalizado, Nomalizado e oversampling e normalizado e under sampling)\n",
        "  2. Teste de hiperparametros\n",
        "\n",
        "Qual vai ser a metodologia? Primeiro vou testar os 3 datasets com a condições default para ter a baseline e depois vou testar os 3 com os melhores parametros achados pelo RandomizedSearch 2 vezes (2 vezes buscando os melhores resultados)"
      ],
      "metadata": {
        "id": "cVPUwyfkpp35"
      }
    },
    {
      "cell_type": "code",
      "source": [
        "import pandas as pd"
      ],
      "metadata": {
        "id": "oWOpQcYMqNgP"
      },
      "execution_count": null,
      "outputs": []
    },
    {
      "cell_type": "code",
      "source": [
        "df_norm = pd.read_csv('drive/MyDrive/Aprendizagem de máquina/Segundo Projeto/datasets/data_normalizada.csv')\n",
        "df_norm.info()"
      ],
      "metadata": {
        "id": "gbruM13rpLCM",
        "colab": {
          "base_uri": "https://localhost:8080/"
        },
        "outputId": "572c01f5-9d29-448e-b50c-b35b53ac5bd9"
      },
      "execution_count": null,
      "outputs": [
        {
          "output_type": "stream",
          "name": "stdout",
          "text": [
            "<class 'pandas.core.frame.DataFrame'>\n",
            "RangeIndex: 6819 entries, 0 to 6818\n",
            "Data columns (total 94 columns):\n",
            " #   Column                                                   Non-Null Count  Dtype  \n",
            "---  ------                                                   --------------  -----  \n",
            " 0   Bankrupt?                                                6819 non-null   int64  \n",
            " 1   ROA(C) before interest and depreciation before interest  6819 non-null   float64\n",
            " 2   ROA(A) before interest and % after tax                   6819 non-null   float64\n",
            " 3   ROA(B) before interest and depreciation after tax        6819 non-null   float64\n",
            " 4   Operating Gross Margin                                   6819 non-null   float64\n",
            " 5   Realized Sales Gross Margin                              6819 non-null   float64\n",
            " 6   Operating Profit Rate                                    6819 non-null   float64\n",
            " 7   Pre-tax net Interest Rate                                6819 non-null   float64\n",
            " 8   After-tax net Interest Rate                              6819 non-null   float64\n",
            " 9   Non-industry income and expenditure/revenue              6819 non-null   float64\n",
            " 10  Continuous interest rate (after tax)                     6819 non-null   float64\n",
            " 11  Operating Expense Rate                                   6819 non-null   float64\n",
            " 12  Research and development expense rate                    6819 non-null   float64\n",
            " 13  Cash flow rate                                           6819 non-null   float64\n",
            " 14  Interest-bearing debt interest rate                      6819 non-null   float64\n",
            " 15  Tax rate (A)                                             6819 non-null   float64\n",
            " 16  Net Value Per Share (B)                                  6819 non-null   float64\n",
            " 17  Net Value Per Share (A)                                  6819 non-null   float64\n",
            " 18  Net Value Per Share (C)                                  6819 non-null   float64\n",
            " 19  Persistent EPS in the Last Four Seasons                  6819 non-null   float64\n",
            " 20  Cash Flow Per Share                                      6819 non-null   float64\n",
            " 21  Revenue Per Share (Yuan ¥)                               6819 non-null   float64\n",
            " 22  Operating Profit Per Share (Yuan ¥)                      6819 non-null   float64\n",
            " 23  Per Share Net profit before tax (Yuan ¥)                 6819 non-null   float64\n",
            " 24  Realized Sales Gross Profit Growth Rate                  6819 non-null   float64\n",
            " 25  Operating Profit Growth Rate                             6819 non-null   float64\n",
            " 26  After-tax Net Profit Growth Rate                         6819 non-null   float64\n",
            " 27  Regular Net Profit Growth Rate                           6819 non-null   float64\n",
            " 28  Continuous Net Profit Growth Rate                        6819 non-null   float64\n",
            " 29  Total Asset Growth Rate                                  6819 non-null   float64\n",
            " 30  Net Value Growth Rate                                    6819 non-null   float64\n",
            " 31  Total Asset Return Growth Rate Ratio                     6819 non-null   float64\n",
            " 32  Cash Reinvestment %                                      6819 non-null   float64\n",
            " 33  Current Ratio                                            6819 non-null   float64\n",
            " 34  Quick Ratio                                              6819 non-null   float64\n",
            " 35  Interest Expense Ratio                                   6819 non-null   float64\n",
            " 36  Total debt/Total net worth                               6819 non-null   float64\n",
            " 37  Debt ratio %                                             6819 non-null   float64\n",
            " 38  Net worth/Assets                                         6819 non-null   float64\n",
            " 39  Long-term fund suitability ratio (A)                     6819 non-null   float64\n",
            " 40  Borrowing dependency                                     6819 non-null   float64\n",
            " 41  Contingent liabilities/Net worth                         6819 non-null   float64\n",
            " 42  Operating profit/Paid-in capital                         6819 non-null   float64\n",
            " 43  Net profit before tax/Paid-in capital                    6819 non-null   float64\n",
            " 44  Inventory and accounts receivable/Net value              6819 non-null   float64\n",
            " 45  Total Asset Turnover                                     6819 non-null   float64\n",
            " 46  Accounts Receivable Turnover                             6819 non-null   float64\n",
            " 47  Average Collection Days                                  6819 non-null   float64\n",
            " 48  Inventory Turnover Rate (times)                          6819 non-null   float64\n",
            " 49  Fixed Assets Turnover Frequency                          6819 non-null   float64\n",
            " 50  Net Worth Turnover Rate (times)                          6819 non-null   float64\n",
            " 51  Revenue per person                                       6819 non-null   float64\n",
            " 52  Operating profit per person                              6819 non-null   float64\n",
            " 53  Allocation rate per person                               6819 non-null   float64\n",
            " 54  Working Capital to Total Assets                          6819 non-null   float64\n",
            " 55  Quick Assets/Total Assets                                6819 non-null   float64\n",
            " 56  Current Assets/Total Assets                              6819 non-null   float64\n",
            " 57  Cash/Total Assets                                        6819 non-null   float64\n",
            " 58  Quick Assets/Current Liability                           6819 non-null   float64\n",
            " 59  Cash/Current Liability                                   6819 non-null   float64\n",
            " 60  Current Liability to Assets                              6819 non-null   float64\n",
            " 61  Operating Funds to Liability                             6819 non-null   float64\n",
            " 62  Inventory/Working Capital                                6819 non-null   float64\n",
            " 63  Inventory/Current Liability                              6819 non-null   float64\n",
            " 64  Current Liabilities/Liability                            6819 non-null   float64\n",
            " 65  Working Capital/Equity                                   6819 non-null   float64\n",
            " 66  Current Liabilities/Equity                               6819 non-null   float64\n",
            " 67  Long-term Liability to Current Assets                    6819 non-null   float64\n",
            " 68  Retained Earnings to Total Assets                        6819 non-null   float64\n",
            " 69  Total income/Total expense                               6819 non-null   float64\n",
            " 70  Total expense/Assets                                     6819 non-null   float64\n",
            " 71  Current Asset Turnover Rate                              6819 non-null   float64\n",
            " 72  Quick Asset Turnover Rate                                6819 non-null   float64\n",
            " 73  Working capitcal Turnover Rate                           6819 non-null   float64\n",
            " 74  Cash Turnover Rate                                       6819 non-null   float64\n",
            " 75  Cash Flow to Sales                                       6819 non-null   float64\n",
            " 76  Fixed Assets to Assets                                   6819 non-null   float64\n",
            " 77  Current Liability to Liability                           6819 non-null   float64\n",
            " 78  Current Liability to Equity                              6819 non-null   float64\n",
            " 79  Equity to Long-term Liability                            6819 non-null   float64\n",
            " 80  Cash Flow to Total Assets                                6819 non-null   float64\n",
            " 81  Cash Flow to Liability                                   6819 non-null   float64\n",
            " 82  CFO to Assets                                            6819 non-null   float64\n",
            " 83  Cash Flow to Equity                                      6819 non-null   float64\n",
            " 84  Current Liability to Current Assets                      6819 non-null   float64\n",
            " 85  Net Income to Total Assets                               6819 non-null   float64\n",
            " 86  Total assets to GNP price                                6819 non-null   float64\n",
            " 87  No-credit Interval                                       6819 non-null   float64\n",
            " 88  Gross Profit to Sales                                    6819 non-null   float64\n",
            " 89  Net Income to Stockholder's Equity                       6819 non-null   float64\n",
            " 90  Liability to Equity                                      6819 non-null   float64\n",
            " 91  Degree of Financial Leverage (DFL)                       6819 non-null   float64\n",
            " 92  Interest Coverage Ratio (Interest expense to EBIT)       6819 non-null   float64\n",
            " 93  Equity to Liability                                      6819 non-null   float64\n",
            "dtypes: float64(93), int64(1)\n",
            "memory usage: 4.9 MB\n"
          ]
        }
      ]
    },
    {
      "cell_type": "code",
      "source": [
        "df_over = pd.read_csv('drive/MyDrive/Aprendizagem de máquina/Segundo Projeto/datasets/data_smote.csv')\n",
        "df_over.info()"
      ],
      "metadata": {
        "id": "0hEqNpn7q41A",
        "colab": {
          "base_uri": "https://localhost:8080/"
        },
        "outputId": "e78fa7d6-b2d0-4388-af4f-6209a951f1f5"
      },
      "execution_count": null,
      "outputs": [
        {
          "output_type": "stream",
          "name": "stdout",
          "text": [
            "<class 'pandas.core.frame.DataFrame'>\n",
            "RangeIndex: 13198 entries, 0 to 13197\n",
            "Data columns (total 94 columns):\n",
            " #   Column                                                   Non-Null Count  Dtype  \n",
            "---  ------                                                   --------------  -----  \n",
            " 0   Bankrupt?                                                13198 non-null  int64  \n",
            " 1   ROA(C) before interest and depreciation before interest  13198 non-null  float64\n",
            " 2   ROA(A) before interest and % after tax                   13198 non-null  float64\n",
            " 3   ROA(B) before interest and depreciation after tax        13198 non-null  float64\n",
            " 4   Operating Gross Margin                                   13198 non-null  float64\n",
            " 5   Realized Sales Gross Margin                              13198 non-null  float64\n",
            " 6   Operating Profit Rate                                    13198 non-null  float64\n",
            " 7   Pre-tax net Interest Rate                                13198 non-null  float64\n",
            " 8   After-tax net Interest Rate                              13198 non-null  float64\n",
            " 9   Non-industry income and expenditure/revenue              13198 non-null  float64\n",
            " 10  Continuous interest rate (after tax)                     13198 non-null  float64\n",
            " 11  Operating Expense Rate                                   13198 non-null  float64\n",
            " 12  Research and development expense rate                    13198 non-null  float64\n",
            " 13  Cash flow rate                                           13198 non-null  float64\n",
            " 14  Interest-bearing debt interest rate                      13198 non-null  float64\n",
            " 15  Tax rate (A)                                             13198 non-null  float64\n",
            " 16  Net Value Per Share (B)                                  13198 non-null  float64\n",
            " 17  Net Value Per Share (A)                                  13198 non-null  float64\n",
            " 18  Net Value Per Share (C)                                  13198 non-null  float64\n",
            " 19  Persistent EPS in the Last Four Seasons                  13198 non-null  float64\n",
            " 20  Cash Flow Per Share                                      13198 non-null  float64\n",
            " 21  Revenue Per Share (Yuan ¥)                               13198 non-null  float64\n",
            " 22  Operating Profit Per Share (Yuan ¥)                      13198 non-null  float64\n",
            " 23  Per Share Net profit before tax (Yuan ¥)                 13198 non-null  float64\n",
            " 24  Realized Sales Gross Profit Growth Rate                  13198 non-null  float64\n",
            " 25  Operating Profit Growth Rate                             13198 non-null  float64\n",
            " 26  After-tax Net Profit Growth Rate                         13198 non-null  float64\n",
            " 27  Regular Net Profit Growth Rate                           13198 non-null  float64\n",
            " 28  Continuous Net Profit Growth Rate                        13198 non-null  float64\n",
            " 29  Total Asset Growth Rate                                  13198 non-null  float64\n",
            " 30  Net Value Growth Rate                                    13198 non-null  float64\n",
            " 31  Total Asset Return Growth Rate Ratio                     13198 non-null  float64\n",
            " 32  Cash Reinvestment %                                      13198 non-null  float64\n",
            " 33  Current Ratio                                            13198 non-null  float64\n",
            " 34  Quick Ratio                                              13198 non-null  float64\n",
            " 35  Interest Expense Ratio                                   13198 non-null  float64\n",
            " 36  Total debt/Total net worth                               13198 non-null  float64\n",
            " 37  Debt ratio %                                             13198 non-null  float64\n",
            " 38  Net worth/Assets                                         13198 non-null  float64\n",
            " 39  Long-term fund suitability ratio (A)                     13198 non-null  float64\n",
            " 40  Borrowing dependency                                     13198 non-null  float64\n",
            " 41  Contingent liabilities/Net worth                         13198 non-null  float64\n",
            " 42  Operating profit/Paid-in capital                         13198 non-null  float64\n",
            " 43  Net profit before tax/Paid-in capital                    13198 non-null  float64\n",
            " 44  Inventory and accounts receivable/Net value              13198 non-null  float64\n",
            " 45  Total Asset Turnover                                     13198 non-null  float64\n",
            " 46  Accounts Receivable Turnover                             13198 non-null  float64\n",
            " 47  Average Collection Days                                  13198 non-null  float64\n",
            " 48  Inventory Turnover Rate (times)                          13198 non-null  float64\n",
            " 49  Fixed Assets Turnover Frequency                          13198 non-null  float64\n",
            " 50  Net Worth Turnover Rate (times)                          13198 non-null  float64\n",
            " 51  Revenue per person                                       13198 non-null  float64\n",
            " 52  Operating profit per person                              13198 non-null  float64\n",
            " 53  Allocation rate per person                               13198 non-null  float64\n",
            " 54  Working Capital to Total Assets                          13198 non-null  float64\n",
            " 55  Quick Assets/Total Assets                                13198 non-null  float64\n",
            " 56  Current Assets/Total Assets                              13198 non-null  float64\n",
            " 57  Cash/Total Assets                                        13198 non-null  float64\n",
            " 58  Quick Assets/Current Liability                           13198 non-null  float64\n",
            " 59  Cash/Current Liability                                   13198 non-null  float64\n",
            " 60  Current Liability to Assets                              13198 non-null  float64\n",
            " 61  Operating Funds to Liability                             13198 non-null  float64\n",
            " 62  Inventory/Working Capital                                13198 non-null  float64\n",
            " 63  Inventory/Current Liability                              13198 non-null  float64\n",
            " 64  Current Liabilities/Liability                            13198 non-null  float64\n",
            " 65  Working Capital/Equity                                   13198 non-null  float64\n",
            " 66  Current Liabilities/Equity                               13198 non-null  float64\n",
            " 67  Long-term Liability to Current Assets                    13198 non-null  float64\n",
            " 68  Retained Earnings to Total Assets                        13198 non-null  float64\n",
            " 69  Total income/Total expense                               13198 non-null  float64\n",
            " 70  Total expense/Assets                                     13198 non-null  float64\n",
            " 71  Current Asset Turnover Rate                              13198 non-null  float64\n",
            " 72  Quick Asset Turnover Rate                                13198 non-null  float64\n",
            " 73  Working capitcal Turnover Rate                           13198 non-null  float64\n",
            " 74  Cash Turnover Rate                                       13198 non-null  float64\n",
            " 75  Cash Flow to Sales                                       13198 non-null  float64\n",
            " 76  Fixed Assets to Assets                                   13198 non-null  float64\n",
            " 77  Current Liability to Liability                           13198 non-null  float64\n",
            " 78  Current Liability to Equity                              13198 non-null  float64\n",
            " 79  Equity to Long-term Liability                            13198 non-null  float64\n",
            " 80  Cash Flow to Total Assets                                13198 non-null  float64\n",
            " 81  Cash Flow to Liability                                   13198 non-null  float64\n",
            " 82  CFO to Assets                                            13198 non-null  float64\n",
            " 83  Cash Flow to Equity                                      13198 non-null  float64\n",
            " 84  Current Liability to Current Assets                      13198 non-null  float64\n",
            " 85  Net Income to Total Assets                               13198 non-null  float64\n",
            " 86  Total assets to GNP price                                13198 non-null  float64\n",
            " 87  No-credit Interval                                       13198 non-null  float64\n",
            " 88  Gross Profit to Sales                                    13198 non-null  float64\n",
            " 89  Net Income to Stockholder's Equity                       13198 non-null  float64\n",
            " 90  Liability to Equity                                      13198 non-null  float64\n",
            " 91  Degree of Financial Leverage (DFL)                       13198 non-null  float64\n",
            " 92  Interest Coverage Ratio (Interest expense to EBIT)       13198 non-null  float64\n",
            " 93  Equity to Liability                                      13198 non-null  float64\n",
            "dtypes: float64(93), int64(1)\n",
            "memory usage: 9.5 MB\n"
          ]
        }
      ]
    },
    {
      "cell_type": "code",
      "source": [
        "df_under = pd.read_csv('drive/MyDrive/Aprendizagem de máquina/Segundo Projeto/datasets/data_under.csv')\n",
        "df_under.info()"
      ],
      "metadata": {
        "id": "2kX3niIEq12W",
        "colab": {
          "base_uri": "https://localhost:8080/"
        },
        "outputId": "4e5997e9-8a44-4c65-de91-7a6b240e1225"
      },
      "execution_count": null,
      "outputs": [
        {
          "output_type": "stream",
          "name": "stdout",
          "text": [
            "<class 'pandas.core.frame.DataFrame'>\n",
            "RangeIndex: 440 entries, 0 to 439\n",
            "Data columns (total 94 columns):\n",
            " #   Column                                                   Non-Null Count  Dtype  \n",
            "---  ------                                                   --------------  -----  \n",
            " 0   Bankrupt?                                                440 non-null    int64  \n",
            " 1   ROA(C) before interest and depreciation before interest  440 non-null    float64\n",
            " 2   ROA(A) before interest and % after tax                   440 non-null    float64\n",
            " 3   ROA(B) before interest and depreciation after tax        440 non-null    float64\n",
            " 4   Operating Gross Margin                                   440 non-null    float64\n",
            " 5   Realized Sales Gross Margin                              440 non-null    float64\n",
            " 6   Operating Profit Rate                                    440 non-null    float64\n",
            " 7   Pre-tax net Interest Rate                                440 non-null    float64\n",
            " 8   After-tax net Interest Rate                              440 non-null    float64\n",
            " 9   Non-industry income and expenditure/revenue              440 non-null    float64\n",
            " 10  Continuous interest rate (after tax)                     440 non-null    float64\n",
            " 11  Operating Expense Rate                                   440 non-null    float64\n",
            " 12  Research and development expense rate                    440 non-null    float64\n",
            " 13  Cash flow rate                                           440 non-null    float64\n",
            " 14  Interest-bearing debt interest rate                      440 non-null    float64\n",
            " 15  Tax rate (A)                                             440 non-null    float64\n",
            " 16  Net Value Per Share (B)                                  440 non-null    float64\n",
            " 17  Net Value Per Share (A)                                  440 non-null    float64\n",
            " 18  Net Value Per Share (C)                                  440 non-null    float64\n",
            " 19  Persistent EPS in the Last Four Seasons                  440 non-null    float64\n",
            " 20  Cash Flow Per Share                                      440 non-null    float64\n",
            " 21  Revenue Per Share (Yuan ¥)                               440 non-null    float64\n",
            " 22  Operating Profit Per Share (Yuan ¥)                      440 non-null    float64\n",
            " 23  Per Share Net profit before tax (Yuan ¥)                 440 non-null    float64\n",
            " 24  Realized Sales Gross Profit Growth Rate                  440 non-null    float64\n",
            " 25  Operating Profit Growth Rate                             440 non-null    float64\n",
            " 26  After-tax Net Profit Growth Rate                         440 non-null    float64\n",
            " 27  Regular Net Profit Growth Rate                           440 non-null    float64\n",
            " 28  Continuous Net Profit Growth Rate                        440 non-null    float64\n",
            " 29  Total Asset Growth Rate                                  440 non-null    float64\n",
            " 30  Net Value Growth Rate                                    440 non-null    float64\n",
            " 31  Total Asset Return Growth Rate Ratio                     440 non-null    float64\n",
            " 32  Cash Reinvestment %                                      440 non-null    float64\n",
            " 33  Current Ratio                                            440 non-null    float64\n",
            " 34  Quick Ratio                                              440 non-null    float64\n",
            " 35  Interest Expense Ratio                                   440 non-null    float64\n",
            " 36  Total debt/Total net worth                               440 non-null    float64\n",
            " 37  Debt ratio %                                             440 non-null    float64\n",
            " 38  Net worth/Assets                                         440 non-null    float64\n",
            " 39  Long-term fund suitability ratio (A)                     440 non-null    float64\n",
            " 40  Borrowing dependency                                     440 non-null    float64\n",
            " 41  Contingent liabilities/Net worth                         440 non-null    float64\n",
            " 42  Operating profit/Paid-in capital                         440 non-null    float64\n",
            " 43  Net profit before tax/Paid-in capital                    440 non-null    float64\n",
            " 44  Inventory and accounts receivable/Net value              440 non-null    float64\n",
            " 45  Total Asset Turnover                                     440 non-null    float64\n",
            " 46  Accounts Receivable Turnover                             440 non-null    float64\n",
            " 47  Average Collection Days                                  440 non-null    float64\n",
            " 48  Inventory Turnover Rate (times)                          440 non-null    float64\n",
            " 49  Fixed Assets Turnover Frequency                          440 non-null    float64\n",
            " 50  Net Worth Turnover Rate (times)                          440 non-null    float64\n",
            " 51  Revenue per person                                       440 non-null    float64\n",
            " 52  Operating profit per person                              440 non-null    float64\n",
            " 53  Allocation rate per person                               440 non-null    float64\n",
            " 54  Working Capital to Total Assets                          440 non-null    float64\n",
            " 55  Quick Assets/Total Assets                                440 non-null    float64\n",
            " 56  Current Assets/Total Assets                              440 non-null    float64\n",
            " 57  Cash/Total Assets                                        440 non-null    float64\n",
            " 58  Quick Assets/Current Liability                           440 non-null    float64\n",
            " 59  Cash/Current Liability                                   440 non-null    float64\n",
            " 60  Current Liability to Assets                              440 non-null    float64\n",
            " 61  Operating Funds to Liability                             440 non-null    float64\n",
            " 62  Inventory/Working Capital                                440 non-null    float64\n",
            " 63  Inventory/Current Liability                              440 non-null    float64\n",
            " 64  Current Liabilities/Liability                            440 non-null    float64\n",
            " 65  Working Capital/Equity                                   440 non-null    float64\n",
            " 66  Current Liabilities/Equity                               440 non-null    float64\n",
            " 67  Long-term Liability to Current Assets                    440 non-null    float64\n",
            " 68  Retained Earnings to Total Assets                        440 non-null    float64\n",
            " 69  Total income/Total expense                               440 non-null    float64\n",
            " 70  Total expense/Assets                                     440 non-null    float64\n",
            " 71  Current Asset Turnover Rate                              440 non-null    float64\n",
            " 72  Quick Asset Turnover Rate                                440 non-null    float64\n",
            " 73  Working capitcal Turnover Rate                           440 non-null    float64\n",
            " 74  Cash Turnover Rate                                       440 non-null    float64\n",
            " 75  Cash Flow to Sales                                       440 non-null    float64\n",
            " 76  Fixed Assets to Assets                                   440 non-null    float64\n",
            " 77  Current Liability to Liability                           440 non-null    float64\n",
            " 78  Current Liability to Equity                              440 non-null    float64\n",
            " 79  Equity to Long-term Liability                            440 non-null    float64\n",
            " 80  Cash Flow to Total Assets                                440 non-null    float64\n",
            " 81  Cash Flow to Liability                                   440 non-null    float64\n",
            " 82  CFO to Assets                                            440 non-null    float64\n",
            " 83  Cash Flow to Equity                                      440 non-null    float64\n",
            " 84  Current Liability to Current Assets                      440 non-null    float64\n",
            " 85  Net Income to Total Assets                               440 non-null    float64\n",
            " 86  Total assets to GNP price                                440 non-null    float64\n",
            " 87  No-credit Interval                                       440 non-null    float64\n",
            " 88  Gross Profit to Sales                                    440 non-null    float64\n",
            " 89  Net Income to Stockholder's Equity                       440 non-null    float64\n",
            " 90  Liability to Equity                                      440 non-null    float64\n",
            " 91  Degree of Financial Leverage (DFL)                       440 non-null    float64\n",
            " 92  Interest Coverage Ratio (Interest expense to EBIT)       440 non-null    float64\n",
            " 93  Equity to Liability                                      440 non-null    float64\n",
            "dtypes: float64(93), int64(1)\n",
            "memory usage: 323.2 KB\n"
          ]
        }
      ]
    },
    {
      "cell_type": "markdown",
      "source": [
        "Dividindo entre treino e teste"
      ],
      "metadata": {
        "id": "iAY7-C8Br74w"
      }
    },
    {
      "cell_type": "markdown",
      "source": [
        "# Baselines"
      ],
      "metadata": {
        "id": "VAKRs9qos4w9"
      }
    },
    {
      "cell_type": "code",
      "source": [
        "from sklearn.neighbors import KNeighborsClassifier\n",
        "from sklearn.neural_network import MLPClassifier\n",
        "from sklearn.metrics import classification_report\n",
        "from sklearn.ensemble import VotingClassifier\n",
        "from sklearn.model_selection import train_test_split\n",
        "\n",
        "def resultados(nome = ''):\n",
        "  dataset_atual = []\n",
        "  if nome == '':\n",
        "    dataset_atual = df_norm\n",
        "  elif nome == 'over':\n",
        "    dataset_atual = df_over\n",
        "  elif nome == 'under':\n",
        "    dataset_atual = df_under\n",
        "\n",
        "  y = dataset_atual['Bankrupt?']\n",
        "\n",
        "  # Removendo a coluna alvo do DataFrame original para obter apenas as features\n",
        "  X = dataset_atual.drop(columns=['Bankrupt?'])\n",
        "\n",
        "  # Dividindo os dados em conjuntos de treinamento e teste\n",
        "  X_train, X_test, y_train, y_test = train_test_split(X, y, test_size=0.2, random_state=42)\n",
        "\n",
        "  #KNN\n",
        "  knn_classifier = KNeighborsClassifier()\n",
        "  knn_classifier.fit(X_train, y_train)\n",
        "\n",
        "  # MLP\n",
        "  mlp_classifier = MLPClassifier()\n",
        "  mlp_classifier.fit(X_train, y_train)\n",
        "\n",
        "  # KNN\n",
        "  y_pred_knn = knn_classifier.predict(X_test)\n",
        "\n",
        "  # MLP\n",
        "  y_pred_mlp = mlp_classifier.predict(X_test)\n",
        "\n",
        "  # Comitê de Redes Neurais\n",
        "  model1 = MLPClassifier(hidden_layer_sizes=(100, 50), max_iter=1000)\n",
        "  model2 = MLPClassifier(hidden_layer_sizes=(50, 20), max_iter=1000)\n",
        "  model3 = MLPClassifier(hidden_layer_sizes=(80, 30), max_iter=1000)\n",
        "\n",
        "  # O Voting Classifier funciona com um simples voto de maioria\n",
        "  committee = VotingClassifier(estimators=[('mlp1', model1), ('mlp2', model2), ('mlp3', model3)], voting='hard')\n",
        "  committee.fit(X_train, y_train)\n",
        "  y_pred_com = committee.predict(X_test)\n",
        "\n",
        "  # Avaliação do KNN\n",
        "  print(f\"Relatório de Classificação para KNN {nome}:\")\n",
        "  print(classification_report(y_test, y_pred_knn))\n",
        "\n",
        "  print('')\n",
        "  # Avaliação do MLP\n",
        "  print(f\"Relatório de Classificação para MLP {nome}:\")\n",
        "  print(classification_report(y_test, y_pred_mlp))\n",
        "\n",
        "  print('')\n",
        "  # Avaliação do comitê de Redes Neurais\n",
        "  print(f\"Relatório de Classificação para Comitê de NN {nome}:\")\n",
        "  print(classification_report(y_test, y_pred_com))"
      ],
      "metadata": {
        "id": "aEN6v9BCvt85"
      },
      "execution_count": null,
      "outputs": []
    },
    {
      "cell_type": "markdown",
      "source": [
        "## Dataset normalizado"
      ],
      "metadata": {
        "id": "S46Hz7EJte8E"
      }
    },
    {
      "cell_type": "markdown",
      "source": [
        "Usando os modelos nas condições default"
      ],
      "metadata": {
        "id": "FrBJIhjBsqim"
      }
    },
    {
      "cell_type": "code",
      "source": [
        "resultados()"
      ],
      "metadata": {
        "colab": {
          "base_uri": "https://localhost:8080/"
        },
        "id": "8PkhBcnzw8Hr",
        "outputId": "c802fb14-bbcf-4533-c157-2366f01e2e04"
      },
      "execution_count": null,
      "outputs": [
        {
          "output_type": "stream",
          "name": "stderr",
          "text": [
            "/usr/local/lib/python3.10/dist-packages/sklearn/neural_network/_multilayer_perceptron.py:686: ConvergenceWarning: Stochastic Optimizer: Maximum iterations (200) reached and the optimization hasn't converged yet.\n",
            "  warnings.warn(\n"
          ]
        },
        {
          "output_type": "stream",
          "name": "stdout",
          "text": [
            "Relatório de Classificação para KNN :\n",
            "              precision    recall  f1-score   support\n",
            "\n",
            "           0       0.97      1.00      0.98      1313\n",
            "           1       0.55      0.12      0.19        51\n",
            "\n",
            "    accuracy                           0.96      1364\n",
            "   macro avg       0.76      0.56      0.59      1364\n",
            "weighted avg       0.95      0.96      0.95      1364\n",
            "\n",
            "\n",
            "Relatório de Classificação para MLP :\n",
            "              precision    recall  f1-score   support\n",
            "\n",
            "           0       0.97      0.98      0.98      1313\n",
            "           1       0.36      0.27      0.31        51\n",
            "\n",
            "    accuracy                           0.95      1364\n",
            "   macro avg       0.67      0.63      0.64      1364\n",
            "weighted avg       0.95      0.95      0.95      1364\n",
            "\n",
            "\n",
            "Relatório de Classificação para Comitê de NN :\n",
            "              precision    recall  f1-score   support\n",
            "\n",
            "           0       0.97      0.99      0.98      1313\n",
            "           1       0.38      0.22      0.28        51\n",
            "\n",
            "    accuracy                           0.96      1364\n",
            "   macro avg       0.67      0.60      0.63      1364\n",
            "weighted avg       0.95      0.96      0.95      1364\n",
            "\n"
          ]
        }
      ]
    },
    {
      "cell_type": "markdown",
      "source": [
        "Dá pra notar que a classe 1 não está sendo muito bem reconhecida!"
      ],
      "metadata": {
        "id": "x8FPc6CAtZdv"
      }
    },
    {
      "cell_type": "markdown",
      "source": [
        "## Dataset Over Sampling"
      ],
      "metadata": {
        "id": "DbhtTGp-tiRA"
      }
    },
    {
      "cell_type": "code",
      "source": [
        "resultados(nome=\"over\")"
      ],
      "metadata": {
        "id": "dcP3oz4AvpSp",
        "colab": {
          "base_uri": "https://localhost:8080/"
        },
        "outputId": "a494fdb0-184b-4110-8299-c65adf7f97b9"
      },
      "execution_count": null,
      "outputs": [
        {
          "output_type": "stream",
          "name": "stdout",
          "text": [
            "Relatório de Classificação para KNN over:\n",
            "              precision    recall  f1-score   support\n",
            "\n",
            "           0       1.00      0.87      0.93      1334\n",
            "           1       0.88      1.00      0.94      1306\n",
            "\n",
            "    accuracy                           0.94      2640\n",
            "   macro avg       0.94      0.94      0.94      2640\n",
            "weighted avg       0.94      0.94      0.94      2640\n",
            "\n",
            "\n",
            "Relatório de Classificação para MLP over:\n",
            "              precision    recall  f1-score   support\n",
            "\n",
            "           0       1.00      0.97      0.99      1334\n",
            "           1       0.97      1.00      0.99      1306\n",
            "\n",
            "    accuracy                           0.99      2640\n",
            "   macro avg       0.99      0.99      0.99      2640\n",
            "weighted avg       0.99      0.99      0.99      2640\n",
            "\n",
            "\n",
            "Relatório de Classificação para Comitê de NN over:\n",
            "              precision    recall  f1-score   support\n",
            "\n",
            "           0       1.00      0.98      0.99      1334\n",
            "           1       0.98      1.00      0.99      1306\n",
            "\n",
            "    accuracy                           0.99      2640\n",
            "   macro avg       0.99      0.99      0.99      2640\n",
            "weighted avg       0.99      0.99      0.99      2640\n",
            "\n"
          ]
        }
      ]
    },
    {
      "cell_type": "markdown",
      "source": [
        "Com oversampling os resultados ficaram muito mais positivos! Com o comitê sendo o melhor e o KNN sendo o pior"
      ],
      "metadata": {
        "id": "04PwqZg55_Ns"
      }
    },
    {
      "cell_type": "markdown",
      "source": [
        "## Dataset Under Sampling"
      ],
      "metadata": {
        "id": "p8gebK0NtkYN"
      }
    },
    {
      "cell_type": "code",
      "source": [
        "resultados(nome=\"under\")"
      ],
      "metadata": {
        "id": "WUf8_odDvDh_",
        "colab": {
          "base_uri": "https://localhost:8080/"
        },
        "outputId": "558a27c7-8858-4972-f0db-acf3093c5d02"
      },
      "execution_count": null,
      "outputs": [
        {
          "output_type": "stream",
          "name": "stderr",
          "text": [
            "/usr/local/lib/python3.10/dist-packages/sklearn/neural_network/_multilayer_perceptron.py:686: ConvergenceWarning: Stochastic Optimizer: Maximum iterations (200) reached and the optimization hasn't converged yet.\n",
            "  warnings.warn(\n"
          ]
        },
        {
          "output_type": "stream",
          "name": "stdout",
          "text": [
            "Relatório de Classificação para KNN under:\n",
            "              precision    recall  f1-score   support\n",
            "\n",
            "           0       0.89      0.76      0.82        51\n",
            "           1       0.73      0.86      0.79        37\n",
            "\n",
            "    accuracy                           0.81        88\n",
            "   macro avg       0.81      0.81      0.81        88\n",
            "weighted avg       0.82      0.81      0.81        88\n",
            "\n",
            "\n",
            "Relatório de Classificação para MLP under:\n",
            "              precision    recall  f1-score   support\n",
            "\n",
            "           0       0.85      0.76      0.80        51\n",
            "           1       0.71      0.81      0.76        37\n",
            "\n",
            "    accuracy                           0.78        88\n",
            "   macro avg       0.78      0.79      0.78        88\n",
            "weighted avg       0.79      0.78      0.79        88\n",
            "\n",
            "\n",
            "Relatório de Classificação para Comitê de NN under:\n",
            "              precision    recall  f1-score   support\n",
            "\n",
            "           0       0.83      0.75      0.78        51\n",
            "           1       0.69      0.78      0.73        37\n",
            "\n",
            "    accuracy                           0.76        88\n",
            "   macro avg       0.76      0.76      0.76        88\n",
            "weighted avg       0.77      0.76      0.76        88\n",
            "\n"
          ]
        }
      ]
    },
    {
      "cell_type": "markdown",
      "source": [
        "Os resultados ficaram mais positivos do que o dataset somente normalizado. Apesar disso, ficou um pouco pior do que o oversampling."
      ],
      "metadata": {
        "id": "KVTlcniZ6DT8"
      }
    },
    {
      "cell_type": "markdown",
      "source": [
        "# Testes de parametros"
      ],
      "metadata": {
        "id": "O6trFcpPtnA8"
      }
    },
    {
      "cell_type": "markdown",
      "source": [
        "## Definindo a 1a grade de procura para o GridSearch"
      ],
      "metadata": {
        "id": "trtpntdl7Bz7"
      }
    },
    {
      "cell_type": "code",
      "source": [
        "from sklearn.model_selection import train_test_split\n",
        "from sklearn.neighbors import KNeighborsClassifier\n",
        "from sklearn.neural_network import MLPClassifier\n",
        "from sklearn.metrics import classification_report\n",
        "from sklearn.ensemble import VotingClassifier\n",
        "parameters_com = {\n",
        "    'mlp1__hidden_layer_sizes': [(50, 20), (80, 30)],\n",
        "    'mlp2__hidden_layer_sizes': [(100, 50), (80, 30)],\n",
        "    'mlp3__hidden_layer_sizes': [(50, 20), (80, 30)]\n",
        "}\n",
        "\n",
        "parameters_mlp = {\n",
        "    'hidden_layer_sizes': [(100, 50), (50, 20), (80, 30)]\n",
        "}\n",
        "\n",
        "parameters_knn = {\n",
        "    'n_neighbors': [2, 3, 5, 7, 10],  # Número de vizinhos\n",
        "}"
      ],
      "metadata": {
        "id": "wvr5z8FntQZD"
      },
      "execution_count": null,
      "outputs": []
    },
    {
      "cell_type": "markdown",
      "source": [
        "## Comitê de NN"
      ],
      "metadata": {
        "id": "sAV22g5RI3Qr"
      }
    },
    {
      "cell_type": "code",
      "source": [
        "from sklearn.model_selection import GridSearchCV\n",
        "from sklearn.metrics import classification_report\n",
        "def busca_resultados_com(nome = '', parameters = 0):\n",
        "  dataset_atual = ''\n",
        "  hidden_layers_passada_1 = \"\"\n",
        "  hidden_layers_passada_2 = \"\"\n",
        "  hidden_layers_passada_3 = \"\"\n",
        "  if nome == '':\n",
        "    dataset_atual = df_norm\n",
        "    if parameters:\n",
        "      hidden_layers_passada_1 = (80, 30)\n",
        "      hidden_layers_passada_2 = (80, 30)\n",
        "      hidden_layers_passada_3 = (80, 30)\n",
        "  elif nome == 'over':\n",
        "    dataset_atual = df_over\n",
        "    if parameters:\n",
        "      hidden_layers_passada_1 = (80, 30)\n",
        "      hidden_layers_passada_2 = (100, 50)\n",
        "      hidden_layers_passada_3 = (80, 30)\n",
        "\n",
        "  elif nome == 'under':\n",
        "    dataset_atual = df_under\n",
        "    if parameters:\n",
        "      hidden_layers_passada_1 = (50, 20)\n",
        "      hidden_layers_passada_2 = (100, 50)\n",
        "      hidden_layers_passada_3 = (80, 30)\n",
        "\n",
        "\n",
        "  y = dataset_atual['Bankrupt?']\n",
        "\n",
        "  # Removendo a coluna alvo do DataFrame original para obter apenas as features\n",
        "  X = dataset_atual.drop(columns=['Bankrupt?'])\n",
        "\n",
        "  # Dividindo os dados em conjuntos de treinamento e teste\n",
        "  X_train, X_test, y_train, y_test = train_test_split(X, y, test_size=0.2, random_state=42)\n",
        "\n",
        "  # Comitê de Redes Neurais\n",
        "  model1 = MLPClassifier()\n",
        "  model2 = MLPClassifier()\n",
        "  model3 = MLPClassifier()\n",
        "  # Validação cruzada feita aqui também\n",
        "  parametersAtual = parameters_com\n",
        "  if parameters == 1:\n",
        "    parametersAtual = parameters_com_2\n",
        "    model1 = MLPClassifier(hidden_layer_sizes= hidden_layers_passada_1)\n",
        "    model2 = MLPClassifier(hidden_layer_sizes= hidden_layers_passada_2)\n",
        "    model3 = MLPClassifier(hidden_layer_sizes= hidden_layers_passada_3)\n",
        "\n",
        "  # O Voting Classifier funciona com um simples voto de maioria\n",
        "  committee = VotingClassifier(estimators=[('mlp1', model1), ('mlp2', model2), ('mlp3', model3)], voting='hard')\n",
        "  grid_search_com = GridSearchCV(estimator=committee, param_grid=parametersAtual, cv=3)\n",
        "\n",
        "  grid_search_com.fit(X_train, y_train)\n",
        "  # Obter os melhores parâmetros encontrados\n",
        "  best_params = grid_search_com.best_params_\n",
        "  print(\"Melhores parâmetros para o comitê de redes neurais:\", best_params)\n",
        "  print('')\n",
        "\n",
        "  best_model = grid_search_com.best_estimator_\n",
        "  y_pred = best_model.predict(X_test)\n",
        "  report = classification_report(y_test, y_pred)\n",
        "  print(\"Relatório de Classificação do melhor modelo do comitê de redes neurais:\")\n",
        "  print(report)"
      ],
      "metadata": {
        "id": "LJU9gdmhCJw-"
      },
      "execution_count": null,
      "outputs": []
    },
    {
      "cell_type": "markdown",
      "source": [
        "## MLP"
      ],
      "metadata": {
        "id": "9PGbPcweK9zV"
      }
    },
    {
      "cell_type": "code",
      "source": [
        "from sklearn.model_selection import GridSearchCV\n",
        "from sklearn.metrics import classification_report\n",
        "def busca_resultados_mlp(nome = '', parameters = 0):\n",
        "  dataset_atual = ''\n",
        "  hidden_layers_passada_1 = \"\"\n",
        "  if nome == '':\n",
        "    dataset_atual = df_norm\n",
        "    if parameters:\n",
        "      hidden_layers_passada_1 = (50, 20)\n",
        "  elif nome == 'over':\n",
        "    dataset_atual = df_over\n",
        "    if parameters:\n",
        "      hidden_layers_passada_1 = (80, 30)\n",
        "\n",
        "  elif nome == 'under':\n",
        "    dataset_atual = df_under\n",
        "    if parameters:\n",
        "      hidden_layers_passada_1 = (50, 20)\n",
        "\n",
        "  y = dataset_atual['Bankrupt?']\n",
        "\n",
        "  # Removendo a coluna alvo do DataFrame original para obter apenas as features\n",
        "  X = dataset_atual.drop(columns=['Bankrupt?'])\n",
        "\n",
        "  # Dividindo os dados em conjuntos de treinamento e teste\n",
        "  X_train, X_test, y_train, y_test = train_test_split(X, y, test_size=0.2, random_state=42)\n",
        "\n",
        "  mlp = MLPClassifier()\n",
        "  parametersAtual = parameters_mlp\n",
        "\n",
        "  if(parameters):\n",
        "    parametersAtual = parameters_mlp_2\n",
        "    mlp = MLPClassifier(hidden_layer_sizes=hidden_layers_passada_1)\n",
        "  # Criar o objeto GridSearchCV\n",
        "  grid_search = GridSearchCV(estimator=mlp, param_grid=parametersAtual, cv=3)\n",
        "\n",
        "  # Executar a busca em grade nos dados de treinamento\n",
        "  grid_search.fit(X_train, y_train)\n",
        "\n",
        "  # Obter os melhores parâmetros encontrados\n",
        "  best_params = grid_search.best_params_\n",
        "  print(\"Melhores parâmetros encontrados:\", best_params)\n",
        "\n",
        "  best_model = grid_search.best_estimator_\n",
        "  y_pred = best_model.predict(X_test)\n",
        "  report = classification_report(y_test, y_pred)\n",
        "  print(\"Relatório de Classificação do melhor modelo:\")\n",
        "  print(report)"
      ],
      "metadata": {
        "id": "6fGZm4cvI6Kw"
      },
      "execution_count": null,
      "outputs": []
    },
    {
      "cell_type": "markdown",
      "source": [
        "## KNN"
      ],
      "metadata": {
        "id": "0rQgYVxRK_Qa"
      }
    },
    {
      "cell_type": "code",
      "source": [
        "from sklearn.model_selection import GridSearchCV\n",
        "from sklearn.metrics import classification_report\n",
        "def busca_resultados_knn(nome = '', parameters = 0):\n",
        "  dataset_atual = ''\n",
        "  n_neighbors_passada = \"\"\n",
        "  if nome == '':\n",
        "    dataset_atual = df_norm\n",
        "    if parameters:\n",
        "      n_neighbors_passada = 7\n",
        "  elif nome == 'over':\n",
        "    dataset_atual = df_over\n",
        "    if parameters:\n",
        "      n_neighbors_passada = 2\n",
        "\n",
        "  elif nome == 'under':\n",
        "    dataset_atual = df_under\n",
        "    if parameters:\n",
        "      n_neighbors_passada = 10\n",
        "\n",
        "  y = dataset_atual['Bankrupt?']\n",
        "\n",
        "  # Removendo a coluna alvo do DataFrame original para obter apenas as features\n",
        "  X = dataset_atual.drop(columns=['Bankrupt?'])\n",
        "\n",
        "  # Dividindo os dados em conjuntos de treinamento e teste\n",
        "  X_train, X_test, y_train, y_test = train_test_split(X, y, test_size=0.2, random_state=42)\n",
        "\n",
        "  knn = KNeighborsClassifier()\n",
        "  parametersAtual = parameters_knn\n",
        "\n",
        "  if(parameters):\n",
        "    parametersAtual = parameters_knn_2\n",
        "    knn = KNeighborsClassifier(n_neighbors=n_neighbors_passada)\n",
        "\n",
        "  # Criar o objeto GridSearchCV\n",
        "  grid_search = GridSearchCV(estimator=knn, param_grid=parametersAtual, cv=3)\n",
        "\n",
        "  # Executar a busca em grade nos dados de treinamento\n",
        "  grid_search.fit(X_train, y_train)\n",
        "\n",
        "  # Obter os melhores parâmetros encontrados\n",
        "  best_params = grid_search.best_params_\n",
        "  print(\"Melhores parâmetros encontrados:\", best_params)\n",
        "\n",
        "  best_model = grid_search.best_estimator_\n",
        "  y_pred = best_model.predict(X_test)\n",
        "  report = classification_report(y_test, y_pred)\n",
        "  print(\"Relatório de Classificação do melhor modelo:\")\n",
        "  print(report)"
      ],
      "metadata": {
        "id": "_jYzUi2DJBMb"
      },
      "execution_count": null,
      "outputs": []
    },
    {
      "cell_type": "markdown",
      "source": [
        "## Resultados para as primeiras grades"
      ],
      "metadata": {
        "id": "HEHcoATMJN3D"
      }
    },
    {
      "cell_type": "markdown",
      "source": [
        "### Comitê de NN"
      ],
      "metadata": {
        "id": "O4RRWueJTYZx"
      }
    },
    {
      "cell_type": "code",
      "source": [
        "print(\"Base somente normalizada\")\n",
        "busca_resultados_com()\n",
        "print(\"\")\n",
        "print(\"Base com oversampling\")\n",
        "busca_resultados_com(nome=\"over\")\n",
        "print(\"\")\n",
        "print(\"Base com undersampling\")\n",
        "busca_resultados_com(nome=\"under\")"
      ],
      "metadata": {
        "colab": {
          "base_uri": "https://localhost:8080/"
        },
        "id": "bpesTe7GJRVr",
        "outputId": "2ea6a720-10bd-4eaa-bdfc-097e9a40d260"
      },
      "execution_count": null,
      "outputs": [
        {
          "output_type": "stream",
          "name": "stdout",
          "text": [
            "Base somente normalizada\n",
            "Melhores parâmetros para o comitê de redes neurais: {'mlp1__hidden_layer_sizes': (80, 30), 'mlp2__hidden_layer_sizes': (80, 30), 'mlp3__hidden_layer_sizes': (80, 30)}\n",
            "\n",
            "Relatório de Classificação do melhor modelo do comitê de redes neurais:\n",
            "              precision    recall  f1-score   support\n",
            "\n",
            "           0       0.97      0.99      0.98      1313\n",
            "           1       0.45      0.25      0.33        51\n",
            "\n",
            "    accuracy                           0.96      1364\n",
            "   macro avg       0.71      0.62      0.65      1364\n",
            "weighted avg       0.95      0.96      0.96      1364\n",
            "\n",
            "\n",
            "Base com oversampling\n",
            "Melhores parâmetros para o comitê de redes neurais: {'mlp1__hidden_layer_sizes': (80, 30), 'mlp2__hidden_layer_sizes': (100, 50), 'mlp3__hidden_layer_sizes': (80, 30)}\n",
            "\n",
            "Relatório de Classificação do melhor modelo do comitê de redes neurais:\n",
            "              precision    recall  f1-score   support\n",
            "\n",
            "           0       1.00      0.98      0.99      1334\n",
            "           1       0.98      1.00      0.99      1306\n",
            "\n",
            "    accuracy                           0.99      2640\n",
            "   macro avg       0.99      0.99      0.99      2640\n",
            "weighted avg       0.99      0.99      0.99      2640\n",
            "\n",
            "\n",
            "Base com undersampling\n"
          ]
        },
        {
          "output_type": "stream",
          "name": "stderr",
          "text": [
            "/usr/local/lib/python3.10/dist-packages/sklearn/neural_network/_multilayer_perceptron.py:686: ConvergenceWarning: Stochastic Optimizer: Maximum iterations (200) reached and the optimization hasn't converged yet.\n",
            "  warnings.warn(\n",
            "/usr/local/lib/python3.10/dist-packages/sklearn/neural_network/_multilayer_perceptron.py:686: ConvergenceWarning: Stochastic Optimizer: Maximum iterations (200) reached and the optimization hasn't converged yet.\n",
            "  warnings.warn(\n",
            "/usr/local/lib/python3.10/dist-packages/sklearn/neural_network/_multilayer_perceptron.py:686: ConvergenceWarning: Stochastic Optimizer: Maximum iterations (200) reached and the optimization hasn't converged yet.\n",
            "  warnings.warn(\n",
            "/usr/local/lib/python3.10/dist-packages/sklearn/neural_network/_multilayer_perceptron.py:686: ConvergenceWarning: Stochastic Optimizer: Maximum iterations (200) reached and the optimization hasn't converged yet.\n",
            "  warnings.warn(\n",
            "/usr/local/lib/python3.10/dist-packages/sklearn/neural_network/_multilayer_perceptron.py:686: ConvergenceWarning: Stochastic Optimizer: Maximum iterations (200) reached and the optimization hasn't converged yet.\n",
            "  warnings.warn(\n",
            "/usr/local/lib/python3.10/dist-packages/sklearn/neural_network/_multilayer_perceptron.py:686: ConvergenceWarning: Stochastic Optimizer: Maximum iterations (200) reached and the optimization hasn't converged yet.\n",
            "  warnings.warn(\n",
            "/usr/local/lib/python3.10/dist-packages/sklearn/neural_network/_multilayer_perceptron.py:686: ConvergenceWarning: Stochastic Optimizer: Maximum iterations (200) reached and the optimization hasn't converged yet.\n",
            "  warnings.warn(\n",
            "/usr/local/lib/python3.10/dist-packages/sklearn/neural_network/_multilayer_perceptron.py:686: ConvergenceWarning: Stochastic Optimizer: Maximum iterations (200) reached and the optimization hasn't converged yet.\n",
            "  warnings.warn(\n",
            "/usr/local/lib/python3.10/dist-packages/sklearn/neural_network/_multilayer_perceptron.py:686: ConvergenceWarning: Stochastic Optimizer: Maximum iterations (200) reached and the optimization hasn't converged yet.\n",
            "  warnings.warn(\n",
            "/usr/local/lib/python3.10/dist-packages/sklearn/neural_network/_multilayer_perceptron.py:686: ConvergenceWarning: Stochastic Optimizer: Maximum iterations (200) reached and the optimization hasn't converged yet.\n",
            "  warnings.warn(\n",
            "/usr/local/lib/python3.10/dist-packages/sklearn/neural_network/_multilayer_perceptron.py:686: ConvergenceWarning: Stochastic Optimizer: Maximum iterations (200) reached and the optimization hasn't converged yet.\n",
            "  warnings.warn(\n",
            "/usr/local/lib/python3.10/dist-packages/sklearn/neural_network/_multilayer_perceptron.py:686: ConvergenceWarning: Stochastic Optimizer: Maximum iterations (200) reached and the optimization hasn't converged yet.\n",
            "  warnings.warn(\n",
            "/usr/local/lib/python3.10/dist-packages/sklearn/neural_network/_multilayer_perceptron.py:686: ConvergenceWarning: Stochastic Optimizer: Maximum iterations (200) reached and the optimization hasn't converged yet.\n",
            "  warnings.warn(\n",
            "/usr/local/lib/python3.10/dist-packages/sklearn/neural_network/_multilayer_perceptron.py:686: ConvergenceWarning: Stochastic Optimizer: Maximum iterations (200) reached and the optimization hasn't converged yet.\n",
            "  warnings.warn(\n",
            "/usr/local/lib/python3.10/dist-packages/sklearn/neural_network/_multilayer_perceptron.py:686: ConvergenceWarning: Stochastic Optimizer: Maximum iterations (200) reached and the optimization hasn't converged yet.\n",
            "  warnings.warn(\n",
            "/usr/local/lib/python3.10/dist-packages/sklearn/neural_network/_multilayer_perceptron.py:686: ConvergenceWarning: Stochastic Optimizer: Maximum iterations (200) reached and the optimization hasn't converged yet.\n",
            "  warnings.warn(\n",
            "/usr/local/lib/python3.10/dist-packages/sklearn/neural_network/_multilayer_perceptron.py:686: ConvergenceWarning: Stochastic Optimizer: Maximum iterations (200) reached and the optimization hasn't converged yet.\n",
            "  warnings.warn(\n",
            "/usr/local/lib/python3.10/dist-packages/sklearn/neural_network/_multilayer_perceptron.py:686: ConvergenceWarning: Stochastic Optimizer: Maximum iterations (200) reached and the optimization hasn't converged yet.\n",
            "  warnings.warn(\n",
            "/usr/local/lib/python3.10/dist-packages/sklearn/neural_network/_multilayer_perceptron.py:686: ConvergenceWarning: Stochastic Optimizer: Maximum iterations (200) reached and the optimization hasn't converged yet.\n",
            "  warnings.warn(\n",
            "/usr/local/lib/python3.10/dist-packages/sklearn/neural_network/_multilayer_perceptron.py:686: ConvergenceWarning: Stochastic Optimizer: Maximum iterations (200) reached and the optimization hasn't converged yet.\n",
            "  warnings.warn(\n",
            "/usr/local/lib/python3.10/dist-packages/sklearn/neural_network/_multilayer_perceptron.py:686: ConvergenceWarning: Stochastic Optimizer: Maximum iterations (200) reached and the optimization hasn't converged yet.\n",
            "  warnings.warn(\n",
            "/usr/local/lib/python3.10/dist-packages/sklearn/neural_network/_multilayer_perceptron.py:686: ConvergenceWarning: Stochastic Optimizer: Maximum iterations (200) reached and the optimization hasn't converged yet.\n",
            "  warnings.warn(\n",
            "/usr/local/lib/python3.10/dist-packages/sklearn/neural_network/_multilayer_perceptron.py:686: ConvergenceWarning: Stochastic Optimizer: Maximum iterations (200) reached and the optimization hasn't converged yet.\n",
            "  warnings.warn(\n",
            "/usr/local/lib/python3.10/dist-packages/sklearn/neural_network/_multilayer_perceptron.py:686: ConvergenceWarning: Stochastic Optimizer: Maximum iterations (200) reached and the optimization hasn't converged yet.\n",
            "  warnings.warn(\n",
            "/usr/local/lib/python3.10/dist-packages/sklearn/neural_network/_multilayer_perceptron.py:686: ConvergenceWarning: Stochastic Optimizer: Maximum iterations (200) reached and the optimization hasn't converged yet.\n",
            "  warnings.warn(\n",
            "/usr/local/lib/python3.10/dist-packages/sklearn/neural_network/_multilayer_perceptron.py:686: ConvergenceWarning: Stochastic Optimizer: Maximum iterations (200) reached and the optimization hasn't converged yet.\n",
            "  warnings.warn(\n",
            "/usr/local/lib/python3.10/dist-packages/sklearn/neural_network/_multilayer_perceptron.py:686: ConvergenceWarning: Stochastic Optimizer: Maximum iterations (200) reached and the optimization hasn't converged yet.\n",
            "  warnings.warn(\n",
            "/usr/local/lib/python3.10/dist-packages/sklearn/neural_network/_multilayer_perceptron.py:686: ConvergenceWarning: Stochastic Optimizer: Maximum iterations (200) reached and the optimization hasn't converged yet.\n",
            "  warnings.warn(\n",
            "/usr/local/lib/python3.10/dist-packages/sklearn/neural_network/_multilayer_perceptron.py:686: ConvergenceWarning: Stochastic Optimizer: Maximum iterations (200) reached and the optimization hasn't converged yet.\n",
            "  warnings.warn(\n",
            "/usr/local/lib/python3.10/dist-packages/sklearn/neural_network/_multilayer_perceptron.py:686: ConvergenceWarning: Stochastic Optimizer: Maximum iterations (200) reached and the optimization hasn't converged yet.\n",
            "  warnings.warn(\n",
            "/usr/local/lib/python3.10/dist-packages/sklearn/neural_network/_multilayer_perceptron.py:686: ConvergenceWarning: Stochastic Optimizer: Maximum iterations (200) reached and the optimization hasn't converged yet.\n",
            "  warnings.warn(\n",
            "/usr/local/lib/python3.10/dist-packages/sklearn/neural_network/_multilayer_perceptron.py:686: ConvergenceWarning: Stochastic Optimizer: Maximum iterations (200) reached and the optimization hasn't converged yet.\n",
            "  warnings.warn(\n",
            "/usr/local/lib/python3.10/dist-packages/sklearn/neural_network/_multilayer_perceptron.py:686: ConvergenceWarning: Stochastic Optimizer: Maximum iterations (200) reached and the optimization hasn't converged yet.\n",
            "  warnings.warn(\n",
            "/usr/local/lib/python3.10/dist-packages/sklearn/neural_network/_multilayer_perceptron.py:686: ConvergenceWarning: Stochastic Optimizer: Maximum iterations (200) reached and the optimization hasn't converged yet.\n",
            "  warnings.warn(\n",
            "/usr/local/lib/python3.10/dist-packages/sklearn/neural_network/_multilayer_perceptron.py:686: ConvergenceWarning: Stochastic Optimizer: Maximum iterations (200) reached and the optimization hasn't converged yet.\n",
            "  warnings.warn(\n",
            "/usr/local/lib/python3.10/dist-packages/sklearn/neural_network/_multilayer_perceptron.py:686: ConvergenceWarning: Stochastic Optimizer: Maximum iterations (200) reached and the optimization hasn't converged yet.\n",
            "  warnings.warn(\n",
            "/usr/local/lib/python3.10/dist-packages/sklearn/neural_network/_multilayer_perceptron.py:686: ConvergenceWarning: Stochastic Optimizer: Maximum iterations (200) reached and the optimization hasn't converged yet.\n",
            "  warnings.warn(\n",
            "/usr/local/lib/python3.10/dist-packages/sklearn/neural_network/_multilayer_perceptron.py:686: ConvergenceWarning: Stochastic Optimizer: Maximum iterations (200) reached and the optimization hasn't converged yet.\n",
            "  warnings.warn(\n",
            "/usr/local/lib/python3.10/dist-packages/sklearn/neural_network/_multilayer_perceptron.py:686: ConvergenceWarning: Stochastic Optimizer: Maximum iterations (200) reached and the optimization hasn't converged yet.\n",
            "  warnings.warn(\n",
            "/usr/local/lib/python3.10/dist-packages/sklearn/neural_network/_multilayer_perceptron.py:686: ConvergenceWarning: Stochastic Optimizer: Maximum iterations (200) reached and the optimization hasn't converged yet.\n",
            "  warnings.warn(\n",
            "/usr/local/lib/python3.10/dist-packages/sklearn/neural_network/_multilayer_perceptron.py:686: ConvergenceWarning: Stochastic Optimizer: Maximum iterations (200) reached and the optimization hasn't converged yet.\n",
            "  warnings.warn(\n",
            "/usr/local/lib/python3.10/dist-packages/sklearn/neural_network/_multilayer_perceptron.py:686: ConvergenceWarning: Stochastic Optimizer: Maximum iterations (200) reached and the optimization hasn't converged yet.\n",
            "  warnings.warn(\n",
            "/usr/local/lib/python3.10/dist-packages/sklearn/neural_network/_multilayer_perceptron.py:686: ConvergenceWarning: Stochastic Optimizer: Maximum iterations (200) reached and the optimization hasn't converged yet.\n",
            "  warnings.warn(\n",
            "/usr/local/lib/python3.10/dist-packages/sklearn/neural_network/_multilayer_perceptron.py:686: ConvergenceWarning: Stochastic Optimizer: Maximum iterations (200) reached and the optimization hasn't converged yet.\n",
            "  warnings.warn(\n",
            "/usr/local/lib/python3.10/dist-packages/sklearn/neural_network/_multilayer_perceptron.py:686: ConvergenceWarning: Stochastic Optimizer: Maximum iterations (200) reached and the optimization hasn't converged yet.\n",
            "  warnings.warn(\n",
            "/usr/local/lib/python3.10/dist-packages/sklearn/neural_network/_multilayer_perceptron.py:686: ConvergenceWarning: Stochastic Optimizer: Maximum iterations (200) reached and the optimization hasn't converged yet.\n",
            "  warnings.warn(\n",
            "/usr/local/lib/python3.10/dist-packages/sklearn/neural_network/_multilayer_perceptron.py:686: ConvergenceWarning: Stochastic Optimizer: Maximum iterations (200) reached and the optimization hasn't converged yet.\n",
            "  warnings.warn(\n",
            "/usr/local/lib/python3.10/dist-packages/sklearn/neural_network/_multilayer_perceptron.py:686: ConvergenceWarning: Stochastic Optimizer: Maximum iterations (200) reached and the optimization hasn't converged yet.\n",
            "  warnings.warn(\n",
            "/usr/local/lib/python3.10/dist-packages/sklearn/neural_network/_multilayer_perceptron.py:686: ConvergenceWarning: Stochastic Optimizer: Maximum iterations (200) reached and the optimization hasn't converged yet.\n",
            "  warnings.warn(\n",
            "/usr/local/lib/python3.10/dist-packages/sklearn/neural_network/_multilayer_perceptron.py:686: ConvergenceWarning: Stochastic Optimizer: Maximum iterations (200) reached and the optimization hasn't converged yet.\n",
            "  warnings.warn(\n",
            "/usr/local/lib/python3.10/dist-packages/sklearn/neural_network/_multilayer_perceptron.py:686: ConvergenceWarning: Stochastic Optimizer: Maximum iterations (200) reached and the optimization hasn't converged yet.\n",
            "  warnings.warn(\n",
            "/usr/local/lib/python3.10/dist-packages/sklearn/neural_network/_multilayer_perceptron.py:686: ConvergenceWarning: Stochastic Optimizer: Maximum iterations (200) reached and the optimization hasn't converged yet.\n",
            "  warnings.warn(\n",
            "/usr/local/lib/python3.10/dist-packages/sklearn/neural_network/_multilayer_perceptron.py:686: ConvergenceWarning: Stochastic Optimizer: Maximum iterations (200) reached and the optimization hasn't converged yet.\n",
            "  warnings.warn(\n",
            "/usr/local/lib/python3.10/dist-packages/sklearn/neural_network/_multilayer_perceptron.py:686: ConvergenceWarning: Stochastic Optimizer: Maximum iterations (200) reached and the optimization hasn't converged yet.\n",
            "  warnings.warn(\n",
            "/usr/local/lib/python3.10/dist-packages/sklearn/neural_network/_multilayer_perceptron.py:686: ConvergenceWarning: Stochastic Optimizer: Maximum iterations (200) reached and the optimization hasn't converged yet.\n",
            "  warnings.warn(\n",
            "/usr/local/lib/python3.10/dist-packages/sklearn/neural_network/_multilayer_perceptron.py:686: ConvergenceWarning: Stochastic Optimizer: Maximum iterations (200) reached and the optimization hasn't converged yet.\n",
            "  warnings.warn(\n",
            "/usr/local/lib/python3.10/dist-packages/sklearn/neural_network/_multilayer_perceptron.py:686: ConvergenceWarning: Stochastic Optimizer: Maximum iterations (200) reached and the optimization hasn't converged yet.\n",
            "  warnings.warn(\n",
            "/usr/local/lib/python3.10/dist-packages/sklearn/neural_network/_multilayer_perceptron.py:686: ConvergenceWarning: Stochastic Optimizer: Maximum iterations (200) reached and the optimization hasn't converged yet.\n",
            "  warnings.warn(\n",
            "/usr/local/lib/python3.10/dist-packages/sklearn/neural_network/_multilayer_perceptron.py:686: ConvergenceWarning: Stochastic Optimizer: Maximum iterations (200) reached and the optimization hasn't converged yet.\n",
            "  warnings.warn(\n",
            "/usr/local/lib/python3.10/dist-packages/sklearn/neural_network/_multilayer_perceptron.py:686: ConvergenceWarning: Stochastic Optimizer: Maximum iterations (200) reached and the optimization hasn't converged yet.\n",
            "  warnings.warn(\n",
            "/usr/local/lib/python3.10/dist-packages/sklearn/neural_network/_multilayer_perceptron.py:686: ConvergenceWarning: Stochastic Optimizer: Maximum iterations (200) reached and the optimization hasn't converged yet.\n",
            "  warnings.warn(\n",
            "/usr/local/lib/python3.10/dist-packages/sklearn/neural_network/_multilayer_perceptron.py:686: ConvergenceWarning: Stochastic Optimizer: Maximum iterations (200) reached and the optimization hasn't converged yet.\n",
            "  warnings.warn(\n",
            "/usr/local/lib/python3.10/dist-packages/sklearn/neural_network/_multilayer_perceptron.py:686: ConvergenceWarning: Stochastic Optimizer: Maximum iterations (200) reached and the optimization hasn't converged yet.\n",
            "  warnings.warn(\n",
            "/usr/local/lib/python3.10/dist-packages/sklearn/neural_network/_multilayer_perceptron.py:686: ConvergenceWarning: Stochastic Optimizer: Maximum iterations (200) reached and the optimization hasn't converged yet.\n",
            "  warnings.warn(\n",
            "/usr/local/lib/python3.10/dist-packages/sklearn/neural_network/_multilayer_perceptron.py:686: ConvergenceWarning: Stochastic Optimizer: Maximum iterations (200) reached and the optimization hasn't converged yet.\n",
            "  warnings.warn(\n",
            "/usr/local/lib/python3.10/dist-packages/sklearn/neural_network/_multilayer_perceptron.py:686: ConvergenceWarning: Stochastic Optimizer: Maximum iterations (200) reached and the optimization hasn't converged yet.\n",
            "  warnings.warn(\n",
            "/usr/local/lib/python3.10/dist-packages/sklearn/neural_network/_multilayer_perceptron.py:686: ConvergenceWarning: Stochastic Optimizer: Maximum iterations (200) reached and the optimization hasn't converged yet.\n",
            "  warnings.warn(\n",
            "/usr/local/lib/python3.10/dist-packages/sklearn/neural_network/_multilayer_perceptron.py:686: ConvergenceWarning: Stochastic Optimizer: Maximum iterations (200) reached and the optimization hasn't converged yet.\n",
            "  warnings.warn(\n"
          ]
        },
        {
          "output_type": "stream",
          "name": "stdout",
          "text": [
            "Melhores parâmetros para o comitê de redes neurais: {'mlp1__hidden_layer_sizes': (50, 20), 'mlp2__hidden_layer_sizes': (100, 50), 'mlp3__hidden_layer_sizes': (80, 30)}\n",
            "\n",
            "Relatório de Classificação do melhor modelo do comitê de redes neurais:\n",
            "              precision    recall  f1-score   support\n",
            "\n",
            "           0       0.84      0.80      0.82        51\n",
            "           1       0.74      0.78      0.76        37\n",
            "\n",
            "    accuracy                           0.80        88\n",
            "   macro avg       0.79      0.79      0.79        88\n",
            "weighted avg       0.80      0.80      0.80        88\n",
            "\n"
          ]
        },
        {
          "output_type": "stream",
          "name": "stderr",
          "text": [
            "/usr/local/lib/python3.10/dist-packages/sklearn/neural_network/_multilayer_perceptron.py:686: ConvergenceWarning: Stochastic Optimizer: Maximum iterations (200) reached and the optimization hasn't converged yet.\n",
            "  warnings.warn(\n"
          ]
        }
      ]
    },
    {
      "cell_type": "markdown",
      "source": [
        "### MLP"
      ],
      "metadata": {
        "id": "y56w-iZBTb3Z"
      }
    },
    {
      "cell_type": "code",
      "source": [
        "print(\"Base somente normalizada\")\n",
        "busca_resultados_mlp()\n",
        "print(\"\")\n",
        "print(\"Base com oversampling\")\n",
        "busca_resultados_mlp(nome=\"over\")\n",
        "print(\"\")\n",
        "print(\"Base com undersampling\")\n",
        "busca_resultados_mlp(nome=\"under\")"
      ],
      "metadata": {
        "colab": {
          "base_uri": "https://localhost:8080/"
        },
        "id": "PuFKqF2oTgOJ",
        "outputId": "2370507d-7568-4658-fca3-6cd0c7b97424"
      },
      "execution_count": null,
      "outputs": [
        {
          "output_type": "stream",
          "name": "stdout",
          "text": [
            "Base somente normalizada\n",
            "Melhores parâmetros encontrados: {'hidden_layer_sizes': (50, 20)}\n",
            "Relatório de Classificação do melhor modelo:\n",
            "              precision    recall  f1-score   support\n",
            "\n",
            "           0       0.98      0.98      0.98      1313\n",
            "           1       0.45      0.35      0.40        51\n",
            "\n",
            "    accuracy                           0.96      1364\n",
            "   macro avg       0.71      0.67      0.69      1364\n",
            "weighted avg       0.96      0.96      0.96      1364\n",
            "\n",
            "\n",
            "Base com oversampling\n",
            "Melhores parâmetros encontrados: {'hidden_layer_sizes': (80, 30)}\n",
            "Relatório de Classificação do melhor modelo:\n",
            "              precision    recall  f1-score   support\n",
            "\n",
            "           0       1.00      0.97      0.98      1334\n",
            "           1       0.97      1.00      0.98      1306\n",
            "\n",
            "    accuracy                           0.98      2640\n",
            "   macro avg       0.99      0.99      0.98      2640\n",
            "weighted avg       0.99      0.98      0.98      2640\n",
            "\n",
            "\n",
            "Base com undersampling\n"
          ]
        },
        {
          "output_type": "stream",
          "name": "stderr",
          "text": [
            "/usr/local/lib/python3.10/dist-packages/sklearn/neural_network/_multilayer_perceptron.py:686: ConvergenceWarning: Stochastic Optimizer: Maximum iterations (200) reached and the optimization hasn't converged yet.\n",
            "  warnings.warn(\n",
            "/usr/local/lib/python3.10/dist-packages/sklearn/neural_network/_multilayer_perceptron.py:686: ConvergenceWarning: Stochastic Optimizer: Maximum iterations (200) reached and the optimization hasn't converged yet.\n",
            "  warnings.warn(\n",
            "/usr/local/lib/python3.10/dist-packages/sklearn/neural_network/_multilayer_perceptron.py:686: ConvergenceWarning: Stochastic Optimizer: Maximum iterations (200) reached and the optimization hasn't converged yet.\n",
            "  warnings.warn(\n",
            "/usr/local/lib/python3.10/dist-packages/sklearn/neural_network/_multilayer_perceptron.py:686: ConvergenceWarning: Stochastic Optimizer: Maximum iterations (200) reached and the optimization hasn't converged yet.\n",
            "  warnings.warn(\n",
            "/usr/local/lib/python3.10/dist-packages/sklearn/neural_network/_multilayer_perceptron.py:686: ConvergenceWarning: Stochastic Optimizer: Maximum iterations (200) reached and the optimization hasn't converged yet.\n",
            "  warnings.warn(\n",
            "/usr/local/lib/python3.10/dist-packages/sklearn/neural_network/_multilayer_perceptron.py:686: ConvergenceWarning: Stochastic Optimizer: Maximum iterations (200) reached and the optimization hasn't converged yet.\n",
            "  warnings.warn(\n",
            "/usr/local/lib/python3.10/dist-packages/sklearn/neural_network/_multilayer_perceptron.py:686: ConvergenceWarning: Stochastic Optimizer: Maximum iterations (200) reached and the optimization hasn't converged yet.\n",
            "  warnings.warn(\n",
            "/usr/local/lib/python3.10/dist-packages/sklearn/neural_network/_multilayer_perceptron.py:686: ConvergenceWarning: Stochastic Optimizer: Maximum iterations (200) reached and the optimization hasn't converged yet.\n",
            "  warnings.warn(\n",
            "/usr/local/lib/python3.10/dist-packages/sklearn/neural_network/_multilayer_perceptron.py:686: ConvergenceWarning: Stochastic Optimizer: Maximum iterations (200) reached and the optimization hasn't converged yet.\n",
            "  warnings.warn(\n"
          ]
        },
        {
          "output_type": "stream",
          "name": "stdout",
          "text": [
            "Melhores parâmetros encontrados: {'hidden_layer_sizes': (50, 20)}\n",
            "Relatório de Classificação do melhor modelo:\n",
            "              precision    recall  f1-score   support\n",
            "\n",
            "           0       0.87      0.78      0.82        51\n",
            "           1       0.74      0.84      0.78        37\n",
            "\n",
            "    accuracy                           0.81        88\n",
            "   macro avg       0.80      0.81      0.80        88\n",
            "weighted avg       0.81      0.81      0.81        88\n",
            "\n"
          ]
        },
        {
          "output_type": "stream",
          "name": "stderr",
          "text": [
            "/usr/local/lib/python3.10/dist-packages/sklearn/neural_network/_multilayer_perceptron.py:686: ConvergenceWarning: Stochastic Optimizer: Maximum iterations (200) reached and the optimization hasn't converged yet.\n",
            "  warnings.warn(\n"
          ]
        }
      ]
    },
    {
      "cell_type": "markdown",
      "source": [
        "### KNN"
      ],
      "metadata": {
        "id": "9T5PWDORTdDt"
      }
    },
    {
      "cell_type": "code",
      "source": [
        "print(\"Base somente normalizada\")\n",
        "busca_resultados_knn()\n",
        "print(\"\")\n",
        "print(\"Base com oversampling\")\n",
        "busca_resultados_knn(nome=\"over\")\n",
        "print(\"\")\n",
        "print(\"Base com undersampling\")\n",
        "busca_resultados_knn(nome=\"under\")"
      ],
      "metadata": {
        "colab": {
          "base_uri": "https://localhost:8080/"
        },
        "id": "cBRKacJoTgd6",
        "outputId": "2fe003d0-9a1c-4cc3-c150-9f0af0ebfc79"
      },
      "execution_count": null,
      "outputs": [
        {
          "output_type": "stream",
          "name": "stdout",
          "text": [
            "Base somente normalizada\n",
            "Melhores parâmetros encontrados: {'n_neighbors': 7}\n",
            "Relatório de Classificação do melhor modelo:\n",
            "              precision    recall  f1-score   support\n",
            "\n",
            "           0       0.97      1.00      0.98      1313\n",
            "           1       0.67      0.12      0.20        51\n",
            "\n",
            "    accuracy                           0.96      1364\n",
            "   macro avg       0.82      0.56      0.59      1364\n",
            "weighted avg       0.96      0.96      0.95      1364\n",
            "\n",
            "\n",
            "Base com oversampling\n",
            "Melhores parâmetros encontrados: {'n_neighbors': 2}\n",
            "Relatório de Classificação do melhor modelo:\n",
            "              precision    recall  f1-score   support\n",
            "\n",
            "           0       1.00      0.94      0.97      1334\n",
            "           1       0.95      1.00      0.97      1306\n",
            "\n",
            "    accuracy                           0.97      2640\n",
            "   macro avg       0.97      0.97      0.97      2640\n",
            "weighted avg       0.97      0.97      0.97      2640\n",
            "\n",
            "\n",
            "Base com undersampling\n",
            "Melhores parâmetros encontrados: {'n_neighbors': 10}\n",
            "Relatório de Classificação do melhor modelo:\n",
            "              precision    recall  f1-score   support\n",
            "\n",
            "           0       0.87      0.80      0.84        51\n",
            "           1       0.76      0.84      0.79        37\n",
            "\n",
            "    accuracy                           0.82        88\n",
            "   macro avg       0.81      0.82      0.82        88\n",
            "weighted avg       0.82      0.82      0.82        88\n",
            "\n"
          ]
        }
      ]
    },
    {
      "cell_type": "markdown",
      "source": [
        "## Definindo a 2a grade para procurar"
      ],
      "metadata": {
        "id": "uj_VbDy3IrKg"
      }
    },
    {
      "cell_type": "code",
      "source": [
        "parameters_com_2 = {\n",
        "    'mlp1__alpha': [0.001],  # Parâmetro de regularização L2, contando que o 0.0001 ja foi testado na condição default\n",
        "    'mlp2__alpha': [0.001],\n",
        "    'mlp3__alpha': [0.001],\n",
        "    'mlp1__learning_rate_init': [0.001, 0.01],  # Taxa de aprendizado inicial\n",
        "    'mlp2__learning_rate_init': [0.001, 0.01],\n",
        "    'mlp3__learning_rate_init': [0.001, 0.01],\n",
        "}\n",
        "\n",
        "parameters_mlp_2 = {\n",
        "    'alpha': [0.0001, 0.001, 0.01],\n",
        "    'learning_rate_init': [0.001, 0.01, 0.1]\n",
        "}\n",
        "\n",
        "parameters_knn_2 = {\n",
        "    'weights': ['uniform', 'distance'],  # Peso dado aos vizinhos\n",
        "    'p': [1, 2]  # Parâmetro de distância (1 para distância de Manhattan, 2 para distância euclidiana)\n",
        "}"
      ],
      "metadata": {
        "id": "uZJrMX3pItKx"
      },
      "execution_count": null,
      "outputs": []
    },
    {
      "cell_type": "markdown",
      "source": [
        "## Resultados para as segundas grades"
      ],
      "metadata": {
        "id": "PpyOHWp5LJ2h"
      }
    },
    {
      "cell_type": "markdown",
      "source": [
        "### Comitê de NN"
      ],
      "metadata": {
        "id": "ljd7zAe9Tocd"
      }
    },
    {
      "cell_type": "code",
      "source": [
        "print(\"Base somente normalizada\")\n",
        "busca_resultados_com(parameters=1)\n",
        "print(\"\")\n",
        "print(\"Base com oversampling\")\n",
        "busca_resultados_com(nome=\"over\", parameters=1)\n",
        "print(\"\")\n",
        "print(\"Base com undersampling\")\n",
        "busca_resultados_com(nome=\"under\", parameters=1)"
      ],
      "metadata": {
        "colab": {
          "base_uri": "https://localhost:8080/"
        },
        "id": "tIbPUInVLM-y",
        "outputId": "7c107d72-b6db-4960-fd97-46ff73e107dd"
      },
      "execution_count": null,
      "outputs": [
        {
          "output_type": "stream",
          "name": "stdout",
          "text": [
            "Base somente normalizada\n",
            "Melhores parâmetros para o comitê de redes neurais: {'mlp1__alpha': 0.001, 'mlp1__learning_rate_init': 0.001, 'mlp2__alpha': 0.001, 'mlp2__learning_rate_init': 0.01, 'mlp3__alpha': 0.001, 'mlp3__learning_rate_init': 0.01}\n",
            "\n",
            "Relatório de Classificação do melhor modelo do comitê de redes neurais:\n",
            "              precision    recall  f1-score   support\n",
            "\n",
            "           0       0.97      0.98      0.98      1313\n",
            "           1       0.36      0.24      0.29        51\n",
            "\n",
            "    accuracy                           0.96      1364\n",
            "   macro avg       0.67      0.61      0.63      1364\n",
            "weighted avg       0.95      0.96      0.95      1364\n",
            "\n",
            "\n",
            "Base com oversampling\n",
            "Melhores parâmetros para o comitê de redes neurais: {'mlp1__alpha': 0.001, 'mlp1__learning_rate_init': 0.001, 'mlp2__alpha': 0.001, 'mlp2__learning_rate_init': 0.01, 'mlp3__alpha': 0.001, 'mlp3__learning_rate_init': 0.001}\n",
            "\n",
            "Relatório de Classificação do melhor modelo do comitê de redes neurais:\n",
            "              precision    recall  f1-score   support\n",
            "\n",
            "           0       1.00      0.98      0.99      1334\n",
            "           1       0.98      1.00      0.99      1306\n",
            "\n",
            "    accuracy                           0.99      2640\n",
            "   macro avg       0.99      0.99      0.99      2640\n",
            "weighted avg       0.99      0.99      0.99      2640\n",
            "\n",
            "\n",
            "Base com undersampling\n"
          ]
        },
        {
          "output_type": "stream",
          "name": "stderr",
          "text": [
            "/usr/local/lib/python3.10/dist-packages/sklearn/neural_network/_multilayer_perceptron.py:686: ConvergenceWarning: Stochastic Optimizer: Maximum iterations (200) reached and the optimization hasn't converged yet.\n",
            "  warnings.warn(\n",
            "/usr/local/lib/python3.10/dist-packages/sklearn/neural_network/_multilayer_perceptron.py:686: ConvergenceWarning: Stochastic Optimizer: Maximum iterations (200) reached and the optimization hasn't converged yet.\n",
            "  warnings.warn(\n",
            "/usr/local/lib/python3.10/dist-packages/sklearn/neural_network/_multilayer_perceptron.py:686: ConvergenceWarning: Stochastic Optimizer: Maximum iterations (200) reached and the optimization hasn't converged yet.\n",
            "  warnings.warn(\n",
            "/usr/local/lib/python3.10/dist-packages/sklearn/neural_network/_multilayer_perceptron.py:686: ConvergenceWarning: Stochastic Optimizer: Maximum iterations (200) reached and the optimization hasn't converged yet.\n",
            "  warnings.warn(\n",
            "/usr/local/lib/python3.10/dist-packages/sklearn/neural_network/_multilayer_perceptron.py:686: ConvergenceWarning: Stochastic Optimizer: Maximum iterations (200) reached and the optimization hasn't converged yet.\n",
            "  warnings.warn(\n",
            "/usr/local/lib/python3.10/dist-packages/sklearn/neural_network/_multilayer_perceptron.py:686: ConvergenceWarning: Stochastic Optimizer: Maximum iterations (200) reached and the optimization hasn't converged yet.\n",
            "  warnings.warn(\n",
            "/usr/local/lib/python3.10/dist-packages/sklearn/neural_network/_multilayer_perceptron.py:686: ConvergenceWarning: Stochastic Optimizer: Maximum iterations (200) reached and the optimization hasn't converged yet.\n",
            "  warnings.warn(\n",
            "/usr/local/lib/python3.10/dist-packages/sklearn/neural_network/_multilayer_perceptron.py:686: ConvergenceWarning: Stochastic Optimizer: Maximum iterations (200) reached and the optimization hasn't converged yet.\n",
            "  warnings.warn(\n",
            "/usr/local/lib/python3.10/dist-packages/sklearn/neural_network/_multilayer_perceptron.py:686: ConvergenceWarning: Stochastic Optimizer: Maximum iterations (200) reached and the optimization hasn't converged yet.\n",
            "  warnings.warn(\n",
            "/usr/local/lib/python3.10/dist-packages/sklearn/neural_network/_multilayer_perceptron.py:686: ConvergenceWarning: Stochastic Optimizer: Maximum iterations (200) reached and the optimization hasn't converged yet.\n",
            "  warnings.warn(\n",
            "/usr/local/lib/python3.10/dist-packages/sklearn/neural_network/_multilayer_perceptron.py:686: ConvergenceWarning: Stochastic Optimizer: Maximum iterations (200) reached and the optimization hasn't converged yet.\n",
            "  warnings.warn(\n",
            "/usr/local/lib/python3.10/dist-packages/sklearn/neural_network/_multilayer_perceptron.py:686: ConvergenceWarning: Stochastic Optimizer: Maximum iterations (200) reached and the optimization hasn't converged yet.\n",
            "  warnings.warn(\n",
            "/usr/local/lib/python3.10/dist-packages/sklearn/neural_network/_multilayer_perceptron.py:686: ConvergenceWarning: Stochastic Optimizer: Maximum iterations (200) reached and the optimization hasn't converged yet.\n",
            "  warnings.warn(\n",
            "/usr/local/lib/python3.10/dist-packages/sklearn/neural_network/_multilayer_perceptron.py:686: ConvergenceWarning: Stochastic Optimizer: Maximum iterations (200) reached and the optimization hasn't converged yet.\n",
            "  warnings.warn(\n",
            "/usr/local/lib/python3.10/dist-packages/sklearn/neural_network/_multilayer_perceptron.py:686: ConvergenceWarning: Stochastic Optimizer: Maximum iterations (200) reached and the optimization hasn't converged yet.\n",
            "  warnings.warn(\n",
            "/usr/local/lib/python3.10/dist-packages/sklearn/neural_network/_multilayer_perceptron.py:686: ConvergenceWarning: Stochastic Optimizer: Maximum iterations (200) reached and the optimization hasn't converged yet.\n",
            "  warnings.warn(\n",
            "/usr/local/lib/python3.10/dist-packages/sklearn/neural_network/_multilayer_perceptron.py:686: ConvergenceWarning: Stochastic Optimizer: Maximum iterations (200) reached and the optimization hasn't converged yet.\n",
            "  warnings.warn(\n",
            "/usr/local/lib/python3.10/dist-packages/sklearn/neural_network/_multilayer_perceptron.py:686: ConvergenceWarning: Stochastic Optimizer: Maximum iterations (200) reached and the optimization hasn't converged yet.\n",
            "  warnings.warn(\n",
            "/usr/local/lib/python3.10/dist-packages/sklearn/neural_network/_multilayer_perceptron.py:686: ConvergenceWarning: Stochastic Optimizer: Maximum iterations (200) reached and the optimization hasn't converged yet.\n",
            "  warnings.warn(\n",
            "/usr/local/lib/python3.10/dist-packages/sklearn/neural_network/_multilayer_perceptron.py:686: ConvergenceWarning: Stochastic Optimizer: Maximum iterations (200) reached and the optimization hasn't converged yet.\n",
            "  warnings.warn(\n",
            "/usr/local/lib/python3.10/dist-packages/sklearn/neural_network/_multilayer_perceptron.py:686: ConvergenceWarning: Stochastic Optimizer: Maximum iterations (200) reached and the optimization hasn't converged yet.\n",
            "  warnings.warn(\n",
            "/usr/local/lib/python3.10/dist-packages/sklearn/neural_network/_multilayer_perceptron.py:686: ConvergenceWarning: Stochastic Optimizer: Maximum iterations (200) reached and the optimization hasn't converged yet.\n",
            "  warnings.warn(\n",
            "/usr/local/lib/python3.10/dist-packages/sklearn/neural_network/_multilayer_perceptron.py:686: ConvergenceWarning: Stochastic Optimizer: Maximum iterations (200) reached and the optimization hasn't converged yet.\n",
            "  warnings.warn(\n",
            "/usr/local/lib/python3.10/dist-packages/sklearn/neural_network/_multilayer_perceptron.py:686: ConvergenceWarning: Stochastic Optimizer: Maximum iterations (200) reached and the optimization hasn't converged yet.\n",
            "  warnings.warn(\n",
            "/usr/local/lib/python3.10/dist-packages/sklearn/neural_network/_multilayer_perceptron.py:686: ConvergenceWarning: Stochastic Optimizer: Maximum iterations (200) reached and the optimization hasn't converged yet.\n",
            "  warnings.warn(\n",
            "/usr/local/lib/python3.10/dist-packages/sklearn/neural_network/_multilayer_perceptron.py:686: ConvergenceWarning: Stochastic Optimizer: Maximum iterations (200) reached and the optimization hasn't converged yet.\n",
            "  warnings.warn(\n",
            "/usr/local/lib/python3.10/dist-packages/sklearn/neural_network/_multilayer_perceptron.py:686: ConvergenceWarning: Stochastic Optimizer: Maximum iterations (200) reached and the optimization hasn't converged yet.\n",
            "  warnings.warn(\n",
            "/usr/local/lib/python3.10/dist-packages/sklearn/neural_network/_multilayer_perceptron.py:686: ConvergenceWarning: Stochastic Optimizer: Maximum iterations (200) reached and the optimization hasn't converged yet.\n",
            "  warnings.warn(\n",
            "/usr/local/lib/python3.10/dist-packages/sklearn/neural_network/_multilayer_perceptron.py:686: ConvergenceWarning: Stochastic Optimizer: Maximum iterations (200) reached and the optimization hasn't converged yet.\n",
            "  warnings.warn(\n",
            "/usr/local/lib/python3.10/dist-packages/sklearn/neural_network/_multilayer_perceptron.py:686: ConvergenceWarning: Stochastic Optimizer: Maximum iterations (200) reached and the optimization hasn't converged yet.\n",
            "  warnings.warn(\n",
            "/usr/local/lib/python3.10/dist-packages/sklearn/neural_network/_multilayer_perceptron.py:686: ConvergenceWarning: Stochastic Optimizer: Maximum iterations (200) reached and the optimization hasn't converged yet.\n",
            "  warnings.warn(\n",
            "/usr/local/lib/python3.10/dist-packages/sklearn/neural_network/_multilayer_perceptron.py:686: ConvergenceWarning: Stochastic Optimizer: Maximum iterations (200) reached and the optimization hasn't converged yet.\n",
            "  warnings.warn(\n",
            "/usr/local/lib/python3.10/dist-packages/sklearn/neural_network/_multilayer_perceptron.py:686: ConvergenceWarning: Stochastic Optimizer: Maximum iterations (200) reached and the optimization hasn't converged yet.\n",
            "  warnings.warn(\n",
            "/usr/local/lib/python3.10/dist-packages/sklearn/neural_network/_multilayer_perceptron.py:686: ConvergenceWarning: Stochastic Optimizer: Maximum iterations (200) reached and the optimization hasn't converged yet.\n",
            "  warnings.warn(\n"
          ]
        },
        {
          "output_type": "stream",
          "name": "stdout",
          "text": [
            "Melhores parâmetros para o comitê de redes neurais: {'mlp1__alpha': 0.001, 'mlp1__learning_rate_init': 0.001, 'mlp2__alpha': 0.001, 'mlp2__learning_rate_init': 0.001, 'mlp3__alpha': 0.001, 'mlp3__learning_rate_init': 0.001}\n",
            "\n",
            "Relatório de Classificação do melhor modelo do comitê de redes neurais:\n",
            "              precision    recall  f1-score   support\n",
            "\n",
            "           0       0.84      0.75      0.79        51\n",
            "           1       0.70      0.81      0.75        37\n",
            "\n",
            "    accuracy                           0.77        88\n",
            "   macro avg       0.77      0.78      0.77        88\n",
            "weighted avg       0.78      0.77      0.77        88\n",
            "\n"
          ]
        },
        {
          "output_type": "stream",
          "name": "stderr",
          "text": [
            "/usr/local/lib/python3.10/dist-packages/sklearn/neural_network/_multilayer_perceptron.py:686: ConvergenceWarning: Stochastic Optimizer: Maximum iterations (200) reached and the optimization hasn't converged yet.\n",
            "  warnings.warn(\n"
          ]
        }
      ]
    },
    {
      "cell_type": "markdown",
      "source": [
        "### MLP"
      ],
      "metadata": {
        "id": "fo9JumCsTp7V"
      }
    },
    {
      "cell_type": "code",
      "source": [
        "print(\"Base somente normalizada\")\n",
        "busca_resultados_mlp(parameters=1)\n",
        "print(\"\")\n",
        "print(\"Base com oversampling\")\n",
        "busca_resultados_mlp(nome=\"over\", parameters=1)\n",
        "print(\"\")\n",
        "print(\"Base com undersampling\")\n",
        "busca_resultados_mlp(nome=\"under\", parameters=1)"
      ],
      "metadata": {
        "colab": {
          "base_uri": "https://localhost:8080/"
        },
        "id": "jAnbfhb-Tq_w",
        "outputId": "f2a90076-3a3e-41e9-aabf-9c40b59c25bd"
      },
      "execution_count": null,
      "outputs": [
        {
          "output_type": "stream",
          "name": "stdout",
          "text": [
            "Base somente normalizada\n",
            "Melhores parâmetros encontrados: {'alpha': 0.0001, 'learning_rate_init': 0.1}\n",
            "Relatório de Classificação do melhor modelo:\n",
            "              precision    recall  f1-score   support\n",
            "\n",
            "           0       0.96      1.00      0.98      1313\n",
            "           1       0.00      0.00      0.00        51\n",
            "\n",
            "    accuracy                           0.96      1364\n",
            "   macro avg       0.48      0.50      0.49      1364\n",
            "weighted avg       0.93      0.96      0.94      1364\n",
            "\n",
            "\n",
            "Base com oversampling\n"
          ]
        },
        {
          "output_type": "stream",
          "name": "stderr",
          "text": [
            "/usr/local/lib/python3.10/dist-packages/sklearn/metrics/_classification.py:1344: UndefinedMetricWarning: Precision and F-score are ill-defined and being set to 0.0 in labels with no predicted samples. Use `zero_division` parameter to control this behavior.\n",
            "  _warn_prf(average, modifier, msg_start, len(result))\n",
            "/usr/local/lib/python3.10/dist-packages/sklearn/metrics/_classification.py:1344: UndefinedMetricWarning: Precision and F-score are ill-defined and being set to 0.0 in labels with no predicted samples. Use `zero_division` parameter to control this behavior.\n",
            "  _warn_prf(average, modifier, msg_start, len(result))\n",
            "/usr/local/lib/python3.10/dist-packages/sklearn/metrics/_classification.py:1344: UndefinedMetricWarning: Precision and F-score are ill-defined and being set to 0.0 in labels with no predicted samples. Use `zero_division` parameter to control this behavior.\n",
            "  _warn_prf(average, modifier, msg_start, len(result))\n"
          ]
        },
        {
          "output_type": "stream",
          "name": "stdout",
          "text": [
            "Melhores parâmetros encontrados: {'alpha': 0.0001, 'learning_rate_init': 0.001}\n",
            "Relatório de Classificação do melhor modelo:\n",
            "              precision    recall  f1-score   support\n",
            "\n",
            "           0       1.00      0.98      0.99      1334\n",
            "           1       0.98      1.00      0.99      1306\n",
            "\n",
            "    accuracy                           0.99      2640\n",
            "   macro avg       0.99      0.99      0.99      2640\n",
            "weighted avg       0.99      0.99      0.99      2640\n",
            "\n",
            "\n",
            "Base com undersampling\n"
          ]
        },
        {
          "output_type": "stream",
          "name": "stderr",
          "text": [
            "/usr/local/lib/python3.10/dist-packages/sklearn/neural_network/_multilayer_perceptron.py:686: ConvergenceWarning: Stochastic Optimizer: Maximum iterations (200) reached and the optimization hasn't converged yet.\n",
            "  warnings.warn(\n",
            "/usr/local/lib/python3.10/dist-packages/sklearn/neural_network/_multilayer_perceptron.py:686: ConvergenceWarning: Stochastic Optimizer: Maximum iterations (200) reached and the optimization hasn't converged yet.\n",
            "  warnings.warn(\n",
            "/usr/local/lib/python3.10/dist-packages/sklearn/neural_network/_multilayer_perceptron.py:686: ConvergenceWarning: Stochastic Optimizer: Maximum iterations (200) reached and the optimization hasn't converged yet.\n",
            "  warnings.warn(\n",
            "/usr/local/lib/python3.10/dist-packages/sklearn/neural_network/_multilayer_perceptron.py:686: ConvergenceWarning: Stochastic Optimizer: Maximum iterations (200) reached and the optimization hasn't converged yet.\n",
            "  warnings.warn(\n",
            "/usr/local/lib/python3.10/dist-packages/sklearn/neural_network/_multilayer_perceptron.py:686: ConvergenceWarning: Stochastic Optimizer: Maximum iterations (200) reached and the optimization hasn't converged yet.\n",
            "  warnings.warn(\n",
            "/usr/local/lib/python3.10/dist-packages/sklearn/neural_network/_multilayer_perceptron.py:686: ConvergenceWarning: Stochastic Optimizer: Maximum iterations (200) reached and the optimization hasn't converged yet.\n",
            "  warnings.warn(\n",
            "/usr/local/lib/python3.10/dist-packages/sklearn/neural_network/_multilayer_perceptron.py:686: ConvergenceWarning: Stochastic Optimizer: Maximum iterations (200) reached and the optimization hasn't converged yet.\n",
            "  warnings.warn(\n",
            "/usr/local/lib/python3.10/dist-packages/sklearn/neural_network/_multilayer_perceptron.py:686: ConvergenceWarning: Stochastic Optimizer: Maximum iterations (200) reached and the optimization hasn't converged yet.\n",
            "  warnings.warn(\n",
            "/usr/local/lib/python3.10/dist-packages/sklearn/neural_network/_multilayer_perceptron.py:686: ConvergenceWarning: Stochastic Optimizer: Maximum iterations (200) reached and the optimization hasn't converged yet.\n",
            "  warnings.warn(\n"
          ]
        },
        {
          "output_type": "stream",
          "name": "stdout",
          "text": [
            "Melhores parâmetros encontrados: {'alpha': 0.0001, 'learning_rate_init': 0.1}\n",
            "Relatório de Classificação do melhor modelo:\n",
            "              precision    recall  f1-score   support\n",
            "\n",
            "           0       0.79      0.80      0.80        51\n",
            "           1       0.72      0.70      0.71        37\n",
            "\n",
            "    accuracy                           0.76        88\n",
            "   macro avg       0.76      0.75      0.75        88\n",
            "weighted avg       0.76      0.76      0.76        88\n",
            "\n"
          ]
        }
      ]
    },
    {
      "cell_type": "markdown",
      "source": [
        "### KNN"
      ],
      "metadata": {
        "id": "agMzmMZlTrUU"
      }
    },
    {
      "cell_type": "code",
      "source": [
        "print(\"Base somente normalizada\")\n",
        "busca_resultados_knn(parameters=1)\n",
        "print(\"\")\n",
        "print(\"Base com oversampling\")\n",
        "busca_resultados_knn(nome=\"over\", parameters=1)\n",
        "print(\"\")\n",
        "print(\"Base com undersampling\")\n",
        "busca_resultados_knn(nome=\"under\", parameters=1)"
      ],
      "metadata": {
        "colab": {
          "base_uri": "https://localhost:8080/"
        },
        "id": "ZPT440YtTr_D",
        "outputId": "62860190-09ad-4337-c6df-b6b7b36a56ea"
      },
      "execution_count": null,
      "outputs": [
        {
          "output_type": "stream",
          "name": "stdout",
          "text": [
            "Base somente normalizada\n",
            "Melhores parâmetros encontrados: {'p': 2, 'weights': 'uniform'}\n",
            "Relatório de Classificação do melhor modelo:\n",
            "              precision    recall  f1-score   support\n",
            "\n",
            "           0       0.97      1.00      0.98      1313\n",
            "           1       0.67      0.12      0.20        51\n",
            "\n",
            "    accuracy                           0.96      1364\n",
            "   macro avg       0.82      0.56      0.59      1364\n",
            "weighted avg       0.96      0.96      0.95      1364\n",
            "\n",
            "\n",
            "Base com oversampling\n",
            "Melhores parâmetros encontrados: {'p': 1, 'weights': 'uniform'}\n",
            "Relatório de Classificação do melhor modelo:\n",
            "              precision    recall  f1-score   support\n",
            "\n",
            "           0       1.00      0.94      0.97      1334\n",
            "           1       0.94      1.00      0.97      1306\n",
            "\n",
            "    accuracy                           0.97      2640\n",
            "   macro avg       0.97      0.97      0.97      2640\n",
            "weighted avg       0.97      0.97      0.97      2640\n",
            "\n",
            "\n",
            "Base com undersampling\n",
            "Melhores parâmetros encontrados: {'p': 1, 'weights': 'uniform'}\n",
            "Relatório de Classificação do melhor modelo:\n",
            "              precision    recall  f1-score   support\n",
            "\n",
            "           0       0.88      0.82      0.85        51\n",
            "           1       0.78      0.84      0.81        37\n",
            "\n",
            "    accuracy                           0.83        88\n",
            "   macro avg       0.82      0.83      0.83        88\n",
            "weighted avg       0.83      0.83      0.83        88\n",
            "\n"
          ]
        }
      ]
    },
    {
      "cell_type": "markdown",
      "source": [
        "# Resultados"
      ],
      "metadata": {
        "id": "MtdSomYB1Lwk"
      }
    },
    {
      "cell_type": "markdown",
      "source": [
        "Vale notar que todos os resultados obtidos após a busca de parâmetros de cada modelo, em todos os datasets, foram melhores do que a baseline"
      ],
      "metadata": {
        "id": "PSF8YVlP9doc"
      }
    },
    {
      "cell_type": "markdown",
      "source": [
        "## Comitê NN"
      ],
      "metadata": {
        "id": "-p6kDKJT1Nik"
      }
    },
    {
      "cell_type": "markdown",
      "source": [
        "### Base de dados normalizada"
      ],
      "metadata": {
        "id": "VRNHeDlk1VZy"
      }
    },
    {
      "cell_type": "markdown",
      "source": [
        "Melhor Resultado foi realmente os parâmetros utilizados no 1o GridSearch e com os outros parâmetros em padrão. O Resultado foi o seguinte:"
      ],
      "metadata": {
        "id": "zceJshQG2gB3"
      }
    },
    {
      "cell_type": "markdown",
      "source": [
        "\n",
        "\n",
        "Melhores parâmetros para o comitê de redes neurais:\n",
        "- {'mlp1__hidden_layer_sizes': (80, 30), 'mlp2__hidden_layer_sizes': (80, 30), 'mlp3__hidden_layer_sizes': (80, 30)}\n",
        "\n",
        "Relatório de Classificação do melhor modelo do comitê de redes neurais:\n",
        "              \n",
        "              precision    recall  f1-score   support\n",
        "\n",
        "               0       0.97      0.99      0.98      1313\n",
        "               1       0.45      0.25      0.33        51\n",
        "\n",
        "        accuracy                           0.96      1364\n",
        "       macro avg       0.71      0.62      0.65      1364\n",
        "    weighted avg       0.95      0.96      0.96      1364"
      ],
      "metadata": {
        "id": "cVIq64sm1hQ6"
      }
    },
    {
      "cell_type": "markdown",
      "source": [
        "### Base de dados com oversampling"
      ],
      "metadata": {
        "id": "ca3wJFDm1bnM"
      }
    },
    {
      "cell_type": "markdown",
      "source": [
        "Já na base com oversampling, todos os resultados foram iguais, uma vez que o modelo já estava desempenhando muito bem em todos os casos nessa base de dados.\n",
        "\n",
        "Os resultados foram os seguintes:"
      ],
      "metadata": {
        "id": "CHilPtzC3zKO"
      }
    },
    {
      "cell_type": "markdown",
      "source": [
        "\n",
        "\n",
        "Melhores parâmetros para o comitê de redes neurais:\n",
        "- {'mlp1__alpha': 0.001, 'mlp1__learning_rate_init': 0.001, 'mlp2__alpha': 0.001, 'mlp2__learning_rate_init': 0.01, 'mlp3__alpha': 0.001, 'mlp3__learning_rate_init': 0.001}\n",
        "\n",
        "Relatório de Classificação do melhor modelo do comitê de redes neurais:\n",
        "\n",
        "              precision    recall  f1-score   support\n",
        "\n",
        "               0       1.00      0.98      0.99      1334\n",
        "               1       0.98      1.00      0.99      1306\n",
        "\n",
        "        accuracy                           0.99      2640\n",
        "       macro avg       0.99      0.99      0.99      2640\n",
        "    weighted avg       0.99      0.99      0.99      2640"
      ],
      "metadata": {
        "id": "gdnmwBYS3-G1"
      }
    },
    {
      "cell_type": "markdown",
      "source": [
        "### Base de dados com undersampling"
      ],
      "metadata": {
        "id": "3w_JK1wQ1dgN"
      }
    },
    {
      "cell_type": "markdown",
      "source": [
        "Nessa database o melhor resultado foi obtido com os parâmetros usados pelo primeiro GridSearch.\n",
        "\n",
        "Melhores parâmetros para o comitê de redes neurais:\n",
        "- {'mlp1__hidden_layer_sizes': (50, 20), 'mlp2__hidden_layer_sizes': (100, 50), 'mlp3__hidden_layer_sizes': (80, 30)}\n",
        "\n",
        "Os resultados foram os seguintes:\n",
        "\n"
      ],
      "metadata": {
        "id": "6pMqLUnW4qk5"
      }
    },
    {
      "cell_type": "markdown",
      "source": [
        "\n",
        "\n",
        "Relatório de Classificação do melhor modelo do comitê de redes neurais:\n",
        "              \n",
        "              precision    recall  f1-score   support\n",
        "\n",
        "               0       0.84      0.80      0.82        51\n",
        "               1       0.74      0.78      0.76        37\n",
        "\n",
        "        accuracy                           0.80        88\n",
        "       macro avg       0.79      0.79      0.79        88\n",
        "    weighted avg       0.80      0.80      0.80        88\n"
      ],
      "metadata": {
        "id": "JHoeY50c44hX"
      }
    },
    {
      "cell_type": "markdown",
      "source": [
        "## MLP"
      ],
      "metadata": {
        "id": "m85LSeyE1Q1G"
      }
    },
    {
      "cell_type": "markdown",
      "source": [
        "### Base de dados normalizada"
      ],
      "metadata": {
        "id": "oNrErZHR5O4V"
      }
    },
    {
      "cell_type": "markdown",
      "source": [
        "Nessas condições o melhor resultado foi obtido usando os parâmetros obtidos pelo 1o GridSearch, que deu o seguinte resultado:"
      ],
      "metadata": {
        "id": "b7RJi5EI5b7o"
      }
    },
    {
      "cell_type": "markdown",
      "source": [
        "\n",
        "- Melhores parâmetros encontrados: {'hidden_layer_sizes': (50, 20)}\n",
        "\n",
        "Relatório de Classificação do melhor modelo:\n",
        "              \n",
        "                  precision    recall  f1-score   support\n",
        "\n",
        "               0       0.98      0.98      0.98      1313\n",
        "               1       0.45      0.35      0.40        51\n",
        "\n",
        "        accuracy                           0.96      1364\n",
        "       macro avg       0.71      0.67      0.69      1364\n",
        "    weighted avg       0.96      0.96      0.96      1364"
      ],
      "metadata": {
        "id": "8NxbAM426Ae_"
      }
    },
    {
      "cell_type": "markdown",
      "source": [
        "### Base de dados com oversampling"
      ],
      "metadata": {
        "id": "kK0lsyYX5PON"
      }
    },
    {
      "cell_type": "markdown",
      "source": [
        "Nesse database o melhor resultado foi enctrado pelo segundo GridSearch feito. Os resultados foram os seguintes:"
      ],
      "metadata": {
        "id": "k6dERSnQ5cdC"
      }
    },
    {
      "cell_type": "markdown",
      "source": [
        "\n",
        "- Melhores parâmetros para o comitê de redes neurais: {'alpha': 0.0001, 'learning_rate_init': 0.001}\n",
        "\n",
        "Relatório de Classificação do melhor modelo do comitê de redes neurais:\n",
        "  \n",
        "                    precision    recall  f1-score   support\n",
        "\n",
        "               0       1.00      0.98      0.99      1334\n",
        "               1       0.98      1.00      0.99      1306\n",
        "\n",
        "        accuracy                           0.99      2640\n",
        "       macro avg       0.99      0.99      0.99      2640\n",
        "    weighted avg       0.99      0.99      0.99      2640"
      ],
      "metadata": {
        "id": "C_20zi1i5dFH"
      }
    },
    {
      "cell_type": "markdown",
      "source": [
        "### Base de dados com undersampling"
      ],
      "metadata": {
        "id": "-_oSIhHo5Xm5"
      }
    },
    {
      "cell_type": "markdown",
      "source": [
        "Nesse caso o melhor conjunto de parâmetros foi encontrado no 1o GridSearch. O resultado foi o seguinte:"
      ],
      "metadata": {
        "id": "21XAvbax5eIo"
      }
    },
    {
      "cell_type": "markdown",
      "source": [
        "\n",
        "- Melhores parâmetros encontrados: {'hidden_layer_sizes': (50, 20)}\n",
        "\n",
        "Relatório de Classificação do melhor modelo:\n",
        "              \n",
        "                    precision    recall  f1-score   support\n",
        "\n",
        "               0       0.87      0.78      0.82        51\n",
        "               1       0.74      0.84      0.78        37\n",
        "\n",
        "        accuracy                           0.81        88\n",
        "       macro avg       0.80      0.81      0.80        88\n",
        "    weighted avg       0.81      0.81      0.81        88"
      ],
      "metadata": {
        "id": "lzGI3zYf677h"
      }
    },
    {
      "cell_type": "markdown",
      "source": [
        "## KNN"
      ],
      "metadata": {
        "id": "Fn1NYZ1v1TAI"
      }
    },
    {
      "cell_type": "markdown",
      "source": [
        "### Base de dados normalizada"
      ],
      "metadata": {
        "id": "4Zhu_P7X5enq"
      }
    },
    {
      "cell_type": "markdown",
      "source": [
        "Nesse contexto o melhor resultado foi encontrado pelo 1o GridSearch, com a seguinte configuração (vale notar que o 2o GridSearch achou o mesmo resultado):"
      ],
      "metadata": {
        "id": "MiTgr6P85nSZ"
      }
    },
    {
      "cell_type": "markdown",
      "source": [
        "- Melhores parâmetros encontrados: {'n_neighbors': 7}\n",
        "\n",
        "Relatório de Classificação do melhor modelo:\n",
        "              \n",
        "                    precision    recall  f1-score   support\n",
        "\n",
        "               0       0.97      1.00      0.98      1313\n",
        "               1       0.67      0.12      0.20        51\n",
        "\n",
        "        accuracy                           0.96      1364\n",
        "       macro avg       0.82      0.56      0.59      1364\n",
        "    weighted avg       0.96      0.96      0.95      1364"
      ],
      "metadata": {
        "id": "yGCF-iy57kOe"
      }
    },
    {
      "cell_type": "markdown",
      "source": [
        "### Base de dados com oversampling"
      ],
      "metadata": {
        "id": "1ctj9rQZ5hYK"
      }
    },
    {
      "cell_type": "markdown",
      "source": [
        "Nesse caso o melhor resultado foi obtido com os parâmetros encontrados no 1o GridSearch com a seguinte configuração:"
      ],
      "metadata": {
        "id": "O-tCdp8B5mLX"
      }
    },
    {
      "cell_type": "markdown",
      "source": [
        "- Melhores parâmetros encontrados: {'n_neighbors': 2}\n",
        "\n",
        "Relatório de Classificação do melhor modelo:\n",
        "              \n",
        "                    precision    recall  f1-score   support\n",
        "\n",
        "               0       1.00      0.94      0.97      1334\n",
        "               1       0.95      1.00      0.97      1306\n",
        "\n",
        "        accuracy                           0.97      2640\n",
        "       macro avg       0.97      0.97      0.97      2640\n",
        "    weighted avg       0.97      0.97      0.97      2640\n"
      ],
      "metadata": {
        "id": "f38Z3JgP8z__"
      }
    },
    {
      "cell_type": "markdown",
      "source": [
        "### Base de dados com undersampling"
      ],
      "metadata": {
        "id": "unLw0kBB5jFV"
      }
    },
    {
      "cell_type": "markdown",
      "source": [
        "Nesse caso o melhor resultado foi obtido com o segundo GridSearch com a seguinte configuração:"
      ],
      "metadata": {
        "id": "YdqB_9ZC5m2O"
      }
    },
    {
      "cell_type": "markdown",
      "source": [
        "\n",
        "- Melhores parâmetros encontrados: {'p': 1, 'weights': 'uniform'}\n",
        "\n",
        "Relatório de Classificação do melhor modelo:\n",
        "\n",
        "                    precision    recall  f1-score   support\n",
        "\n",
        "               0       0.88      0.82      0.85        51\n",
        "               1       0.78      0.84      0.81        37\n",
        "\n",
        "        accuracy                           0.83        88\n",
        "       macro avg       0.82      0.83      0.83        88\n",
        "    weighted avg       0.83      0.83      0.83        88"
      ],
      "metadata": {
        "id": "atdnSauU9LYd"
      }
    }
  ]
}